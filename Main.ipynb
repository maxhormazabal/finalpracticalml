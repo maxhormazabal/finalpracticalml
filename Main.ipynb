{
 "cells": [
  {
   "cell_type": "markdown",
   "id": "d5dd4668",
   "metadata": {},
   "source": [
    "# Machine Learning - Final assignment\n",
    "\n",
    "**Students:**\n",
    "<hr>\n",
    "Mutaz Abueisheh</br>\n",
    "Marcelo Jose Ferrer</br>\n",
    "Maximiliano Hormazábal Lagos</br>\n",
    "Mohamed Aymen Merchaoui</br>"
   ]
  },
  {
   "cell_type": "markdown",
   "id": "4a8f73db",
   "metadata": {},
   "source": [
    "## Classification problem\n",
    "\n",
    "Classify the dataset between this 10 classes.\n",
    "\n",
    "0 = Acoustic/Folk</br>\n",
    "1 = Alternative music</br>\n",
    "2 = Blues</br>\n",
    "3 = Bollywood</br>\n",
    "4 = Country</br>\n",
    "5 = Hip Hop</br>\n",
    "6 = Indie</br>\n",
    "7 = Instrumental</br>\n",
    "8 = Metal</br>\n",
    "9 = Pop</br>\n",
    "10 = Rock</br>\n",
    "\n",
    "https://www.kaggle.com/datasets/purumalgi/music-genre-classification"
   ]
  },
  {
   "cell_type": "markdown",
   "id": "4a8f73db",
   "metadata": {},
   "source": [
    "# Imports and declarations\n",
    "\n",
    "This section contains all imports and declarations"
   ]
  },
  {
   "cell_type": "code",
   "execution_count": 1,
   "id": "bb069517",
   "metadata": {},
   "outputs": [],
   "source": [
    "# The next packages must be installed to run the solution\n",
    "import Pkg; \n",
    "#Pkg.add(\"Flux\")\n",
    "#Pkg.add(\"RDatasets\")\n",
    "#Pkg.add(\"FeatureSelectors\")\n",
    "#Pkg.add(\"ScikitLearn\"))\n",
    "#Pkg.add(\"WeightedPCA\"))\n",
    "#Pkg.add(\"BetaML\")\n",
    "# Packages used To store and load models in and from disk\n",
    "# Pkg.add(\"JLD\")\n",
    "# Pkg.add(\"HDF5\")\n",
    "# Pkg.add(\"PyCallJLD\")"
   ]
  },
  {
   "cell_type": "code",
   "execution_count": 2,
   "id": "c20dbb46",
   "metadata": {},
   "outputs": [],
   "source": [
    "# Import libraries\n",
    "using Flux\n",
    "using Flux.Losses\n",
    "using DelimitedFiles\n",
    "using Statistics\n",
    "using Random\n",
    "using ScikitLearn\n",
    "using RDatasets\n",
    "using FeatureSelectors\n",
    "using JLD\n",
    "using PyCallJLD"
   ]
  },
  {
   "cell_type": "code",
   "execution_count": 3,
   "id": "4eb0c717",
   "metadata": {},
   "outputs": [
    {
     "data": {
      "text/plain": [
       "PyObject <class 'sklearn.decomposition._pca.PCA'>"
      ]
     },
     "execution_count": 3,
     "metadata": {},
     "output_type": "execute_result"
    }
   ],
   "source": [
    "# Import ScikitLearn models\n",
    "@sk_import svm:SVC\n",
    "@sk_import tree:DecisionTreeClassifier\n",
    "@sk_import linear_model:LogisticRegression\n",
    "@sk_import neighbors: KNeighborsClassifier\n",
    "@sk_import naive_bayes:GaussianNB \n",
    "@sk_import ensemble:VotingClassifier\n",
    "@sk_import ensemble:StackingClassifier\n",
    "@sk_import ensemble:BaggingClassifier\n",
    "@sk_import decomposition:PCA"
   ]
  },
  {
   "cell_type": "code",
   "execution_count": 4,
   "id": "2d6167a8",
   "metadata": {},
   "outputs": [
    {
     "data": {
      "text/plain": [
       "\"dataset/models/knn.jld\""
      ]
     },
     "execution_count": 4,
     "metadata": {},
     "output_type": "execute_result"
    }
   ],
   "source": [
    "# Constants\n",
    "# Execute model test set\n",
    "RUN_ANN_TEST = false\n",
    "RUN_SVM_TEST = false\n",
    "RUN_DT_TEST = false\n",
    "RUN_KNN_TEST = false\n",
    "ANN_FILE_PATH = \"dataset/models/ann.jld\"\n",
    "SVM_FILE_PATH = \"dataset/models/svm.jld\"\n",
    "DT_FILE_PATH = \"dataset/models/dt.jld\"\n",
    "KNN_FILE_PATH = \"dataset/models/knn.jld\""
   ]
  },
  {
   "cell_type": "code",
   "execution_count": 5,
   "id": "0f5166c4",
   "metadata": {},
   "outputs": [
    {
     "data": {
      "text/plain": [
       "loadModel (generic function with 1 method)"
      ]
     },
     "execution_count": 5,
     "metadata": {},
     "output_type": "execute_result"
    }
   ],
   "source": [
    "# Include the code done in previous practices\n",
    "include(\"utils/practices_code.jl\")\n",
    "# Class that handle the data processing\n",
    "include(\"utils/data_handler.jl\")\n",
    "# Class that handle the model processing\n",
    "include(\"utils/model_handler.jl\")"
   ]
  },
  {
   "cell_type": "markdown",
   "id": "418bdbe7",
   "metadata": {},
   "source": [
    "# Data preprocessing\n",
    "\n",
    "This section contains the preprocessing of the data"
   ]
  },
  {
   "cell_type": "code",
   "execution_count": 6,
   "id": "44543d00",
   "metadata": {},
   "outputs": [
    {
     "name": "stdout",
     "output_type": "stream",
     "text": [
      "Dataset original size: (17972, 17)\n",
      "Sample of original dataset: Any[\"Bruno Mars\", \"That's What I Like (feat. Gucci Mane)\", 52.2, 0.854, 0.564, 1.0, -8.630403119526399, 1, 0.03404, 0.0171, 0.00965882, 0.0849, 0.899, 134.071, 234.596, 4, 5]\n",
      "Inputs size: (17971, 14)\n",
      "Sample of inputs: Real[52.2, 0.854, 0.564, 1.0, 8.630403119526399, 1, 0.03404, 0.0171, 0.00965882, 0.0849, 0.899, 134.071, 234.596, 4]\n",
      "Outputs size: (17971,)\n",
      "Sample of Outputs: 5\n",
      "Sample of binary Outputs: Bool[1, 0, 0, 0, 0, 0, 0, 0, 0, 0, 0]\n"
     ]
    }
   ],
   "source": [
    "# Load the dataset and normalize\n",
    "dataset = readdlm(\"dataset/clean_music_genre.csv\",',');\n",
    "\n",
    "println(\"Dataset original size: \", size(dataset))\n",
    "println(\"Sample of original dataset: \", dataset[2,1:17])\n",
    "\n",
    "# Remove line of headers, artist and song name. Separate train_x and train_y\n",
    "train_x = dataset[2:size(dataset,1),3:16]\n",
    "train_y = dataset[2:size(dataset,1),17]\n",
    "\n",
    "# Transform columns to positive values\n",
    "train_x = abs.(train_x)\n",
    "\n",
    "# normalized_inputs = normalizeMinMax!(train_x) --> must be after splitting\n",
    "binary_outputs = oneHotEncoding(train_y)\n",
    "\n",
    "println(\"Inputs size: \", size(train_x))\n",
    "println(\"Sample of inputs: \", train_x[1,1:14])\n",
    "println(\"Outputs size: \", size(train_y))\n",
    "println(\"Sample of Outputs: \", train_y[1])\n",
    "println(\"Sample of binary Outputs: \", binary_outputs[1,1:11])"
   ]
  },
  {
   "cell_type": "code",
   "execution_count": 7,
   "id": "6bf4bcf1",
   "metadata": {},
   "outputs": [
    {
     "name": "stdout",
     "output_type": "stream",
     "text": [
      "Size original input data: (17971, 14)\n",
      "Size original output data: (17971, 11)\n",
      "Size train input data: (14377, 14)\n",
      "Size train output data: (14377, 11)\n",
      "Size test input data: (3594, 14)\n",
      "Size test output data: (3594, 11)\n",
      "Sample original input data: Real[52.2, 0.854, 0.564, 1.0, 8.630403119526399, 1, 0.03404, 0.0171, 0.00965882, 0.0849, 0.899, 134.071, 234.596, 4]\n",
      "Sample train input data: [0.3645833333333333, 0.935442220787605, 0.6266190394059059, 0.3, 0.26251335945849663, 1.0, 0.07726161369193155, 0.04849397590361446, 0.00014017539446232097, 0.1218637992831541, 0.8687609796424511, 0.4855961240479257, 0.10945638869159291, 0.75]\n",
      "Sample test input data: [0.4329896907216495, 0.2831819189009528, 0.4550736251627768, 0.4, 0.38778462112728623, 0.0, 0.05503685503685504, 0.6395582329317269, 1.301628679155151e-6, 0.14336868199972455, 0.330893883951908, 0.4933398946461923, 0.10401569074701209, 0.75]\n"
     ]
    }
   ],
   "source": [
    "# Using Hold Out function to split dataset into train and test\n",
    "indexs = holdOut(size(train_x,1),0.2)\n",
    "\n",
    "train_input = train_x[indexs[1],:]\n",
    "train_output = binary_outputs[indexs[1],:]\n",
    "\n",
    "test_input = train_x[indexs[2],:]\n",
    "test_output = binary_outputs[indexs[2],:]\n",
    "\n",
    "#normalization after splitting, so test data cannot affect the train data and the first touch between them should be in predictions.\n",
    "train_input = normalizeMinMax!(train_input)\n",
    "test_input = normalizeMinMax!(test_input)\n",
    "\n",
    "println(\"Size original input data: \", size(train_x))\n",
    "println(\"Size original output data: \", size(binary_outputs))\n",
    "\n",
    "println(\"Size train input data: \", size(train_input))\n",
    "println(\"Size train output data: \", size(train_output))\n",
    "\n",
    "println(\"Size test input data: \", size(test_input))\n",
    "println(\"Size test output data: \", size(test_output))\n",
    "\n",
    "println(\"Sample original input data: \", train_x[1,1:14])\n",
    "println(\"Sample train input data: \", train_input[1,1:14])\n",
    "println(\"Sample test input data: \", test_input[1,1:14])"
   ]
  },
  {
   "cell_type": "code",
   "execution_count": 8,
   "id": "7dd11ef1",
   "metadata": {},
   "outputs": [
    {
     "name": "stdout",
     "output_type": "stream",
     "text": [
      "Train Patterns (14377, 14) -> (14377, 10)Test Patterns (3594, 14) -> (3594, 10)"
     ]
    }
   ],
   "source": [
    "# applying PCA, \n",
    "pca = PCA(0.95)\n",
    "fit!(pca, train_input)\n",
    "\n",
    "pca_train = pca.transform(train_input)\n",
    "pca_test = pca.transform(test_input)\n",
    "\n",
    "print(\"Train Patterns \", size(train_input), \" -> \", size(pca_train))\n",
    "print(\"Test Patterns \", size(test_input), \" -> \", size(pca_test))\n",
    "\n",
    "# PCA based on 95% variance, suggests that there are 5 features have noise and should be eliminated\n",
    "# from the input data, it's worth to try apply it and compare, maybe after finding the optimaal\n",
    "# parameters of the model"
   ]
  },
  {
   "cell_type": "code",
   "execution_count": 9,
   "id": "0e8b1d00",
   "metadata": {},
   "outputs": [],
   "source": [
    "# Feature Selection:\n",
    "# this function can be used to the most K important features after normalization and splitting.\n",
    "# for optimal number of K, I am still searching\n",
    "#FeatureSelection(train_x,train_y,k)"
   ]
  },
  {
   "cell_type": "markdown",
   "id": "221f9e00",
   "metadata": {},
   "source": [
    "# Model experimentation\n",
    "\n",
    "This section contains all experimentation of the models"
   ]
  },
  {
   "cell_type": "code",
   "execution_count": 10,
   "id": "66278936",
   "metadata": {},
   "outputs": [
    {
     "name": "stdout",
     "output_type": "stream",
     "text": [
      "(14377,)"
     ]
    }
   ],
   "source": [
    "indexs = crossvalidation(train_output, 10)\n",
    "kFoldIndices = convert(Vector{Int64}, indexs)\n",
    "\n",
    "print(size(kFoldIndices))"
   ]
  },
  {
   "cell_type": "code",
   "execution_count": 11,
   "id": "23a05b0a",
   "metadata": {},
   "outputs": [],
   "source": [
    "if RUN_ANN_TEST\n",
    "    test_ANN_Model(train_input, train_output, test_input, test_output, kFoldIndices, ANN_FILE_PATH)\n",
    "end"
   ]
  },
  {
   "cell_type": "code",
   "execution_count": 12,
   "id": "acb61da5",
   "metadata": {},
   "outputs": [],
   "source": [
    "if RUN_SVM_TEST\n",
    "    test_SVM_Model(train_input, train_output, test_input, test_output, kFoldIndices, SVM_FILE_PATH)\n",
    "end"
   ]
  },
  {
   "cell_type": "code",
   "execution_count": 13,
   "id": "4be19d34",
   "metadata": {},
   "outputs": [
    {
     "name": "stdout",
     "output_type": "stream",
     "text": [
      "Test results for Decision tree model: \n",
      "Parameters: Dict{Any, Any}(\"max_depth\" => 4, \"random_state\" => 1, \"splitter\" => \"best\", \"criterion\" => \"gini\", \"min_samples_split\" => 2) Accuracy: 0.06844863761931855 Fscore: 0.11173232538116482\n",
      "Parameters: Dict{Any, Any}(\"max_depth\" => 3, \"random_state\" => 1, \"splitter\" => \"best\", \"criterion\" => \"gini\", \"min_samples_split\" => 2) Accuracy: 0.06052121285510287 Fscore: 0.09217429512434944\n",
      "Parameters: Dict{Any, Any}(\"max_depth\" => 2, \"random_state\" => 1, \"splitter\" => \"best\", \"criterion\" => \"gini\", \"min_samples_split\" => 2) Accuracy: 0.05244903565532292 Fscore: 0.04662009458928438\n",
      "Parameters: Dict{Any, Any}(\"max_depth\" => 1, \"random_state\" => 1, \"splitter\" => \"best\", \"criterion\" => \"gini\", \"min_samples_split\" => 2) Accuracy: 0.0 Fscore: 0.0\n",
      "Parameters: Dict{Any, Any}(\"max_depth\" => 5, \"random_state\" => 1, \"splitter\" => \"best\", \"criterion\" => \"gini\", \"min_samples_split\" => 2) Accuracy: 0.07664459291919179 Fscore: 0.13072078189655384\n",
      "Parameters: Dict{Any, Any}(\"max_depth\" => 6, \"random_state\" => 1, \"splitter\" => \"best\", \"criterion\" => \"gini\", \"min_samples_split\" => 2) Accuracy: 0.10272353217184271 Fscore: 0.15839778221918174\n",
      "Parameters: Dict{Any, Any}(\"max_depth\" => 7, \"random_state\" => 1, \"splitter\" => \"best\", \"criterion\" => \"gini\", \"min_samples_split\" => 2) Accuracy: 0.1226408599680903 Fscore: 0.18724296241808555\n",
      "Parameters: Dict{Any, Any}(\"max_depth\" => 7, \"random_state\" => 1, \"splitter\" => \"random\", \"criterion\" => \"gini\", \"min_samples_split\" => 2) Accuracy: 0.09097398260398389 Fscore: 0.154619777361279\n",
      "Parameters: Dict{Any, Any}(\"max_depth\" => 7, \"random_state\" => 1, \"splitter\" => \"best\", \"criterion\" => \"gini\", \"min_samples_split\" => 4) Accuracy: 0.12298842141564488 Fscore: 0.1873826324789451\n",
      "Parameters: Dict{Any, Any}(\"max_depth\" => 7, \"random_state\" => 1, \"splitter\" => \"best\", \"criterion\" => \"gini\", \"min_samples_split\" => 3) Accuracy: 0.12264081144079073 Fscore: 0.1871626709787967\n",
      "//////////////////////////////////////////\n",
      "Best parameters: Dict{Any, Any}(\"max_depth\" => 7, \"random_state\" => 1, \"splitter\" => \"best\", \"criterion\" => \"gini\", \"min_samples_split\" => 4) Best accuracy: 0.12298842141564488\n",
      "Test: Accuracy: 0.13439065108514192 Error rate: 0.8656093489148581 Sensitivity: 0.15589641102726068 Specificity rate: 0.9859644757058525 FScore: 0.18956445602209532\n"
     ]
    }
   ],
   "source": [
    "if RUN_DT_TEST\n",
    "    test_DT_Model(train_input, train_output, test_input, test_output, kFoldIndices, DT_FILE_PATH)\n",
    "end"
   ]
  },
  {
   "cell_type": "code",
   "execution_count": 14,
   "id": "77a9c09f",
   "metadata": {},
   "outputs": [
    {
     "name": "stdout",
     "output_type": "stream",
     "text": [
      "Test results for KNN model: \n",
      "Parameters: Dict{Any, Any}(\"n_neighbors\" => 3, \"metric\" => \"nan_euclidean\", \"weights\" => \"uniform\") Accuracy: 0.21137083712441168 Fscore: 0.2471970667948587\n",
      "Parameters: Dict{Any, Any}(\"n_neighbors\" => 2, \"metric\" => \"nan_euclidean\", \"weights\" => \"uniform\") Accuracy: 0.10523118478464968 Fscore: 0.1584495662300173\n",
      "Parameters: Dict{Any, Any}(\"n_neighbors\" => 1, \"metric\" => \"nan_euclidean\", \"weights\" => \"uniform\") Accuracy: 0.259787322078058 Fscore: 0.2524858270121835\n",
      "Parameters: Dict{Any, Any}(\"n_neighbors\" => 4, \"metric\" => \"nan_euclidean\", \"weights\" => \"uniform\") Accuracy: 0.11031417637929504 Fscore: 0.16307332302098493\n",
      "Parameters: Dict{Any, Any}(\"n_neighbors\" => 5, \"metric\" => \"nan_euclidean\", \"weights\" => \"uniform\") Accuracy: 0.18265450231952643 Fscore: 0.21937191931909616\n",
      "Parameters: Dict{Any, Any}(\"n_neighbors\" => 6, \"metric\" => \"nan_euclidean\", \"weights\" => \"uniform\") Accuracy: 0.11184413419640564 Fscore: 0.16084086746734866\n",
      "Parameters: Dict{Any, Any}(\"n_neighbors\" => 7, \"metric\" => \"nan_euclidean\", \"weights\" => \"uniform\") Accuracy: 0.16324497787452052 Fscore: 0.20191446488821652\n",
      "Parameters: Dict{Any, Any}(\"n_neighbors\" => 8, \"metric\" => \"nan_euclidean\", \"weights\" => \"uniform\") Accuracy: 0.10788070869551811 Fscore: 0.15488683083400132\n",
      "Parameters: Dict{Any, Any}(\"n_neighbors\" => 9, \"metric\" => \"nan_euclidean\", \"weights\" => \"uniform\") Accuracy: 0.14620468154997637 Fscore: 0.18438022354079112\n",
      "Parameters: Dict{Any, Any}(\"n_neighbors\" => 10, \"metric\" => \"nan_euclidean\", \"weights\" => \"uniform\") Accuracy: 0.10315194283354016 Fscore: 0.14919141575297232\n",
      "Parameters: Dict{Any, Any}(\"n_neighbors\" => 11, \"metric\" => \"nan_euclidean\", \"weights\" => \"uniform\") Accuracy: 0.13938758720683792 Fscore: 0.1776612296438759\n",
      "Parameters: Dict{Any, Any}(\"n_neighbors\" => 1, \"metric\" => \"nan_euclidean\", \"weights\" => \"distance\") Accuracy: 0.259787322078058 Fscore: 0.2524858270121835\n",
      "Parameters: Dict{Any, Any}(\"n_neighbors\" => 1, \"metric\" => \"minkowski\", \"weights\" => \"uniform\") Accuracy: 0.26041149830836974 Fscore: 0.2527602618546063\n",
      "//////////////////////////////////////////\n",
      "Best parameters: Dict{Any, Any}(\"n_neighbors\" => 1, \"metric\" => \"minkowski\", \"weights\" => \"uniform\") Best accuracy: 0.26041149830836974\n",
      "Test: Accuracy: 0.2534780189204229 Sensitivity: 0.2516440305963197 Specificity rate: 0.92000503030658 FScore: 0.253146190676575\n"
     ]
    }
   ],
   "source": [
    "if RUN_KNN_TEST\n",
    "    test_KNN_Model(train_input, train_output, test_input, test_output, kFoldIndices, KNN_FILE_PATH)\n",
    "end"
   ]
  },
  {
   "cell_type": "code",
   "execution_count": 15,
   "id": "a41cf6a9",
   "metadata": {},
   "outputs": [],
   "source": [
    "# Get the best models\n",
    "#=best_SVM = loadModel(DT_FILE_PATH)\n",
    "if isnothing(best_SVM)\n",
    "    best_SVM = get_Best_SVM(train_input, train_output, kFoldIndices)\n",
    "end=#\n",
    "best_DT = loadModel(DT_FILE_PATH)\n",
    "if isnothing(best_DT)\n",
    "    best_DT = get_Best_DT(train_input, train_output, kFoldIndices)\n",
    "end\n",
    "best_KNN = loadModel(KNN_FILE_PATH)\n",
    "if isnothing(best_KNN)\n",
    "    best_KNN = get_Best_KNN(train_input, train_output, kFoldIndices)\n",
    "end"
   ]
  },
  {
   "cell_type": "code",
   "execution_count": 16,
   "id": "04b0a9f1",
   "metadata": {},
   "outputs": [],
   "source": [
    "#Define the models to train\n",
    "\n",
    "#=models = Dict( \"SVM\" => SVC(probability=true), \n",
    "         \"LR\" =>LogisticRegression(),\n",
    "         \"DT\"=> DecisionTreeClassifier(max_depth=4),\n",
    "         \"NB\"=> GaussianNB())\n",
    "\n",
    "base_models =  [ name for name in keys(models)]=#"
   ]
  },
  {
   "cell_type": "code",
   "execution_count": 17,
   "id": "c3a595d7",
   "metadata": {},
   "outputs": [],
   "source": [
    "# Perform the training for each model and calculate the test values (accuracy)\n",
    "#=for key in keys(models)\n",
    "    model = models[key]\n",
    "    fit!(model,train_input, train_output)\n",
    "    acc = score(model,test_input, test_output)\n",
    "    println(\"$key: $(acc*100) %\")\n",
    "end=#"
   ]
  },
  {
   "cell_type": "code",
   "execution_count": 18,
   "id": "1554b29c",
   "metadata": {},
   "outputs": [],
   "source": [
    "#Define the metaclassifier based on the base_models\n",
    "#=models[\"Ensemble (Hard Voting)\"] = VotingClassifier(estimators = [(name,models[name]) for name in base_models], \n",
    "                                                   n_jobs=-1)\n",
    "fit!(models[\"Ensemble (Hard Voting)\"], train_input, train_output)\n",
    "\n",
    "for key in keys(models)\n",
    "    model = models[key]\n",
    "    acc = score(model,test_input, test_output)\n",
    "    println(\"$key: $(acc*100) %\")\n",
    "end=#"
   ]
  },
  {
   "cell_type": "code",
   "execution_count": 19,
   "id": "260da3e6",
   "metadata": {},
   "outputs": [],
   "source": [
    "#=models[\"Ensemble (Soft Voting)\"] = VotingClassifier(estimators = [(name,models[name]) for name in base_models], \n",
    "                                                   n_jobs=-1, voting=\"soft\",weights=[1,2,2,1])\n",
    "fit!(models[\"Ensemble (Soft Voting)\"],train_input, train_output)\n",
    "\n",
    "for key in keys(models)\n",
    "    model = models[key]\n",
    "    acc = score(model,train_input, train_output)\n",
    "    println(\"$key: $(acc*100) %\")\n",
    "end=#"
   ]
  },
  {
   "cell_type": "code",
   "execution_count": 20,
   "id": "c70391c2",
   "metadata": {
    "scrolled": true
   },
   "outputs": [],
   "source": [
    "#=models[\"Ensemble (Stacking)\"] = StackingClassifier(estimators=[(name,models[name]) for name in base_models],\n",
    "    final_estimator=SVC(probability=true), n_jobs=-1)\n",
    "fit!(models[\"Ensemble (Stacking)\"], train_input, train_output)=#"
   ]
  },
  {
   "cell_type": "code",
   "execution_count": 21,
   "id": "ed598b78",
   "metadata": {},
   "outputs": [],
   "source": [
    "#=for key in keys(models)\n",
    "    model = models[key]\n",
    "    acc = score(model,train_input, train_output)\n",
    "    println(\"$key: $(acc*100) %\")\n",
    "end=#"
   ]
  },
  {
   "cell_type": "code",
   "execution_count": 22,
   "id": "bd7750d8",
   "metadata": {},
   "outputs": [],
   "source": [
    "#=models[\"Bagging (SVC)\"] = BaggingClassifier(base_estimator=SVC(),n_estimators=10, max_samples=0.50, n_jobs=-1)\n",
    "fit!(models[\"Bagging (SVC)\"], train_input, train_output)\n",
    "\n",
    "for key in keys(models)\n",
    "    model = models[key]\n",
    "    acc = score(model,train_input, train_output)\n",
    "    println(\"$key: $(acc*100) %\")\n",
    "end=#"
   ]
  },
  {
   "cell_type": "code",
   "execution_count": 23,
   "id": "830a90e3",
   "metadata": {},
   "outputs": [],
   "source": [
    "#=@sk_import ensemble:(AdaBoostClassifier, GradientBoostingClassifier)\n",
    "\n",
    "models[\"Ada\"] = AdaBoostClassifier(n_estimators=30)\n",
    "fit!(models[\"Ada\"], train_input, train_output)\n",
    "\n",
    "models[\"GTB\"] = GradientBoostingClassifier(n_estimators=30, learning_rate=1.0, max_depth=2, random_state=0)\n",
    "fit!(models[\"GTB\"], train_input, train_output)\n",
    "\n",
    "for key in keys(models)\n",
    "    model = models[key]\n",
    "    acc = score(model,test_input, test_output)\n",
    "    println(\"$key: $(acc*100) %\")\n",
    "end=#\n"
   ]
  },
  {
   "cell_type": "code",
   "execution_count": 24,
   "id": "668be4f9",
   "metadata": {},
   "outputs": [],
   "source": [
    "#=@sk_import ensemble:RandomForestClassifier\n",
    "\n",
    "models[\"RF\"] = RandomForestClassifier(n_estimators=8, max_depth=nothing,\n",
    "                                    min_samples_split=2, n_jobs=-1)\n",
    "fit!(models[\"RF\"], train_input, train_output)\n",
    "    \n",
    "for key in keys(models)\n",
    "    model = models[key]\n",
    "    acc = score(model,test_input, test_output)\n",
    "    println(\"$key: $(acc*100) %\")\n",
    "end=#"
   ]
  },
  {
   "cell_type": "code",
   "execution_count": 25,
   "id": "ea85f5cd",
   "metadata": {},
   "outputs": [],
   "source": [
    "#=p = bar(y=1:60,models[\"RF\"].feature_importances_, orientation=:horizontal, legend = false)\n",
    "xlabel!(p,\"Gini Gain\")\n",
    "ylabel!(p,\"Fearure\")\n",
    "title!(\"Feature Importance\")=#"
   ]
  },
  {
   "cell_type": "code",
   "execution_count": 26,
   "id": "a03972c9",
   "metadata": {},
   "outputs": [],
   "source": [
    "#=using Pkg;\n",
    "Pkg.add(\"XGBoost\")=#"
   ]
  },
  {
   "cell_type": "code",
   "execution_count": 27,
   "id": "f7fd5e0c",
   "metadata": {},
   "outputs": [],
   "source": [
    "#=using XGBoost;\n",
    "\n",
    "train_output_asNumber= Vector{Number}(train_output);\n",
    "\n",
    "@assert train_output_asNumber isa Vector{Number}=#"
   ]
  },
  {
   "cell_type": "code",
   "execution_count": 28,
   "id": "eec905d3",
   "metadata": {
    "scrolled": true
   },
   "outputs": [],
   "source": [
    "#model = xgboost(train_input, 20, label = train_output_asNumber, eta = 1, max_depth = 6)"
   ]
  },
  {
   "cell_type": "code",
   "execution_count": 29,
   "id": "40ab769b",
   "metadata": {},
   "outputs": [],
   "source": [
    "#=param = [\"max_depth\" => 2,\n",
    "         \"eta\" => 1,\n",
    "         \"objective\" => \"binary:logistic\"]\n",
    "metrics = metrics = [\"error\", \"auc\"]\n",
    "model = xgboost(train_input, 20, label = train_output_asNumber, param = param, metrics = metrics)\n",
    "\n",
    "pred = predict(model, train_input)=#"
   ]
  },
  {
   "cell_type": "code",
   "execution_count": 30,
   "id": "a468354c",
   "metadata": {
    "scrolled": true
   },
   "outputs": [],
   "source": [
    "#=using XGBoost: predict as predict_xgb\n",
    "\n",
    "pred = predict_xgb(model, test_input)\n",
    "print(\"Error of XGboost= \", sum((pred .> 0.5) .!= test_output) / float(size(pred)[1]), \"\\n\")=#"
   ]
  },
  {
   "cell_type": "code",
   "execution_count": 31,
   "id": "74e86f1d",
   "metadata": {
    "scrolled": true
   },
   "outputs": [],
   "source": [
    "#=feature_gain = map(x-> (x.fname,x.gain), importance(model))\n",
    "feature, gain = first.(feature_gain), last.(feature_gain)\n",
    "\n",
    "using Plots;\n",
    "\n",
    "p = bar(gain, y=feature, orientation=\"h\", legend=false)\n",
    "xlabel!(p,\"Gain\")\n",
    "ylabel!(p,\"Feature\")\n",
    "title!(\"Feature Importance\")=#"
   ]
  }
 ],
 "metadata": {
  "kernelspec": {
   "display_name": "Julia 1.8.1",
   "language": "julia",
   "name": "julia-1.8"
  },
  "language_info": {
   "file_extension": ".jl",
   "mimetype": "application/julia",
   "name": "julia",
   "version": "1.8.1"
  }
 },
 "nbformat": 4,
 "nbformat_minor": 5
}
