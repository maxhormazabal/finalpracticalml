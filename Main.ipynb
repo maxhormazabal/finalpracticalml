{
 "cells": [
  {
   "cell_type": "markdown",
   "id": "d5dd4668",
   "metadata": {},
   "source": [
    "# Machine Learning - Final assignment\n",
    "\n",
    "**Students:**\n",
    "<hr>\n",
    "Mutaz Abueisheh</br>\n",
    "Marcelo Jose Ferrer</br>\n",
    "Maximiliano Hormazábal Lagos</br>\n",
    "Mohamed Aymen Merchaoui</br>"
   ]
  },
  {
   "cell_type": "markdown",
   "id": "4a8f73db",
   "metadata": {},
   "source": [
    "## Classification problem\n",
    "\n",
    "Classify the dataset between this 10 classes.\n",
    "\n",
    "0 = Acoustic/Folk</br>\n",
    "1 = Alternative music</br>\n",
    "2 = Blues</br>\n",
    "3 = Bollywood</br>\n",
    "4 = Country</br>\n",
    "5 = Hip Hop</br>\n",
    "6 = Indie</br>\n",
    "7 = Instrumental</br>\n",
    "8 = Metal</br>\n",
    "9 = Pop</br>\n",
    "10 = Rock</br>\n",
    "\n",
    "https://www.kaggle.com/datasets/purumalgi/music-genre-classification"
   ]
  },
  {
   "cell_type": "markdown",
   "id": "4a8f73db",
   "metadata": {},
   "source": [
    "# Imports and declarations\n",
    "\n",
    "This section contains all imports and declarations"
   ]
  },
  {
   "cell_type": "code",
   "execution_count": 1,
   "id": "bb069517",
   "metadata": {},
   "outputs": [],
   "source": [
    "# The next packages must be installed to run the solution\n",
    "import Pkg; \n",
    "#Pkg.add(\"Flux\")\n",
    "#Pkg.add(\"RDatasets\")\n",
    "#Pkg.add(\"FeatureSelectors\")\n",
    "#Pkg.add(\"ScikitLearn\"))\n",
    "#Pkg.add(\"WeightedPCA\"))\n",
    "#Pkg.add(\"BetaML\")\n",
    "# Packages used To store and load models in and from disk\n",
    "# Pkg.add(\"JLD\")\n",
    "# Pkg.add(\"HDF5\")\n",
    "# Pkg.add(\"PyCallJLD\")\n",
    "# Package use to count distribution\n",
    "# Pkg.add(\"DataStructures\")\n",
    "# Pkg.add(\"MLDataPattern\")"
   ]
  },
  {
   "cell_type": "code",
   "execution_count": 2,
   "id": "c20dbb46",
   "metadata": {},
   "outputs": [],
   "source": [
    "# Import libraries\n",
    "using Flux\n",
    "using Flux.Losses\n",
    "using DelimitedFiles\n",
    "using Statistics\n",
    "using Random\n",
    "using ScikitLearn\n",
    "using RDatasets\n",
    "using FeatureSelectors\n",
    "using JLD\n",
    "using PyCallJLD\n",
    "using DataStructures\n",
    "using MLDataPattern"
   ]
  },
  {
   "cell_type": "code",
   "execution_count": 3,
   "id": "4eb0c717",
   "metadata": {},
   "outputs": [
    {
     "data": {
      "text/plain": [
       "PyObject <class 'sklearn.decomposition._pca.PCA'>"
      ]
     },
     "execution_count": 3,
     "metadata": {},
     "output_type": "execute_result"
    }
   ],
   "source": [
    "# Import ScikitLearn models\n",
    "@sk_import svm:SVC\n",
    "@sk_import tree:DecisionTreeClassifier\n",
    "@sk_import linear_model:LogisticRegression\n",
    "@sk_import neighbors: KNeighborsClassifier\n",
    "@sk_import naive_bayes:GaussianNB \n",
    "@sk_import ensemble:VotingClassifier\n",
    "@sk_import ensemble:StackingClassifier\n",
    "@sk_import ensemble:BaggingClassifier\n",
    "@sk_import decomposition:PCA"
   ]
  },
  {
   "cell_type": "code",
   "execution_count": 4,
   "id": "2d6167a8",
   "metadata": {},
   "outputs": [
    {
     "data": {
      "text/plain": [
       "\"dataset/models/knn.jld\""
      ]
     },
     "execution_count": 4,
     "metadata": {},
     "output_type": "execute_result"
    }
   ],
   "source": [
    "# Constants\n",
    "# Execute model test set\n",
    "RUN_ANN_TEST = false\n",
    "RUN_SVM_TEST = false\n",
    "RUN_DT_TEST = false\n",
    "RUN_KNN_TEST = true\n",
    "ANN_FILE_PATH = \"dataset/models/ann.jld\"\n",
    "SVM_FILE_PATH = \"dataset/models/svm.jld\"\n",
    "DT_FILE_PATH = \"dataset/models/dt.jld\"\n",
    "KNN_FILE_PATH = \"dataset/models/knn.jld\""
   ]
  },
  {
   "cell_type": "code",
   "execution_count": 5,
   "id": "0f5166c4",
   "metadata": {},
   "outputs": [
    {
     "data": {
      "text/plain": [
       "loadModel (generic function with 1 method)"
      ]
     },
     "execution_count": 5,
     "metadata": {},
     "output_type": "execute_result"
    }
   ],
   "source": [
    "# Include the code done in previous practices\n",
    "include(\"utils/practices_code.jl\")\n",
    "# Class that handle the data processing\n",
    "include(\"utils/data_handler.jl\")\n",
    "# Class that handle the model processing\n",
    "include(\"utils/model_handler.jl\")"
   ]
  },
  {
   "cell_type": "markdown",
   "id": "418bdbe7",
   "metadata": {},
   "source": [
    "# Data preprocessing\n",
    "\n",
    "This section contains the preprocessing of the data"
   ]
  },
  {
   "cell_type": "code",
   "execution_count": 6,
   "id": "44543d00",
   "metadata": {},
   "outputs": [
    {
     "name": "stdout",
     "output_type": "stream",
     "text": [
      "Dataset original size: (17924, 13)\n",
      "Sample of original dataset: Any[52.2, 0.854, 0.564, 12.18585911937475, 0.0171, 0.899, 134.071, 234.596, 1, 0, 0.03404, 0.00965882, 5]\n",
      "17924\n",
      "13\n",
      "Inputs size: (17923, 12)\n",
      "Sample of inputs: Any[52.2, 0.854, 0.564, 12.18585911937475, 0.0171, 0.899, 134.071, 234.596, 1, 0, 0.03404, 0.00965882]\n",
      "Sample of inputs: Any[54.0, 0.382, 0.814, 13.58626223890115, 0.0011, 0.569, 116.454, 251.733, 0, 0, 0.0406, 0.00401]\n",
      "Outputs size: (17923,)\n",
      "Sample of Outputs: 5\n",
      "Sample of Outputs: 10\n"
     ]
    }
   ],
   "source": [
    "# Load the dataset and normalize\n",
    "dataset = readdlm(\"dataset/kbest_df.csv\",',');\n",
    "\n",
    "println(\"Dataset original size: \", size(dataset))\n",
    "println(\"Sample of original dataset: \", dataset[2,:])\n",
    "\n",
    "println(size(dataset,1))\n",
    "println(size(dataset,2))\n",
    "\n",
    "# Separate train_x and train_y\n",
    "train_x = dataset[2:size(dataset,1),1:size(dataset,2)-1]\n",
    "train_y = dataset[2:size(dataset,1),size(dataset,2)]\n",
    "\n",
    "# Convert to string the classes\n",
    "train_y = string.(train_y)\n",
    "\n",
    "# normalized_inputs = normalizeMinMax!(train_x) --> must be after splitting\n",
    "# binary_outputs = oneHotEncoding(train_y) --> Done only for Ann on training\n",
    "\n",
    "println(\"Inputs size: \", size(train_x))\n",
    "println(\"Sample of inputs: \", train_x[1,:])\n",
    "println(\"Sample of inputs: \", train_x[2,:])\n",
    "println(\"Outputs size: \", size(train_y))\n",
    "println(\"Sample of Outputs: \", train_y[1])\n",
    "println(\"Sample of Outputs: \", train_y[2])"
   ]
  },
  {
   "cell_type": "code",
   "execution_count": 7,
   "id": "6bf4bcf1",
   "metadata": {},
   "outputs": [
    {
     "name": "stdout",
     "output_type": "stream",
     "text": [
      "Size original input data: (17923, 12)\n",
      "Size original output data: (17923,)\n",
      "Size train input data: (14338, 12)\n",
      "Size train output data: (14338,)\n",
      "Size test input data: (3585, 12)\n",
      "Size test output data: (3585,)\n",
      "Sample original input data: Any[52.2, 0.854, 0.564, 12.18585911937475, 0.0171, 0.899, 134.071, 234.596, 1, 0, 0.03404, 0.00965882]\n",
      "Sample train input data: [0.425531914893617, 0.40606843124596514, 0.8199963459258223, 0.6896875346178637, 0.07931726907630522, 0.6350440642820114, 0.4095655012603085, 0.12097064552694589, 0.0, 0.0, 0.056723716381418085, 4.943685786840785e-5]\n",
      "Sample test input data: [0.6391752577319587, 0.744429882044561, 0.9789528543938422, 0.7767214862676063, 0.0557218866116464, 0.6572434503468987, 0.6434234774782496, 0.4320165392362321, 0.0, 0.0, 0.37002457002457, 5.017528244935579e-5]\n",
      "Unique Outputs: [\"5\", \"10\", \"6\", \"2\", \"Other\", \"8\", \"9\", \"1\"]\n"
     ]
    }
   ],
   "source": [
    "# Using Hold Out function to split dataset into train and test\n",
    "indexs = holdOut(size(train_x,1),0.2)\n",
    "\n",
    "train_input = train_x[indexs[1],:]\n",
    "train_output = vec(train_y[indexs[1],:])\n",
    "\n",
    "test_input = train_x[indexs[2],:]\n",
    "test_output = vec(train_y[indexs[2],:])\n",
    "\n",
    "#normalization after splitting, so test data cannot affect the train data and the first touch between them should be in predictions.\n",
    "train_input = normalizeMinMax!(train_input)\n",
    "test_input = normalizeMinMax!(test_input)\n",
    "\n",
    "println(\"Size original input data: \", size(train_x))\n",
    "println(\"Size original output data: \", size(train_y))\n",
    "\n",
    "println(\"Size train input data: \", size(train_input))\n",
    "println(\"Size train output data: \", size(train_output))\n",
    "\n",
    "println(\"Size test input data: \", size(test_input))\n",
    "println(\"Size test output data: \", size(test_output))\n",
    "\n",
    "println(\"Sample original input data: \", train_x[1,:])\n",
    "println(\"Sample train input data: \", train_input[1,:])\n",
    "println(\"Sample test input data: \", test_input[1,:])\n",
    "\n",
    "println(\"Unique Outputs: \", unique(train_y))"
   ]
  },
  {
   "cell_type": "code",
   "execution_count": 8,
   "id": "6c3feb7e",
   "metadata": {},
   "outputs": [],
   "source": [
    "# Uncomment to over or under sample. Commented because accuracy reduction\n",
    "#=println(\"Inputs size: \", size(train_input))\n",
    "println(\"Outputs size: \", size(train_output))\n",
    "\n",
    "balanced_x, balanced_y = oversample((train_input', train_output))\n",
    "balanced_x, balanced_y = undersample((train_input', train_output))\n",
    "\n",
    "println(\"Outputs Values: \", unique(train_output))\n",
    "println(\"Before balance:\", counter(train_output))\n",
    "\n",
    "train_input = getobs(balanced_x')\n",
    "train_output = getobs(balanced_y)\n",
    "\n",
    "println(\"After balance:\", counter(train_output))=#"
   ]
  },
  {
   "cell_type": "code",
   "execution_count": 9,
   "id": "7dd11ef1",
   "metadata": {},
   "outputs": [],
   "source": [
    "# applying PCA\n",
    "#=pca = PCA(0.95)\n",
    "fit!(pca, train_input)\n",
    "\n",
    "pca_train = pca.transform(train_input)\n",
    "pca_test = pca.transform(test_input)\n",
    "\n",
    "println(\"Train Patterns \", size(train_input), \" -> \", size(pca_train))\n",
    "println(\"Test Patterns \", size(test_input), \" -> \", size(pca_test))=#\n",
    "\n",
    "# PCA based on 95% variance, suggests that there are 5 features have noise and should be eliminated\n",
    "# from the input data, it's worth to try apply it and compare, maybe after finding the optimaal\n",
    "# parameters of the model"
   ]
  },
  {
   "cell_type": "code",
   "execution_count": 10,
   "id": "0e8b1d00",
   "metadata": {},
   "outputs": [],
   "source": [
    "# Feature Selection:\n",
    "# this function can be used to the most K important features after normalization and splitting.\n",
    "# for optimal number of K, I am still searching\n",
    "#FeatureSelection(train_x,train_y,k)"
   ]
  },
  {
   "cell_type": "markdown",
   "id": "221f9e00",
   "metadata": {},
   "source": [
    "# Model experimentation\n",
    "\n",
    "This section contains all experimentation of the models"
   ]
  },
  {
   "cell_type": "code",
   "execution_count": 11,
   "id": "66278936",
   "metadata": {},
   "outputs": [
    {
     "name": "stdout",
     "output_type": "stream",
     "text": [
      "(14338,)\n"
     ]
    }
   ],
   "source": [
    "indexs = crossvalidation(train_output, 10)\n",
    "kFoldIndices = convert(Vector{Int64}, indexs)\n",
    "\n",
    "println(size(kFoldIndices))"
   ]
  },
  {
   "cell_type": "code",
   "execution_count": 12,
   "id": "23a05b0a",
   "metadata": {},
   "outputs": [],
   "source": [
    "if RUN_ANN_TEST\n",
    "    test_ANN_Model(train_input, train_output, test_input, test_output, kFoldIndices, ANN_FILE_PATH)\n",
    "end"
   ]
  },
  {
   "cell_type": "code",
   "execution_count": 13,
   "id": "acb61da5",
   "metadata": {},
   "outputs": [],
   "source": [
    "if RUN_SVM_TEST\n",
    "    test_SVM_Model(train_input, train_output, test_input, test_output, kFoldIndices, SVM_FILE_PATH)\n",
    "end"
   ]
  },
  {
   "cell_type": "code",
   "execution_count": 14,
   "id": "4be19d34",
   "metadata": {},
   "outputs": [
    {
     "name": "stdout",
     "output_type": "stream",
     "text": [
      "Test results for Decision tree model: \n",
      "Parameters: Dict{Any, Any}(\"max_depth\" => 4, \"random_state\" => 1, \"splitter\" => \"best\", \"criterion\" => \"gini\", \"min_samples_split\" => 2) Accuracy: 0.3758537043443084 Fscore: 0.2663307692080493\n",
      "Parameters: Dict{Any, Any}(\"max_depth\" => 3, \"random_state\" => 1, \"splitter\" => \"best\", \"criterion\" => \"gini\", \"min_samples_split\" => 2) Accuracy: 0.36448551390688905 Fscore: 0.22768874774623252\n",
      "Parameters: Dict{Any, Any}(\"max_depth\" => 2, \"random_state\" => 1, \"splitter\" => \"best\", \"criterion\" => \"gini\", \"min_samples_split\" => 2) Accuracy: 0.32871006132721176 Fscore: 0.17295103283701244\n",
      "Parameters: Dict{Any, Any}(\"max_depth\" => 1, \"random_state\" => 1, \"splitter\" => \"best\", \"criterion\" => \"gini\", \"min_samples_split\" => 2) Accuracy: 0.2740974138861009 Fscore: 0.0537826441246696\n",
      "Parameters: Dict{Any, Any}(\"max_depth\" => 5, \"random_state\" => 1, \"splitter\" => \"best\", \"criterion\" => \"gini\", \"min_samples_split\" => 2) Accuracy: 0.3856837801503742 Fscore: 0.3026885131232432\n",
      "Parameters: Dict{Any, Any}(\"max_depth\" => 6, \"random_state\" => 1, \"splitter\" => \"best\", \"criterion\" => \"gini\", \"min_samples_split\" => 2) Accuracy: 0.39573094701893147 Fscore: 0.3047011393588873\n",
      "Parameters: Dict{Any, Any}(\"max_depth\" => 7, \"random_state\" => 1, \"splitter\" => \"best\", \"criterion\" => \"gini\", \"min_samples_split\" => 2) Accuracy: 0.3937842533101229 Fscore: 0.31678813026213304\n",
      "Parameters: Dict{Any, Any}(\"max_depth\" => 8, \"random_state\" => 1, \"splitter\" => \"best\", \"criterion\" => \"gini\", \"min_samples_split\" => 2) Accuracy: 0.3934351414568564 Fscore: 0.3227128080272597\n",
      "Parameters: Dict{Any, Any}(\"max_depth\" => 9, \"random_state\" => 1, \"splitter\" => \"best\", \"criterion\" => \"gini\", \"min_samples_split\" => 2) Accuracy: 0.3866630445757354 Fscore: 0.3215171896638954\n",
      "Parameters: Dict{Any, Any}(\"max_depth\" => 6, \"random_state\" => 1, \"splitter\" => \"random\", \"criterion\" => \"gini\", \"min_samples_split\" => 2) Accuracy: 0.38045900180837794 Fscore: 0.2778492831671826\n",
      "Parameters: Dict{Any, Any}(\"max_depth\" => 6, \"random_state\" => 1, \"splitter\" => \"best\", \"criterion\" => \"gini\", \"min_samples_split\" => 4) Accuracy: 0.39573094701893147 Fscore: 0.3047011393588873\n",
      "Parameters: Dict{Any, Any}(\"max_depth\" => 6, \"random_state\" => 1, \"splitter\" => \"best\", \"criterion\" => \"gini\", \"min_samples_split\" => 3) Accuracy: 0.39573094701893147 Fscore: 0.3047011393588873\n",
      "Parameters: Dict{Any, Any}(\"max_depth\" => 6, \"random_state\" => 1, \"splitter\" => \"best\", \"criterion\" => \"gini\", \"min_samples_split\" => 5) Accuracy: 0.39573094701893147 Fscore: 0.3047011393588873\n",
      "//////////////////////////////////////////\n",
      "Best parameters: Dict{Any, Any}(\"max_depth\" => 6, \"random_state\" => 1, \"splitter\" => \"best\", \"criterion\" => \"gini\", \"min_samples_split\" => 2) Best accuracy: 0.39573094701893147\n",
      "Test: Accuracy: 0.36094839609483964 Error rate: 0.6390516039051604 Sensitivity: 0.30046162020595746 Specificity rate: 0.8994171270117397 FScore: 0.2558514947478567\n",
      "Tot: 3585 Ok: 1294 Acc: 0.3609483960948396\n"
     ]
    }
   ],
   "source": [
    "if RUN_DT_TEST\n",
    "    test_DT_Model(train_input, train_output, test_input, test_output, kFoldIndices, DT_FILE_PATH)\n",
    "end"
   ]
  },
  {
   "cell_type": "code",
   "execution_count": 15,
   "id": "77a9c09f",
   "metadata": {},
   "outputs": [
    {
     "name": "stdout",
     "output_type": "stream",
     "text": [
      "Test results for KNN model: \n",
      "Parameters: Dict{Any, Any}(\"n_neighbors\" => 3, \"metric\" => \"nan_euclidean\", \"weights\" => \"uniform\") Accuracy: 0.30813259721920006 Fscore: 0.2895511847621541\n",
      "Parameters: Dict{Any, Any}(\"n_neighbors\" => 2, \"metric\" => \"nan_euclidean\", \"weights\" => \"uniform\") Accuracy: 0.2863041766407616 Fscore: 0.2605494448732809\n",
      "Parameters: Dict{Any, Any}(\"n_neighbors\" => 1, \"metric\" => \"nan_euclidean\", \"weights\" => \"uniform\") Accuracy: 0.28777455114636724 Fscore: 0.27819615232981665\n",
      "Parameters: Dict{Any, Any}(\"n_neighbors\" => 4, \"metric\" => \"nan_euclidean\", \"weights\" => \"uniform\") Accuracy: 0.33046025662869544 Fscore: 0.30658586130298654\n",
      "Parameters: Dict{Any, Any}(\"n_neighbors\" => 5, \"metric\" => \"nan_euclidean\", \"weights\" => \"uniform\") Accuracy: 0.3495656948604928 Fscore: 0.318216317734339\n",
      "Parameters: Dict{Any, Any}(\"n_neighbors\" => 6, \"metric\" => \"nan_euclidean\", \"weights\" => \"uniform\") Accuracy: 0.3577244155218284 Fscore: 0.3221369235263122\n",
      "Parameters: Dict{Any, Any}(\"n_neighbors\" => 7, \"metric\" => \"nan_euclidean\", \"weights\" => \"uniform\") Accuracy: 0.3622571532407868 Fscore: 0.3231370840768985\n",
      "Parameters: Dict{Any, Any}(\"n_neighbors\" => 8, \"metric\" => \"nan_euclidean\", \"weights\" => \"uniform\") Accuracy: 0.36567558193166494 Fscore: 0.32389436313408876\n",
      "Parameters: Dict{Any, Any}(\"n_neighbors\" => 9, \"metric\" => \"nan_euclidean\", \"weights\" => \"uniform\") Accuracy: 0.37133021499181673 Fscore: 0.3262027973575525\n",
      "Parameters: Dict{Any, Any}(\"n_neighbors\" => 10, \"metric\" => \"nan_euclidean\", \"weights\" => \"uniform\") Accuracy: 0.3741881871658349 Fscore: 0.32555594060043497\n",
      "Parameters: Dict{Any, Any}(\"n_neighbors\" => 11, \"metric\" => \"nan_euclidean\", \"weights\" => \"uniform\") Accuracy: 0.3782325316250348 Fscore: 0.32933577902114136\n",
      "Parameters: Dict{Any, Any}(\"n_neighbors\" => 20, \"metric\" => \"nan_euclidean\", \"weights\" => \"uniform\") Accuracy: 0.39719412471300236 Fscore: 0.3342545959354888\n",
      "Parameters: Dict{Any, Any}(\"n_neighbors\" => 45, \"metric\" => \"nan_euclidean\", \"weights\" => \"uniform\") Accuracy: 0.405984642806496 Fscore: 0.32926880946395454\n",
      "Parameters: Dict{Any, Any}(\"n_neighbors\" => 50, \"metric\" => \"nan_euclidean\", \"weights\" => \"uniform\") Accuracy: 0.407725395975167 Fscore: 0.32999434651801207\n",
      "Parameters: Dict{Any, Any}(\"n_neighbors\" => 55, \"metric\" => \"nan_euclidean\", \"weights\" => \"uniform\") Accuracy: 0.40716712416625916 Fscore: 0.3282489106026695\n",
      "Parameters: Dict{Any, Any}(\"n_neighbors\" => 60, \"metric\" => \"nan_euclidean\", \"weights\" => \"uniform\") Accuracy: 0.40786233656092874 Fscore: 0.32881870631019156\n",
      "Parameters: Dict{Any, Any}(\"n_neighbors\" => 70, \"metric\" => \"nan_euclidean\", \"weights\" => \"uniform\") Accuracy: 0.4071727182613195 Fscore: 0.326260654078706\n",
      "Parameters: Dict{Any, Any}(\"n_neighbors\" => 60, \"metric\" => \"nan_euclidean\", \"weights\" => \"distance\") Accuracy: 0.374182884508648 Fscore: 0.3179000414525952\n",
      "Parameters: Dict{Any, Any}(\"n_neighbors\" => 60, \"metric\" => \"minkowski\", \"weights\" => \"uniform\") Accuracy: 0.4082809906002424 Fscore: 0.32897859058344153\n",
      "//////////////////////////////////////////\n",
      "Best parameters: Dict{Any, Any}(\"n_neighbors\" => 60, \"metric\" => \"minkowski\", \"weights\" => \"uniform\") Best accuracy: 0.4082809906002424\n",
      "Test: Accuracy: 0.40278940027894006 Sensitivity: 0.3394066902314004 Specificity rate: 0.9069944465124418 FScore: 0.3203442191508116\n",
      "Tot: 3585 Ok: 1444 Acc: 0.40278940027894\n"
     ]
    }
   ],
   "source": [
    "if RUN_KNN_TEST\n",
    "    test_KNN_Model(train_input, train_output, test_input, test_output, kFoldIndices, KNN_FILE_PATH)\n",
    "end"
   ]
  },
  {
   "cell_type": "code",
   "execution_count": 16,
   "id": "a41cf6a9",
   "metadata": {},
   "outputs": [],
   "source": [
    "# Get the best models\n",
    "#best_ANN = loadModel(ANN_FILE_PATH)\n",
    "#if isnothing(best_ANN)\n",
    "#    best_ANN = get_Best_ANN(train_input, train_output, kFoldIndices)\n",
    "#end\n",
    "best_SVM = loadModel(DT_FILE_PATH)\n",
    "if isnothing(best_SVM)\n",
    "    best_SVM = get_Best_SVM(train_input, train_output, kFoldIndices)\n",
    "end\n",
    "best_DT = loadModel(DT_FILE_PATH)\n",
    "if isnothing(best_DT)\n",
    "    best_DT = get_Best_DT(train_input, train_output, kFoldIndices)\n",
    "end\n",
    "best_KNN = loadModel(KNN_FILE_PATH)\n",
    "if isnothing(best_KNN)\n",
    "    best_KNN = get_Best_KNN(train_input, train_output, kFoldIndices)\n",
    "end"
   ]
  },
  {
   "cell_type": "code",
   "execution_count": 17,
   "id": "04b0a9f1",
   "metadata": {},
   "outputs": [],
   "source": [
    "#Define the models to train\n",
    "\n",
    "#=models = Dict( \"SVM\" => SVC(probability=true), \n",
    "         \"LR\" =>LogisticRegression(),\n",
    "         \"DT\"=> DecisionTreeClassifier(max_depth=4),\n",
    "         \"NB\"=> GaussianNB())\n",
    "\n",
    "base_models =  [ name for name in keys(models)]=#"
   ]
  },
  {
   "cell_type": "code",
   "execution_count": 18,
   "id": "c3a595d7",
   "metadata": {},
   "outputs": [],
   "source": [
    "# Perform the training for each model and calculate the test values (accuracy)\n",
    "#=for key in keys(models)\n",
    "    model = models[key]\n",
    "    fit!(model,train_input, train_output)\n",
    "    acc = score(model,test_input, test_output)\n",
    "    println(\"$key: $(acc*100) %\")\n",
    "end=#"
   ]
  },
  {
   "cell_type": "code",
   "execution_count": 19,
   "id": "1554b29c",
   "metadata": {},
   "outputs": [],
   "source": [
    "#Define the metaclassifier based on the base_models\n",
    "#=models[\"Ensemble (Hard Voting)\"] = VotingClassifier(estimators = [(name,models[name]) for name in base_models], \n",
    "                                                   n_jobs=-1)\n",
    "fit!(models[\"Ensemble (Hard Voting)\"], train_input, train_output)\n",
    "\n",
    "for key in keys(models)\n",
    "    model = models[key]\n",
    "    acc = score(model,test_input, test_output)\n",
    "    println(\"$key: $(acc*100) %\")\n",
    "end=#"
   ]
  },
  {
   "cell_type": "code",
   "execution_count": 20,
   "id": "260da3e6",
   "metadata": {},
   "outputs": [],
   "source": [
    "#=models[\"Ensemble (Soft Voting)\"] = VotingClassifier(estimators = [(name,models[name]) for name in base_models], \n",
    "                                                   n_jobs=-1, voting=\"soft\",weights=[1,2,2,1])\n",
    "fit!(models[\"Ensemble (Soft Voting)\"],train_input, train_output)\n",
    "\n",
    "for key in keys(models)\n",
    "    model = models[key]\n",
    "    acc = score(model,train_input, train_output)\n",
    "    println(\"$key: $(acc*100) %\")\n",
    "end=#"
   ]
  },
  {
   "cell_type": "code",
   "execution_count": 21,
   "id": "c70391c2",
   "metadata": {
    "scrolled": true
   },
   "outputs": [],
   "source": [
    "#=models[\"Ensemble (Stacking)\"] = StackingClassifier(estimators=[(name,models[name]) for name in base_models],\n",
    "    final_estimator=SVC(probability=true), n_jobs=-1)\n",
    "fit!(models[\"Ensemble (Stacking)\"], train_input, train_output)=#"
   ]
  },
  {
   "cell_type": "code",
   "execution_count": 22,
   "id": "ed598b78",
   "metadata": {},
   "outputs": [],
   "source": [
    "#=for key in keys(models)\n",
    "    model = models[key]\n",
    "    acc = score(model,train_input, train_output)\n",
    "    println(\"$key: $(acc*100) %\")\n",
    "end=#"
   ]
  },
  {
   "cell_type": "code",
   "execution_count": 23,
   "id": "bd7750d8",
   "metadata": {},
   "outputs": [],
   "source": [
    "#=models[\"Bagging (SVC)\"] = BaggingClassifier(base_estimator=SVC(),n_estimators=10, max_samples=0.50, n_jobs=-1)\n",
    "fit!(models[\"Bagging (SVC)\"], train_input, train_output)\n",
    "\n",
    "for key in keys(models)\n",
    "    model = models[key]\n",
    "    acc = score(model,train_input, train_output)\n",
    "    println(\"$key: $(acc*100) %\")\n",
    "end=#"
   ]
  },
  {
   "cell_type": "code",
   "execution_count": 24,
   "id": "830a90e3",
   "metadata": {},
   "outputs": [],
   "source": [
    "#=@sk_import ensemble:(AdaBoostClassifier, GradientBoostingClassifier)\n",
    "\n",
    "models[\"Ada\"] = AdaBoostClassifier(n_estimators=30)\n",
    "fit!(models[\"Ada\"], train_input, train_output)\n",
    "\n",
    "models[\"GTB\"] = GradientBoostingClassifier(n_estimators=30, learning_rate=1.0, max_depth=2, random_state=0)\n",
    "fit!(models[\"GTB\"], train_input, train_output)\n",
    "\n",
    "for key in keys(models)\n",
    "    model = models[key]\n",
    "    acc = score(model,test_input, test_output)\n",
    "    println(\"$key: $(acc*100) %\")\n",
    "end=#\n"
   ]
  },
  {
   "cell_type": "code",
   "execution_count": 25,
   "id": "668be4f9",
   "metadata": {},
   "outputs": [],
   "source": [
    "#=@sk_import ensemble:RandomForestClassifier\n",
    "\n",
    "models[\"RF\"] = RandomForestClassifier(n_estimators=8, max_depth=nothing,\n",
    "                                    min_samples_split=2, n_jobs=-1)\n",
    "fit!(models[\"RF\"], train_input, train_output)\n",
    "    \n",
    "for key in keys(models)\n",
    "    model = models[key]\n",
    "    acc = score(model,test_input, test_output)\n",
    "    println(\"$key: $(acc*100) %\")\n",
    "end=#"
   ]
  },
  {
   "cell_type": "code",
   "execution_count": 26,
   "id": "ea85f5cd",
   "metadata": {},
   "outputs": [],
   "source": [
    "#=p = bar(y=1:60,models[\"RF\"].feature_importances_, orientation=:horizontal, legend = false)\n",
    "xlabel!(p,\"Gini Gain\")\n",
    "ylabel!(p,\"Fearure\")\n",
    "title!(\"Feature Importance\")=#"
   ]
  },
  {
   "cell_type": "code",
   "execution_count": 27,
   "id": "a03972c9",
   "metadata": {},
   "outputs": [],
   "source": [
    "#=using Pkg;\n",
    "Pkg.add(\"XGBoost\")=#"
   ]
  },
  {
   "cell_type": "code",
   "execution_count": 28,
   "id": "f7fd5e0c",
   "metadata": {},
   "outputs": [],
   "source": [
    "#=using XGBoost;\n",
    "\n",
    "train_output_asNumber= Vector{Number}(train_output);\n",
    "\n",
    "@assert train_output_asNumber isa Vector{Number}=#"
   ]
  },
  {
   "cell_type": "code",
   "execution_count": 29,
   "id": "eec905d3",
   "metadata": {
    "scrolled": true
   },
   "outputs": [],
   "source": [
    "#model = xgboost(train_input, 20, label = train_output_asNumber, eta = 1, max_depth = 6)"
   ]
  },
  {
   "cell_type": "code",
   "execution_count": 30,
   "id": "40ab769b",
   "metadata": {},
   "outputs": [],
   "source": [
    "#=param = [\"max_depth\" => 2,\n",
    "         \"eta\" => 1,\n",
    "         \"objective\" => \"binary:logistic\"]\n",
    "metrics = metrics = [\"error\", \"auc\"]\n",
    "model = xgboost(train_input, 20, label = train_output_asNumber, param = param, metrics = metrics)\n",
    "\n",
    "pred = predict(model, train_input)=#"
   ]
  },
  {
   "cell_type": "code",
   "execution_count": 31,
   "id": "a468354c",
   "metadata": {
    "scrolled": true
   },
   "outputs": [],
   "source": [
    "#=using XGBoost: predict as predict_xgb\n",
    "\n",
    "pred = predict_xgb(model, test_input)\n",
    "print(\"Error of XGboost= \", sum((pred .> 0.5) .!= test_output) / float(size(pred)[1]), \"\\n\")=#"
   ]
  },
  {
   "cell_type": "code",
   "execution_count": 32,
   "id": "74e86f1d",
   "metadata": {
    "scrolled": true
   },
   "outputs": [],
   "source": [
    "#=feature_gain = map(x-> (x.fname,x.gain), importance(model))\n",
    "feature, gain = first.(feature_gain), last.(feature_gain)\n",
    "\n",
    "using Plots;\n",
    "\n",
    "p = bar(gain, y=feature, orientation=\"h\", legend=false)\n",
    "xlabel!(p,\"Gain\")\n",
    "ylabel!(p,\"Feature\")\n",
    "title!(\"Feature Importance\")=#"
   ]
  }
 ],
 "metadata": {
  "kernelspec": {
   "display_name": "Julia 1.8.1",
   "language": "julia",
   "name": "julia-1.8"
  },
  "language_info": {
   "file_extension": ".jl",
   "mimetype": "application/julia",
   "name": "julia",
   "version": "1.8.1"
  }
 },
 "nbformat": 4,
 "nbformat_minor": 5
}
