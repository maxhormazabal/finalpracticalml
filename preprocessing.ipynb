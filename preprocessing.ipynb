{
 "cells": [
  {
   "cell_type": "markdown",
   "metadata": {},
   "source": [
    "# Data Cleaning "
   ]
  },
  {
   "cell_type": "code",
   "execution_count": 1,
   "metadata": {},
   "outputs": [],
   "source": [
    "using Pkg;\n",
    "\n",
    "# Installing packages\n",
    "#Pkg.add(\"DelimitedFiles\")\n",
    "#Pkg.add(\"CSV\")\n",
    "#Pkg.add(\"DataFrames\")\n",
    "#Pkg.add(\"Pandas\")\n",
    "#Pkg.add(\"CategoricalArrays\")\n",
    "#Pkg.add(\"DataFramesMeta\")\n",
    "#Pkg.add(\"ScikitLearn\")"
   ]
  },
  {
   "cell_type": "code",
   "execution_count": 2,
   "metadata": {},
   "outputs": [
    {
     "data": {
      "text/plain": [
       "quartilOutliers (generic function with 1 method)"
      ]
     },
     "execution_count": 2,
     "metadata": {},
     "output_type": "execute_result"
    }
   ],
   "source": [
    "using DelimitedFiles\n",
    "using CSV\n",
    "using Statistics \n",
    "using DataFramesMeta #using DataFrames\n",
    "using CategoricalArrays;\n",
    "include(\"./utils/preprocessing_utils.jl\")"
   ]
  },
  {
   "cell_type": "code",
   "execution_count": 3,
   "metadata": {},
   "outputs": [
    {
     "data": {
      "text/html": [
       "<div><div style = \"float: left;\"><span>10×17 DataFrame</span></div><div style = \"clear: both;\"></div></div><div class = \"data-frame\" style = \"overflow-x: scroll;\"><table class = \"data-frame\" style = \"margin-bottom: 6px;\"><thead><tr class = \"header\"><th class = \"rowNumber\" style = \"font-weight: bold; text-align: right;\">Row</th><th style = \"text-align: left;\">Artist Name</th><th style = \"text-align: left;\">Track Name</th><th style = \"text-align: left;\">Popularity</th><th style = \"text-align: left;\">danceability</th><th style = \"text-align: left;\">energy</th><th style = \"text-align: left;\">key</th><th style = \"text-align: left;\">loudness</th><th style = \"text-align: left;\">mode</th><th style = \"text-align: left;\">speechiness</th><th style = \"text-align: left;\">acousticness</th><th style = \"text-align: left;\">instrumentalness</th><th style = \"text-align: left;\">liveness</th><th style = \"text-align: left;\">valence</th><th style = \"text-align: left;\">tempo</th><th style = \"text-align: left;\">duration_in min/ms</th><th style = \"text-align: left;\">time_signature</th><th style = \"text-align: left;\">Class</th></tr><tr class = \"subheader headerLastRow\"><th class = \"rowNumber\" style = \"font-weight: bold; text-align: right;\"></th><th title = \"String\" style = \"text-align: left;\">String</th><th title = \"String\" style = \"text-align: left;\">String</th><th title = \"Union{Missing, Float64}\" style = \"text-align: left;\">Float64?</th><th title = \"Float64\" style = \"text-align: left;\">Float64</th><th title = \"Float64\" style = \"text-align: left;\">Float64</th><th title = \"Union{Missing, Float64}\" style = \"text-align: left;\">Float64?</th><th title = \"Float64\" style = \"text-align: left;\">Float64</th><th title = \"Int64\" style = \"text-align: left;\">Int64</th><th title = \"Float64\" style = \"text-align: left;\">Float64</th><th title = \"Float64\" style = \"text-align: left;\">Float64</th><th title = \"Union{Missing, Float64}\" style = \"text-align: left;\">Float64?</th><th title = \"Float64\" style = \"text-align: left;\">Float64</th><th title = \"Float64\" style = \"text-align: left;\">Float64</th><th title = \"Float64\" style = \"text-align: left;\">Float64</th><th title = \"Float64\" style = \"text-align: left;\">Float64</th><th title = \"Int64\" style = \"text-align: left;\">Int64</th><th title = \"Int64\" style = \"text-align: left;\">Int64</th></tr></thead><tbody><tr><td class = \"rowNumber\" style = \"font-weight: bold; text-align: right;\">1</td><td style = \"text-align: left;\">Bruno Mars</td><td style = \"text-align: left;\">That&apos;s What I Like (feat. Gucci Mane)</td><td style = \"text-align: right;\">60.0</td><td style = \"text-align: right;\">0.854</td><td style = \"text-align: right;\">0.564</td><td style = \"text-align: right;\">1.0</td><td style = \"text-align: right;\">-4.964</td><td style = \"text-align: right;\">1</td><td style = \"text-align: right;\">0.0485</td><td style = \"text-align: right;\">0.0171</td><td style = \"font-style: italic; text-align: right;\">missing</td><td style = \"text-align: right;\">0.0849</td><td style = \"text-align: right;\">0.899</td><td style = \"text-align: right;\">134.071</td><td style = \"text-align: right;\">234596.0</td><td style = \"text-align: right;\">4</td><td style = \"text-align: right;\">5</td></tr><tr><td class = \"rowNumber\" style = \"font-weight: bold; text-align: right;\">2</td><td style = \"text-align: left;\">Boston</td><td style = \"text-align: left;\">Hitch a Ride</td><td style = \"text-align: right;\">54.0</td><td style = \"text-align: right;\">0.382</td><td style = \"text-align: right;\">0.814</td><td style = \"text-align: right;\">3.0</td><td style = \"text-align: right;\">-7.23</td><td style = \"text-align: right;\">1</td><td style = \"text-align: right;\">0.0406</td><td style = \"text-align: right;\">0.0011</td><td style = \"text-align: right;\">0.00401</td><td style = \"text-align: right;\">0.101</td><td style = \"text-align: right;\">0.569</td><td style = \"text-align: right;\">116.454</td><td style = \"text-align: right;\">251733.0</td><td style = \"text-align: right;\">4</td><td style = \"text-align: right;\">10</td></tr><tr><td class = \"rowNumber\" style = \"font-weight: bold; text-align: right;\">3</td><td style = \"text-align: left;\">The Raincoats</td><td style = \"text-align: left;\">No Side to Fall In</td><td style = \"text-align: right;\">35.0</td><td style = \"text-align: right;\">0.434</td><td style = \"text-align: right;\">0.614</td><td style = \"text-align: right;\">6.0</td><td style = \"text-align: right;\">-8.334</td><td style = \"text-align: right;\">1</td><td style = \"text-align: right;\">0.0525</td><td style = \"text-align: right;\">0.486</td><td style = \"text-align: right;\">0.000196</td><td style = \"text-align: right;\">0.394</td><td style = \"text-align: right;\">0.787</td><td style = \"text-align: right;\">147.681</td><td style = \"text-align: right;\">109667.0</td><td style = \"text-align: right;\">4</td><td style = \"text-align: right;\">6</td></tr><tr><td class = \"rowNumber\" style = \"font-weight: bold; text-align: right;\">4</td><td style = \"text-align: left;\">Deno</td><td style = \"text-align: left;\">Lingo (feat. J.I &amp; Chunkz)</td><td style = \"text-align: right;\">66.0</td><td style = \"text-align: right;\">0.853</td><td style = \"text-align: right;\">0.597</td><td style = \"text-align: right;\">10.0</td><td style = \"text-align: right;\">-6.528</td><td style = \"text-align: right;\">0</td><td style = \"text-align: right;\">0.0555</td><td style = \"text-align: right;\">0.0212</td><td style = \"font-style: italic; text-align: right;\">missing</td><td style = \"text-align: right;\">0.122</td><td style = \"text-align: right;\">0.569</td><td style = \"text-align: right;\">107.033</td><td style = \"text-align: right;\">173968.0</td><td style = \"text-align: right;\">4</td><td style = \"text-align: right;\">5</td></tr><tr><td class = \"rowNumber\" style = \"font-weight: bold; text-align: right;\">5</td><td style = \"text-align: left;\">Red Hot Chili Peppers</td><td style = \"text-align: left;\">Nobody Weird Like Me - Remastered</td><td style = \"text-align: right;\">53.0</td><td style = \"text-align: right;\">0.167</td><td style = \"text-align: right;\">0.975</td><td style = \"text-align: right;\">2.0</td><td style = \"text-align: right;\">-4.279</td><td style = \"text-align: right;\">1</td><td style = \"text-align: right;\">0.216</td><td style = \"text-align: right;\">0.000169</td><td style = \"text-align: right;\">0.0161</td><td style = \"text-align: right;\">0.172</td><td style = \"text-align: right;\">0.0918</td><td style = \"text-align: right;\">199.06</td><td style = \"text-align: right;\">229960.0</td><td style = \"text-align: right;\">4</td><td style = \"text-align: right;\">10</td></tr><tr><td class = \"rowNumber\" style = \"font-weight: bold; text-align: right;\">6</td><td style = \"text-align: left;\">The Stooges</td><td style = \"text-align: left;\">Search and Destroy - Iggy Pop Mix</td><td style = \"text-align: right;\">53.0</td><td style = \"text-align: right;\">0.235</td><td style = \"text-align: right;\">0.977</td><td style = \"text-align: right;\">6.0</td><td style = \"text-align: right;\">0.878</td><td style = \"text-align: right;\">1</td><td style = \"text-align: right;\">0.107</td><td style = \"text-align: right;\">0.00353</td><td style = \"text-align: right;\">0.00604</td><td style = \"text-align: right;\">0.172</td><td style = \"text-align: right;\">0.241</td><td style = \"text-align: right;\">152.952</td><td style = \"text-align: right;\">208133.0</td><td style = \"text-align: right;\">4</td><td style = \"text-align: right;\">6</td></tr><tr><td class = \"rowNumber\" style = \"font-weight: bold; text-align: right;\">7</td><td style = \"text-align: left;\">Solomon Burke</td><td style = \"text-align: left;\">None Of Us Are Free</td><td style = \"text-align: right;\">48.0</td><td style = \"text-align: right;\">0.674</td><td style = \"text-align: right;\">0.658</td><td style = \"text-align: right;\">5.0</td><td style = \"text-align: right;\">-9.647</td><td style = \"text-align: right;\">0</td><td style = \"text-align: right;\">0.104</td><td style = \"text-align: right;\">0.404</td><td style = \"text-align: right;\">1.34e-6</td><td style = \"text-align: right;\">0.0981</td><td style = \"text-align: right;\">0.677</td><td style = \"text-align: right;\">143.292</td><td style = \"text-align: right;\">329387.0</td><td style = \"text-align: right;\">4</td><td style = \"text-align: right;\">2</td></tr><tr><td class = \"rowNumber\" style = \"font-weight: bold; text-align: right;\">8</td><td style = \"text-align: left;\">Randy Travis</td><td style = \"text-align: left;\">On the Other Hand</td><td style = \"text-align: right;\">55.0</td><td style = \"text-align: right;\">0.657</td><td style = \"text-align: right;\">0.415</td><td style = \"text-align: right;\">5.0</td><td style = \"text-align: right;\">-9.915</td><td style = \"text-align: right;\">1</td><td style = \"text-align: right;\">0.025</td><td style = \"text-align: right;\">0.175</td><td style = \"text-align: right;\">5.65e-6</td><td style = \"text-align: right;\">0.132</td><td style = \"text-align: right;\">0.347</td><td style = \"text-align: right;\">96.03</td><td style = \"text-align: right;\">3.10578</td><td style = \"text-align: right;\">4</td><td style = \"text-align: right;\">4</td></tr><tr><td class = \"rowNumber\" style = \"font-weight: bold; text-align: right;\">9</td><td style = \"text-align: left;\">Professional Murder Music</td><td style = \"text-align: left;\">Slow</td><td style = \"text-align: right;\">29.0</td><td style = \"text-align: right;\">0.431</td><td style = \"text-align: right;\">0.776</td><td style = \"text-align: right;\">10.0</td><td style = \"text-align: right;\">-5.403</td><td style = \"text-align: right;\">1</td><td style = \"text-align: right;\">0.0527</td><td style = \"text-align: right;\">2.21e-5</td><td style = \"text-align: right;\">0.0013</td><td style = \"text-align: right;\">0.179</td><td style = \"text-align: right;\">0.318</td><td style = \"text-align: right;\">120.857</td><td style = \"text-align: right;\">237867.0</td><td style = \"text-align: right;\">4</td><td style = \"text-align: right;\">8</td></tr><tr><td class = \"rowNumber\" style = \"font-weight: bold; text-align: right;\">10</td><td style = \"text-align: left;\">Dudu Aharon</td><td style = \"text-align: left;\">◊ì◊ï◊ì◊ï, ◊ô◊ê◊ú◊ú◊î ◊ô◊ê◊ú◊ú◊î</td><td style = \"text-align: right;\">14.0</td><td style = \"text-align: right;\">0.716</td><td style = \"text-align: right;\">0.885</td><td style = \"text-align: right;\">1.0</td><td style = \"text-align: right;\">-4.348</td><td style = \"text-align: right;\">0</td><td style = \"text-align: right;\">0.0333</td><td style = \"text-align: right;\">0.0614</td><td style = \"font-style: italic; text-align: right;\">missing</td><td style = \"text-align: right;\">0.253</td><td style = \"text-align: right;\">0.833</td><td style = \"text-align: right;\">128.043</td><td style = \"text-align: right;\">164093.0</td><td style = \"text-align: right;\">4</td><td style = \"text-align: right;\">9</td></tr></tbody></table></div>"
      ],
      "text/latex": [
       "\\begin{tabular}{r|ccccc}\n",
       "\t& Artist Name & Track Name & Popularity & danceability & \\\\\n",
       "\t\\hline\n",
       "\t& String & String & Float64? & Float64 & \\\\\n",
       "\t\\hline\n",
       "\t1 & Bruno Mars & That's What I Like (feat. Gucci Mane) & 60.0 & 0.854 & $\\dots$ \\\\\n",
       "\t2 & Boston & Hitch a Ride & 54.0 & 0.382 & $\\dots$ \\\\\n",
       "\t3 & The Raincoats & No Side to Fall In & 35.0 & 0.434 & $\\dots$ \\\\\n",
       "\t4 & Deno & Lingo (feat. J.I \\& Chunkz) & 66.0 & 0.853 & $\\dots$ \\\\\n",
       "\t5 & Red Hot Chili Peppers & Nobody Weird Like Me - Remastered & 53.0 & 0.167 & $\\dots$ \\\\\n",
       "\t6 & The Stooges & Search and Destroy - Iggy Pop Mix & 53.0 & 0.235 & $\\dots$ \\\\\n",
       "\t7 & Solomon Burke & None Of Us Are Free & 48.0 & 0.674 & $\\dots$ \\\\\n",
       "\t8 & Randy Travis & On the Other Hand & 55.0 & 0.657 & $\\dots$ \\\\\n",
       "\t9 & Professional Murder Music & Slow & 29.0 & 0.431 & $\\dots$ \\\\\n",
       "\t10 & Dudu Aharon & ◊ì◊ï◊ì◊ï, ◊ô◊ê◊ú◊ú◊î ◊ô◊ê◊ú◊ú◊î & 14.0 & 0.716 & $\\dots$ \\\\\n",
       "\\end{tabular}\n"
      ],
      "text/plain": [
       "\u001b[1m10×17 DataFrame\u001b[0m\n",
       "\u001b[1m Row \u001b[0m│\u001b[1m Artist Name               \u001b[0m\u001b[1m Track Name                        \u001b[0m\u001b[1m Popularit\u001b[0m ⋯\n",
       "     │\u001b[90m String                    \u001b[0m\u001b[90m String                            \u001b[0m\u001b[90m Float64? \u001b[0m ⋯\n",
       "─────┼──────────────────────────────────────────────────────────────────────────\n",
       "   1 │ Bruno Mars                 That's What I Like (feat. Gucci …        60. ⋯\n",
       "   2 │ Boston                     Hitch a Ride                             54.\n",
       "   3 │ The Raincoats              No Side to Fall In                       35.\n",
       "   4 │ Deno                       Lingo (feat. J.I & Chunkz)               66.\n",
       "   5 │ Red Hot Chili Peppers      Nobody Weird Like Me - Remastered        53. ⋯\n",
       "   6 │ The Stooges                Search and Destroy - Iggy Pop Mix        53.\n",
       "   7 │ Solomon Burke              None Of Us Are Free                      48.\n",
       "   8 │ Randy Travis               On the Other Hand                        55.\n",
       "   9 │ Professional Murder Music  Slow                                     29. ⋯\n",
       "  10 │ Dudu Aharon                ◊ì◊ï◊ì◊ï, ◊ô◊ê◊ú◊ú◊î ◊ô◊ê◊ú◊ú◊î          14.\n",
       "\u001b[36m                                                              15 columns omitted\u001b[0m"
      ]
     },
     "execution_count": 3,
     "metadata": {},
     "output_type": "execute_result"
    }
   ],
   "source": [
    "data = CSV.File(\"./dataset/music_genre.csv\") |> DataFrame;\n",
    "first(data,10)"
   ]
  },
  {
   "cell_type": "markdown",
   "metadata": {},
   "source": [
    "## Data Preprocessing\n",
    "\n",
    "1. Set Data Types"
   ]
  },
  {
   "cell_type": "code",
   "execution_count": 48,
   "metadata": {},
   "outputs": [
    {
     "data": {
      "text/html": [
       "<div><div style = \"float: left;\"><span>17×7 DataFrame</span></div><div style = \"clear: both;\"></div></div><div class = \"data-frame\" style = \"overflow-x: scroll;\"><table class = \"data-frame\" style = \"margin-bottom: 6px;\"><thead><tr class = \"header\"><th class = \"rowNumber\" style = \"font-weight: bold; text-align: right;\">Row</th><th style = \"text-align: left;\">variable</th><th style = \"text-align: left;\">mean</th><th style = \"text-align: left;\">min</th><th style = \"text-align: left;\">median</th><th style = \"text-align: left;\">max</th><th style = \"text-align: left;\">nmissing</th><th style = \"text-align: left;\">eltype</th></tr><tr class = \"subheader headerLastRow\"><th class = \"rowNumber\" style = \"font-weight: bold; text-align: right;\"></th><th title = \"Symbol\" style = \"text-align: left;\">Symbol</th><th title = \"Union{Nothing, Float64}\" style = \"text-align: left;\">Union…</th><th title = \"Any\" style = \"text-align: left;\">Any</th><th title = \"Union{Nothing, Float64}\" style = \"text-align: left;\">Union…</th><th title = \"Any\" style = \"text-align: left;\">Any</th><th title = \"Int64\" style = \"text-align: left;\">Int64</th><th title = \"Type\" style = \"text-align: left;\">Type</th></tr></thead><tbody><tr><td class = \"rowNumber\" style = \"font-weight: bold; text-align: right;\">1</td><td style = \"text-align: left;\">Artist Name</td><td style = \"font-style: italic; text-align: left;\"></td><td style = \"text-align: left;\">$NOT</td><td style = \"font-style: italic; text-align: left;\"></td><td style = \"text-align: left;\">◊†◊ê◊ì◊î</td><td style = \"text-align: right;\">0</td><td style = \"text-align: left;\">String</td></tr><tr><td class = \"rowNumber\" style = \"font-weight: bold; text-align: right;\">2</td><td style = \"text-align: left;\">Track Name</td><td style = \"font-style: italic; text-align: left;\"></td><td style = \"text-align: left;\">&quot;45&quot;</td><td style = \"font-style: italic; text-align: left;\"></td><td style = \"text-align: left;\">◊™◊™◊ó◊†◊†◊ô ◊ê◊ú◊ô◊ô</td><td style = \"text-align: right;\">0</td><td style = \"text-align: left;\">String</td></tr><tr><td class = \"rowNumber\" style = \"font-weight: bold; text-align: right;\">3</td><td style = \"text-align: left;\">Popularity</td><td style = \"text-align: left;\">44.5121</td><td style = \"text-align: left;\">1.0</td><td style = \"text-align: left;\">44.0</td><td style = \"text-align: left;\">100.0</td><td style = \"text-align: right;\">428</td><td style = \"text-align: left;\">Union{Missing, Float64}</td></tr><tr><td class = \"rowNumber\" style = \"font-weight: bold; text-align: right;\">4</td><td style = \"text-align: left;\">danceability</td><td style = \"text-align: left;\">0.543433</td><td style = \"text-align: left;\">0.0596</td><td style = \"text-align: left;\">0.545</td><td style = \"text-align: left;\">0.989</td><td style = \"text-align: right;\">0</td><td style = \"text-align: left;\">Float64</td></tr><tr><td class = \"rowNumber\" style = \"font-weight: bold; text-align: right;\">5</td><td style = \"text-align: left;\">energy</td><td style = \"text-align: left;\">0.662777</td><td style = \"text-align: left;\">2.03e-5</td><td style = \"text-align: left;\">0.7</td><td style = \"text-align: left;\">1.0</td><td style = \"text-align: right;\">0</td><td style = \"text-align: left;\">Float64</td></tr><tr><td class = \"rowNumber\" style = \"font-weight: bold; text-align: right;\">6</td><td style = \"text-align: left;\">key</td><td style = \"font-style: italic; text-align: left;\"></td><td style = \"text-align: left;\">1.0</td><td style = \"font-style: italic; text-align: left;\"></td><td style = \"text-align: left;\">9.0</td><td style = \"text-align: right;\">2014</td><td style = \"text-align: left;\">Union{Missing, String}</td></tr><tr><td class = \"rowNumber\" style = \"font-weight: bold; text-align: right;\">7</td><td style = \"text-align: left;\">loudness</td><td style = \"text-align: left;\">-7.91066</td><td style = \"text-align: left;\">-39.952</td><td style = \"text-align: left;\">-7.016</td><td style = \"text-align: left;\">1.355</td><td style = \"text-align: right;\">0</td><td style = \"text-align: left;\">Float64</td></tr><tr><td class = \"rowNumber\" style = \"font-weight: bold; text-align: right;\">8</td><td style = \"text-align: left;\">mode</td><td style = \"font-style: italic; text-align: left;\"></td><td style = \"text-align: left;\">0</td><td style = \"font-style: italic; text-align: left;\"></td><td style = \"text-align: left;\">1</td><td style = \"text-align: right;\">0</td><td style = \"text-align: left;\">String</td></tr><tr><td class = \"rowNumber\" style = \"font-weight: bold; text-align: right;\">9</td><td style = \"text-align: left;\">speechiness</td><td style = \"text-align: left;\">0.079707</td><td style = \"text-align: left;\">0.0225</td><td style = \"text-align: left;\">0.0474</td><td style = \"text-align: left;\">0.955</td><td style = \"text-align: right;\">0</td><td style = \"text-align: left;\">Float64</td></tr><tr><td class = \"rowNumber\" style = \"font-weight: bold; text-align: right;\">10</td><td style = \"text-align: left;\">acousticness</td><td style = \"text-align: left;\">0.247082</td><td style = \"text-align: left;\">0.0</td><td style = \"text-align: left;\">0.0814</td><td style = \"text-align: left;\">0.996</td><td style = \"text-align: right;\">0</td><td style = \"text-align: left;\">Float64</td></tr><tr><td class = \"rowNumber\" style = \"font-weight: bold; text-align: right;\">11</td><td style = \"text-align: left;\">instrumentalness</td><td style = \"text-align: left;\">0.177562</td><td style = \"text-align: left;\">1.0e-6</td><td style = \"text-align: left;\">0.00391</td><td style = \"text-align: left;\">0.996</td><td style = \"text-align: right;\">4377</td><td style = \"text-align: left;\">Union{Missing, Float64}</td></tr><tr><td class = \"rowNumber\" style = \"font-weight: bold; text-align: right;\">12</td><td style = \"text-align: left;\">liveness</td><td style = \"text-align: left;\">0.19617</td><td style = \"text-align: left;\">0.0119</td><td style = \"text-align: left;\">0.129</td><td style = \"text-align: left;\">1.0</td><td style = \"text-align: right;\">0</td><td style = \"text-align: left;\">Float64</td></tr><tr><td class = \"rowNumber\" style = \"font-weight: bold; text-align: right;\">13</td><td style = \"text-align: left;\">valence</td><td style = \"text-align: left;\">0.486208</td><td style = \"text-align: left;\">0.0183</td><td style = \"text-align: left;\">0.481</td><td style = \"text-align: left;\">0.986</td><td style = \"text-align: right;\">0</td><td style = \"text-align: left;\">Float64</td></tr><tr><td class = \"rowNumber\" style = \"font-weight: bold; text-align: right;\">14</td><td style = \"text-align: left;\">tempo</td><td style = \"text-align: left;\">122.623</td><td style = \"text-align: left;\">30.557</td><td style = \"text-align: left;\">120.066</td><td style = \"text-align: left;\">217.416</td><td style = \"text-align: right;\">0</td><td style = \"text-align: left;\">Float64</td></tr><tr><td class = \"rowNumber\" style = \"font-weight: bold; text-align: right;\">15</td><td style = \"text-align: left;\">duration_in min/ms</td><td style = \"text-align: left;\">2.00744e5</td><td style = \"text-align: left;\">0.50165</td><td style = \"text-align: left;\">209160.0</td><td style = \"text-align: left;\">1.47719e6</td><td style = \"text-align: right;\">0</td><td style = \"text-align: left;\">Float64</td></tr><tr><td class = \"rowNumber\" style = \"font-weight: bold; text-align: right;\">16</td><td style = \"text-align: left;\">time_signature</td><td style = \"font-style: italic; text-align: left;\"></td><td style = \"text-align: left;\">1</td><td style = \"font-style: italic; text-align: left;\"></td><td style = \"text-align: left;\">5</td><td style = \"text-align: right;\">0</td><td style = \"text-align: left;\">String</td></tr><tr><td class = \"rowNumber\" style = \"font-weight: bold; text-align: right;\">17</td><td style = \"text-align: left;\">Class</td><td style = \"font-style: italic; text-align: left;\"></td><td style = \"text-align: left;\">0</td><td style = \"font-style: italic; text-align: left;\"></td><td style = \"text-align: left;\">9</td><td style = \"text-align: right;\">0</td><td style = \"text-align: left;\">String</td></tr></tbody></table></div>"
      ],
      "text/latex": [
       "\\begin{tabular}{r|ccccccc}\n",
       "\t& variable & mean & min & median & max & nmissing & \\\\\n",
       "\t\\hline\n",
       "\t& Symbol & Union… & Any & Union… & Any & Int64 & \\\\\n",
       "\t\\hline\n",
       "\t1 & Artist Name &  & \\$NOT &  & ◊†◊ê◊ì◊î & 0 & $\\dots$ \\\\\n",
       "\t2 & Track Name &  & \"45\" &  & ◊™◊™◊ó◊†◊†◊ô ◊ê◊ú◊ô◊ô & 0 & $\\dots$ \\\\\n",
       "\t3 & Popularity & 44.5121 & 1.0 & 44.0 & 100.0 & 428 & $\\dots$ \\\\\n",
       "\t4 & danceability & 0.543433 & 0.0596 & 0.545 & 0.989 & 0 & $\\dots$ \\\\\n",
       "\t5 & energy & 0.662777 & 2.03e-5 & 0.7 & 1.0 & 0 & $\\dots$ \\\\\n",
       "\t6 & key &  & 1.0 &  & 9.0 & 2014 & $\\dots$ \\\\\n",
       "\t7 & loudness & -7.91066 & -39.952 & -7.016 & 1.355 & 0 & $\\dots$ \\\\\n",
       "\t8 & mode &  & 0 &  & 1 & 0 & $\\dots$ \\\\\n",
       "\t9 & speechiness & 0.079707 & 0.0225 & 0.0474 & 0.955 & 0 & $\\dots$ \\\\\n",
       "\t10 & acousticness & 0.247082 & 0.0 & 0.0814 & 0.996 & 0 & $\\dots$ \\\\\n",
       "\t11 & instrumentalness & 0.177562 & 1.0e-6 & 0.00391 & 0.996 & 4377 & $\\dots$ \\\\\n",
       "\t12 & liveness & 0.19617 & 0.0119 & 0.129 & 1.0 & 0 & $\\dots$ \\\\\n",
       "\t13 & valence & 0.486208 & 0.0183 & 0.481 & 0.986 & 0 & $\\dots$ \\\\\n",
       "\t14 & tempo & 122.623 & 30.557 & 120.066 & 217.416 & 0 & $\\dots$ \\\\\n",
       "\t15 & duration\\_in min/ms & 2.00744e5 & 0.50165 & 209160.0 & 1.47719e6 & 0 & $\\dots$ \\\\\n",
       "\t16 & time\\_signature &  & 1 &  & 5 & 0 & $\\dots$ \\\\\n",
       "\t17 & Class &  & 0 &  & 9 & 0 & $\\dots$ \\\\\n",
       "\\end{tabular}\n"
      ],
      "text/plain": [
       "\u001b[1m17×7 DataFrame\u001b[0m\n",
       "\u001b[1m Row \u001b[0m│\u001b[1m variable           \u001b[0m\u001b[1m mean      \u001b[0m\u001b[1m min     \u001b[0m\u001b[1m median   \u001b[0m\u001b[1m max                  \u001b[0m ⋯\n",
       "     │\u001b[90m Symbol             \u001b[0m\u001b[90m Union…    \u001b[0m\u001b[90m Any     \u001b[0m\u001b[90m Union…   \u001b[0m\u001b[90m Any                  \u001b[0m ⋯\n",
       "─────┼──────────────────────────────────────────────────────────────────────────\n",
       "   1 │ Artist Name        \u001b[90m           \u001b[0m $NOT    \u001b[90m          \u001b[0m ◊†◊ê◊ì◊î              ⋯\n",
       "   2 │ Track Name         \u001b[90m           \u001b[0m \"45\"    \u001b[90m          \u001b[0m ◊™◊™◊ó◊†◊†◊ô ◊ê◊ú◊ô◊ô\n",
       "   3 │ Popularity          44.5121    1.0      44.0      100.0\n",
       "   4 │ danceability        0.543433   0.0596   0.545     0.989\n",
       "   5 │ energy              0.662777   2.03e-5  0.7       1.0                   ⋯\n",
       "   6 │ key                \u001b[90m           \u001b[0m 1.0     \u001b[90m          \u001b[0m 9.0\n",
       "   7 │ loudness            -7.91066   -39.952  -7.016    1.355\n",
       "   8 │ mode               \u001b[90m           \u001b[0m 0       \u001b[90m          \u001b[0m 1\n",
       "   9 │ speechiness         0.079707   0.0225   0.0474    0.955                 ⋯\n",
       "  10 │ acousticness        0.247082   0.0      0.0814    0.996\n",
       "  11 │ instrumentalness    0.177562   1.0e-6   0.00391   0.996\n",
       "  12 │ liveness            0.19617    0.0119   0.129     1.0\n",
       "  13 │ valence             0.486208   0.0183   0.481     0.986                 ⋯\n",
       "  14 │ tempo               122.623    30.557   120.066   217.416\n",
       "  15 │ duration_in min/ms  2.00744e5  0.50165  209160.0  1.47719e6\n",
       "  16 │ time_signature     \u001b[90m           \u001b[0m 1       \u001b[90m          \u001b[0m 5\n",
       "  17 │ Class              \u001b[90m           \u001b[0m 0       \u001b[90m          \u001b[0m 9                     ⋯\n",
       "\u001b[36m                                                               2 columns omitted\u001b[0m"
      ]
     },
     "execution_count": 48,
     "metadata": {},
     "output_type": "execute_result"
    }
   ],
   "source": [
    "df = copy(data);\n",
    "\n",
    "df.\"key\" = map((x) -> toString(x), df.\"key\")\n",
    "df.\"mode\" = map((x) -> toString(x), df.\"mode\")\n",
    "df.\"time_signature\" = map((x) -> toString(x), df.\"time_signature\")\n",
    "df.\"Class\" = map((x) -> toString(x), df.\"Class\")\n",
    "\n",
    "categorical_columns = [\"Artist Name\",\"Track Name\",\"key\",\"mode\",\"Class\",\"time_signature\"]\n",
    "\n",
    "for category in categorical_columns\n",
    "    df[:,category] = categorical(df[:,category]);\n",
    "end\n",
    "\n",
    "describe(df)"
   ]
  },
  {
   "cell_type": "code",
   "execution_count": 49,
   "metadata": {},
   "outputs": [
    {
     "name": "stdout",
     "output_type": "stream",
     "text": [
      "----Popularity----\n",
      "Outliers inf (x<-1.5):0 sup (x>90.5):41\n",
      "Extreme outliers inf (x<-36.0):0 sup (x>125.0):0\n",
      "----danceability----\n",
      "Outliers inf (x<0.091):31 sup (x>1.0):0\n",
      "Extreme outliers inf (x<-0.249):0 sup (x>1.34):0\n",
      "----energy----\n",
      "Outliers inf (x<-0.017):0 sup (x>1.386):0\n",
      "Extreme outliers inf (x<-0.544):0 sup (x>1.913):0\n",
      "----loudness----\n",
      "Outliers inf (x<-16.062):634 sup (x>1.335):3\n",
      "Extreme outliers inf (x<-22.585):181 sup (x>7.858):0\n",
      "----speechiness----\n",
      "Outliers inf (x<-0.038):0 sup (x>0.155):803\n",
      "Extreme outliers inf (x<-0.11):0 sup (x>0.228):1231\n",
      "----acousticness----\n",
      "Outliers inf (x<-0.64):0 sup (x>1.079):0\n",
      "Extreme outliers inf (x<-1.285):0 sup (x>1.723):0\n",
      "----instrumentalness----\n",
      "Outliers inf (x<-0.3):0 sup (x>0.5):1020\n",
      "Extreme outliers inf (x<-0.6):0 sup (x>0.8):1388\n",
      "----liveness----\n",
      "Outliers inf (x<-0.143):0 sup (x>0.499):642\n",
      "Extreme outliers inf (x<-0.384):0 sup (x>0.74):314\n",
      "----valence----\n",
      "Outliers inf (x<-0.266):0 sup (x>1.235):0\n",
      "Extreme outliers inf (x<-0.828):0 sup (x>1.797):0\n",
      "----tempo----\n",
      "Outliers inf (x<36.098):2 sup (x>205.492):34\n",
      "Extreme outliers inf (x<-27.425):0 sup (x>269.015):0\n",
      "----duration_in min/ms----\n",
      "Outliers inf (x<37107.5):2581 sup (x>381719.5):490\n",
      "Extreme outliers inf (x<-92122.0):0 sup (x>510949.0):174\n"
     ]
    }
   ],
   "source": [
    "\n",
    "for colname in names(select(df, Not(categorical_columns)))\n",
    "    noNa_column = skipmissing(df[:,colname])\n",
    "    (sup_outlier,inf_outlier,ext_sup_outlier,ext_inf_outlier) = quartilOutliers(noNa_column)\n",
    "    println(\"----\",colname,\"----\")\n",
    "    \n",
    "    sup_outliers = findall(x-> x > sup_outlier, noNa_column)\n",
    "    inf_outliers = findall(x-> x < inf_outlier, noNa_column)\n",
    "    \n",
    "    ext_sup_outliers = findall(x-> x > ext_sup_outlier, noNa_column)\n",
    "    ext_inf_outliers = findall(x-> x < ext_inf_outlier, noNa_column)\n",
    "\n",
    "    println(\"Outliers inf (x<\",round(inf_outlier; digits=3),\"):\",length(inf_outliers)-length(ext_inf_outliers),\" sup (x>\",round(sup_outlier; digits=3),\"):\",length(sup_outliers)-length(ext_sup_outliers))\n",
    "    println(\"Extreme outliers inf (x<\",round(ext_inf_outlier; digits=3),\"):\",length(ext_inf_outliers),\" sup (x>\",round(ext_sup_outlier; digits=3),\"):\",length(ext_sup_outliers))\n",
    "\n",
    "    if ((length(ext_inf_outliers)+length(ext_sup_outliers))>0)\n",
    "        allowmissing!(df, colname);\n",
    "        df[ext_sup_outliers,colname] .= missing\n",
    "        df[ext_inf_outliers,colname] .= missing\n",
    "    end\n",
    "end"
   ]
  },
  {
   "cell_type": "code",
   "execution_count": 50,
   "metadata": {},
   "outputs": [
    {
     "data": {
      "text/html": [
       "<div><div style = \"float: left;\"><span>17×7 DataFrame</span></div><div style = \"clear: both;\"></div></div><div class = \"data-frame\" style = \"overflow-x: scroll;\"><table class = \"data-frame\" style = \"margin-bottom: 6px;\"><thead><tr class = \"header\"><th class = \"rowNumber\" style = \"font-weight: bold; text-align: right;\">Row</th><th style = \"text-align: left;\">variable</th><th style = \"text-align: left;\">mean</th><th style = \"text-align: left;\">min</th><th style = \"text-align: left;\">median</th><th style = \"text-align: left;\">max</th><th style = \"text-align: left;\">nmissing</th><th style = \"text-align: left;\">eltype</th></tr><tr class = \"subheader headerLastRow\"><th class = \"rowNumber\" style = \"font-weight: bold; text-align: right;\"></th><th title = \"Symbol\" style = \"text-align: left;\">Symbol</th><th title = \"Union{Nothing, Float64}\" style = \"text-align: left;\">Union…</th><th title = \"Any\" style = \"text-align: left;\">Any</th><th title = \"Union{Nothing, Float64}\" style = \"text-align: left;\">Union…</th><th title = \"Any\" style = \"text-align: left;\">Any</th><th title = \"Int64\" style = \"text-align: left;\">Int64</th><th title = \"Type\" style = \"text-align: left;\">Type</th></tr></thead><tbody><tr><td class = \"rowNumber\" style = \"font-weight: bold; text-align: right;\">1</td><td style = \"text-align: left;\">Artist Name</td><td style = \"font-style: italic; text-align: left;\"></td><td style = \"text-align: left;\">$NOT</td><td style = \"font-style: italic; text-align: left;\"></td><td style = \"text-align: left;\">◊†◊ê◊ì◊î</td><td style = \"text-align: right;\">0</td><td style = \"text-align: left;\">String</td></tr><tr><td class = \"rowNumber\" style = \"font-weight: bold; text-align: right;\">2</td><td style = \"text-align: left;\">Track Name</td><td style = \"font-style: italic; text-align: left;\"></td><td style = \"text-align: left;\">&quot;45&quot;</td><td style = \"font-style: italic; text-align: left;\"></td><td style = \"text-align: left;\">◊™◊™◊ó◊†◊†◊ô ◊ê◊ú◊ô◊ô</td><td style = \"text-align: right;\">0</td><td style = \"text-align: left;\">String</td></tr><tr><td class = \"rowNumber\" style = \"font-weight: bold; text-align: right;\">3</td><td style = \"text-align: left;\">Popularity</td><td style = \"text-align: left;\">44.5121</td><td style = \"text-align: left;\">1.0</td><td style = \"text-align: left;\">44.0</td><td style = \"text-align: left;\">100.0</td><td style = \"text-align: right;\">428</td><td style = \"text-align: left;\">Union{Missing, Float64}</td></tr><tr><td class = \"rowNumber\" style = \"font-weight: bold; text-align: right;\">4</td><td style = \"text-align: left;\">danceability</td><td style = \"text-align: left;\">0.543433</td><td style = \"text-align: left;\">0.0596</td><td style = \"text-align: left;\">0.545</td><td style = \"text-align: left;\">0.989</td><td style = \"text-align: right;\">0</td><td style = \"text-align: left;\">Float64</td></tr><tr><td class = \"rowNumber\" style = \"font-weight: bold; text-align: right;\">5</td><td style = \"text-align: left;\">energy</td><td style = \"text-align: left;\">0.662777</td><td style = \"text-align: left;\">2.03e-5</td><td style = \"text-align: left;\">0.7</td><td style = \"text-align: left;\">1.0</td><td style = \"text-align: right;\">0</td><td style = \"text-align: left;\">Float64</td></tr><tr><td class = \"rowNumber\" style = \"font-weight: bold; text-align: right;\">6</td><td style = \"text-align: left;\">key</td><td style = \"font-style: italic; text-align: left;\"></td><td style = \"text-align: left;\">1.0</td><td style = \"font-style: italic; text-align: left;\"></td><td style = \"text-align: left;\">9.0</td><td style = \"text-align: right;\">2014</td><td style = \"text-align: left;\">Union{Missing, String}</td></tr><tr><td class = \"rowNumber\" style = \"font-weight: bold; text-align: right;\">7</td><td style = \"text-align: left;\">loudness</td><td style = \"text-align: left;\">-7.72315</td><td style = \"text-align: left;\">-22.557</td><td style = \"text-align: left;\">-6.981</td><td style = \"text-align: left;\">1.355</td><td style = \"text-align: right;\">181</td><td style = \"text-align: left;\">Union{Missing, Float64}</td></tr><tr><td class = \"rowNumber\" style = \"font-weight: bold; text-align: right;\">8</td><td style = \"text-align: left;\">mode</td><td style = \"font-style: italic; text-align: left;\"></td><td style = \"text-align: left;\">0</td><td style = \"font-style: italic; text-align: left;\"></td><td style = \"text-align: left;\">1</td><td style = \"text-align: right;\">0</td><td style = \"text-align: left;\">String</td></tr><tr><td class = \"rowNumber\" style = \"font-weight: bold; text-align: right;\">9</td><td style = \"text-align: left;\">speechiness</td><td style = \"text-align: left;\">0.0608453</td><td style = \"text-align: left;\">0.0225</td><td style = \"text-align: left;\">0.045</td><td style = \"text-align: left;\">0.227</td><td style = \"text-align: right;\">1231</td><td style = \"text-align: left;\">Union{Missing, Float64}</td></tr><tr><td class = \"rowNumber\" style = \"font-weight: bold; text-align: right;\">10</td><td style = \"text-align: left;\">acousticness</td><td style = \"text-align: left;\">0.247082</td><td style = \"text-align: left;\">0.0</td><td style = \"text-align: left;\">0.0814</td><td style = \"text-align: left;\">0.996</td><td style = \"text-align: right;\">0</td><td style = \"text-align: left;\">Float64</td></tr><tr><td class = \"rowNumber\" style = \"font-weight: bold; text-align: right;\">11</td><td style = \"text-align: left;\">instrumentalness</td><td style = \"text-align: left;\">0.0974663</td><td style = \"text-align: left;\">1.0e-6</td><td style = \"text-align: left;\">0.00177</td><td style = \"text-align: left;\">0.799</td><td style = \"text-align: right;\">5765</td><td style = \"text-align: left;\">Union{Missing, Float64}</td></tr><tr><td class = \"rowNumber\" style = \"font-weight: bold; text-align: right;\">12</td><td style = \"text-align: left;\">liveness</td><td style = \"text-align: left;\">0.184099</td><td style = \"text-align: left;\">0.0119</td><td style = \"text-align: left;\">0.127</td><td style = \"text-align: left;\">0.739</td><td style = \"text-align: right;\">314</td><td style = \"text-align: left;\">Union{Missing, Float64}</td></tr><tr><td class = \"rowNumber\" style = \"font-weight: bold; text-align: right;\">13</td><td style = \"text-align: left;\">valence</td><td style = \"text-align: left;\">0.486208</td><td style = \"text-align: left;\">0.0183</td><td style = \"text-align: left;\">0.481</td><td style = \"text-align: left;\">0.986</td><td style = \"text-align: right;\">0</td><td style = \"text-align: left;\">Float64</td></tr><tr><td class = \"rowNumber\" style = \"font-weight: bold; text-align: right;\">14</td><td style = \"text-align: left;\">tempo</td><td style = \"text-align: left;\">122.623</td><td style = \"text-align: left;\">30.557</td><td style = \"text-align: left;\">120.066</td><td style = \"text-align: left;\">217.416</td><td style = \"text-align: right;\">0</td><td style = \"text-align: left;\">Float64</td></tr><tr><td class = \"rowNumber\" style = \"font-weight: bold; text-align: right;\">15</td><td style = \"text-align: left;\">duration_in min/ms</td><td style = \"text-align: left;\">1.96123e5</td><td style = \"text-align: left;\">0.50165</td><td style = \"text-align: left;\">2.086e5</td><td style = \"text-align: left;\">510587.0</td><td style = \"text-align: right;\">174</td><td style = \"text-align: left;\">Union{Missing, Float64}</td></tr><tr><td class = \"rowNumber\" style = \"font-weight: bold; text-align: right;\">16</td><td style = \"text-align: left;\">time_signature</td><td style = \"font-style: italic; text-align: left;\"></td><td style = \"text-align: left;\">1</td><td style = \"font-style: italic; text-align: left;\"></td><td style = \"text-align: left;\">5</td><td style = \"text-align: right;\">0</td><td style = \"text-align: left;\">String</td></tr><tr><td class = \"rowNumber\" style = \"font-weight: bold; text-align: right;\">17</td><td style = \"text-align: left;\">Class</td><td style = \"font-style: italic; text-align: left;\"></td><td style = \"text-align: left;\">0</td><td style = \"font-style: italic; text-align: left;\"></td><td style = \"text-align: left;\">9</td><td style = \"text-align: right;\">0</td><td style = \"text-align: left;\">String</td></tr></tbody></table></div>"
      ],
      "text/latex": [
       "\\begin{tabular}{r|ccccccc}\n",
       "\t& variable & mean & min & median & max & nmissing & \\\\\n",
       "\t\\hline\n",
       "\t& Symbol & Union… & Any & Union… & Any & Int64 & \\\\\n",
       "\t\\hline\n",
       "\t1 & Artist Name &  & \\$NOT &  & ◊†◊ê◊ì◊î & 0 & $\\dots$ \\\\\n",
       "\t2 & Track Name &  & \"45\" &  & ◊™◊™◊ó◊†◊†◊ô ◊ê◊ú◊ô◊ô & 0 & $\\dots$ \\\\\n",
       "\t3 & Popularity & 44.5121 & 1.0 & 44.0 & 100.0 & 428 & $\\dots$ \\\\\n",
       "\t4 & danceability & 0.543433 & 0.0596 & 0.545 & 0.989 & 0 & $\\dots$ \\\\\n",
       "\t5 & energy & 0.662777 & 2.03e-5 & 0.7 & 1.0 & 0 & $\\dots$ \\\\\n",
       "\t6 & key &  & 1.0 &  & 9.0 & 2014 & $\\dots$ \\\\\n",
       "\t7 & loudness & -7.72315 & -22.557 & -6.981 & 1.355 & 181 & $\\dots$ \\\\\n",
       "\t8 & mode &  & 0 &  & 1 & 0 & $\\dots$ \\\\\n",
       "\t9 & speechiness & 0.0608453 & 0.0225 & 0.045 & 0.227 & 1231 & $\\dots$ \\\\\n",
       "\t10 & acousticness & 0.247082 & 0.0 & 0.0814 & 0.996 & 0 & $\\dots$ \\\\\n",
       "\t11 & instrumentalness & 0.0974663 & 1.0e-6 & 0.00177 & 0.799 & 5765 & $\\dots$ \\\\\n",
       "\t12 & liveness & 0.184099 & 0.0119 & 0.127 & 0.739 & 314 & $\\dots$ \\\\\n",
       "\t13 & valence & 0.486208 & 0.0183 & 0.481 & 0.986 & 0 & $\\dots$ \\\\\n",
       "\t14 & tempo & 122.623 & 30.557 & 120.066 & 217.416 & 0 & $\\dots$ \\\\\n",
       "\t15 & duration\\_in min/ms & 1.96123e5 & 0.50165 & 2.086e5 & 510587.0 & 174 & $\\dots$ \\\\\n",
       "\t16 & time\\_signature &  & 1 &  & 5 & 0 & $\\dots$ \\\\\n",
       "\t17 & Class &  & 0 &  & 9 & 0 & $\\dots$ \\\\\n",
       "\\end{tabular}\n"
      ],
      "text/plain": [
       "\u001b[1m17×7 DataFrame\u001b[0m\n",
       "\u001b[1m Row \u001b[0m│\u001b[1m variable           \u001b[0m\u001b[1m mean      \u001b[0m\u001b[1m min     \u001b[0m\u001b[1m median  \u001b[0m\u001b[1m max                   \u001b[0m\u001b[1m\u001b[0m ⋯\n",
       "     │\u001b[90m Symbol             \u001b[0m\u001b[90m Union…    \u001b[0m\u001b[90m Any     \u001b[0m\u001b[90m Union…  \u001b[0m\u001b[90m Any                   \u001b[0m\u001b[90m\u001b[0m ⋯\n",
       "─────┼──────────────────────────────────────────────────────────────────────────\n",
       "   1 │ Artist Name        \u001b[90m           \u001b[0m $NOT    \u001b[90m         \u001b[0m ◊†◊ê◊ì◊î               ⋯\n",
       "   2 │ Track Name         \u001b[90m           \u001b[0m \"45\"    \u001b[90m         \u001b[0m ◊™◊™◊ó◊†◊†◊ô ◊ê◊ú◊ô◊ô\n",
       "   3 │ Popularity          44.5121    1.0      44.0     100.0\n",
       "   4 │ danceability        0.543433   0.0596   0.545    0.989\n",
       "   5 │ energy              0.662777   2.03e-5  0.7      1.0                    ⋯\n",
       "   6 │ key                \u001b[90m           \u001b[0m 1.0     \u001b[90m         \u001b[0m 9.0\n",
       "   7 │ loudness            -7.72315   -22.557  -6.981   1.355\n",
       "   8 │ mode               \u001b[90m           \u001b[0m 0       \u001b[90m         \u001b[0m 1\n",
       "   9 │ speechiness         0.0608453  0.0225   0.045    0.227                  ⋯\n",
       "  10 │ acousticness        0.247082   0.0      0.0814   0.996\n",
       "  11 │ instrumentalness    0.0974663  1.0e-6   0.00177  0.799\n",
       "  12 │ liveness            0.184099   0.0119   0.127    0.739\n",
       "  13 │ valence             0.486208   0.0183   0.481    0.986                  ⋯\n",
       "  14 │ tempo               122.623    30.557   120.066  217.416\n",
       "  15 │ duration_in min/ms  1.96123e5  0.50165  2.086e5  510587.0\n",
       "  16 │ time_signature     \u001b[90m           \u001b[0m 1       \u001b[90m         \u001b[0m 5\n",
       "  17 │ Class              \u001b[90m           \u001b[0m 0       \u001b[90m         \u001b[0m 9                      ⋯\n",
       "\u001b[36m                                                               2 columns omitted\u001b[0m"
      ]
     },
     "execution_count": 50,
     "metadata": {},
     "output_type": "execute_result"
    }
   ],
   "source": [
    "describe(df)"
   ]
  },
  {
   "cell_type": "markdown",
   "metadata": {},
   "source": [
    "### Quantity of missing values for each column"
   ]
  },
  {
   "cell_type": "code",
   "execution_count": 51,
   "metadata": {},
   "outputs": [
    {
     "data": {
      "text/html": [
       "<div><div style = \"float: left;\"><span>7×8 DataFrame</span></div><div style = \"clear: both;\"></div></div><div class = \"data-frame\" style = \"overflow-x: scroll;\"><table class = \"data-frame\" style = \"margin-bottom: 6px;\"><thead><tr class = \"header\"><th class = \"rowNumber\" style = \"font-weight: bold; text-align: right;\">Row</th><th style = \"text-align: left;\">variable</th><th style = \"text-align: left;\">nmissing</th><th style = \"text-align: left;\">eltype</th><th style = \"text-align: left;\">mean</th><th style = \"text-align: left;\">std</th><th style = \"text-align: left;\">min</th><th style = \"text-align: left;\">max</th><th style = \"text-align: left;\">prop</th></tr><tr class = \"subheader headerLastRow\"><th class = \"rowNumber\" style = \"font-weight: bold; text-align: right;\"></th><th title = \"Symbol\" style = \"text-align: left;\">Symbol</th><th title = \"Int64\" style = \"text-align: left;\">Int64</th><th title = \"Type\" style = \"text-align: left;\">Type</th><th title = \"Union{Nothing, Float64}\" style = \"text-align: left;\">Union…</th><th title = \"Union{Nothing, Float64}\" style = \"text-align: left;\">Union…</th><th title = \"Any\" style = \"text-align: left;\">Any</th><th title = \"Any\" style = \"text-align: left;\">Any</th><th title = \"Float64\" style = \"text-align: left;\">Float64</th></tr></thead><tbody><tr><td class = \"rowNumber\" style = \"font-weight: bold; text-align: right;\">1</td><td style = \"text-align: left;\">Popularity</td><td style = \"text-align: right;\">428</td><td style = \"text-align: left;\">Union{Missing, Float64}</td><td style = \"text-align: left;\">44.5121</td><td style = \"text-align: left;\">17.4269</td><td style = \"text-align: left;\">1.0</td><td style = \"text-align: left;\">100.0</td><td style = \"text-align: right;\">4.23469</td></tr><tr><td class = \"rowNumber\" style = \"font-weight: bold; text-align: right;\">2</td><td style = \"text-align: left;\">key</td><td style = \"text-align: right;\">2014</td><td style = \"text-align: left;\">Union{Missing, String}</td><td style = \"font-style: italic; text-align: left;\"></td><td style = \"font-style: italic; text-align: left;\"></td><td style = \"text-align: left;\">1.0</td><td style = \"text-align: left;\">9.0</td><td style = \"text-align: right;\">19.9268</td></tr><tr><td class = \"rowNumber\" style = \"font-weight: bold; text-align: right;\">3</td><td style = \"text-align: left;\">loudness</td><td style = \"text-align: right;\">181</td><td style = \"text-align: left;\">Union{Missing, Float64}</td><td style = \"text-align: left;\">-7.72315</td><td style = \"text-align: left;\">3.59986</td><td style = \"text-align: left;\">-22.557</td><td style = \"text-align: left;\">1.355</td><td style = \"text-align: right;\">1.79084</td></tr><tr><td class = \"rowNumber\" style = \"font-weight: bold; text-align: right;\">4</td><td style = \"text-align: left;\">speechiness</td><td style = \"text-align: right;\">1231</td><td style = \"text-align: left;\">Union{Missing, Float64}</td><td style = \"text-align: left;\">0.0608453</td><td style = \"text-align: left;\">0.0403151</td><td style = \"text-align: left;\">0.0225</td><td style = \"text-align: left;\">0.227</td><td style = \"text-align: right;\">12.1797</td></tr><tr><td class = \"rowNumber\" style = \"font-weight: bold; text-align: right;\">5</td><td style = \"text-align: left;\">instrumentalness</td><td style = \"text-align: right;\">5765</td><td style = \"text-align: left;\">Union{Missing, Float64}</td><td style = \"text-align: left;\">0.0974663</td><td style = \"text-align: left;\">0.199419</td><td style = \"text-align: left;\">1.0e-6</td><td style = \"text-align: left;\">0.799</td><td style = \"text-align: right;\">57.0397</td></tr><tr><td class = \"rowNumber\" style = \"font-weight: bold; text-align: right;\">6</td><td style = \"text-align: left;\">liveness</td><td style = \"text-align: right;\">314</td><td style = \"text-align: left;\">Union{Missing, Float64}</td><td style = \"text-align: left;\">0.184099</td><td style = \"text-align: left;\">0.131646</td><td style = \"text-align: left;\">0.0119</td><td style = \"text-align: left;\">0.739</td><td style = \"text-align: right;\">3.10676</td></tr><tr><td class = \"rowNumber\" style = \"font-weight: bold; text-align: right;\">7</td><td style = \"text-align: left;\">duration_in min/ms</td><td style = \"text-align: right;\">174</td><td style = \"text-align: left;\">Union{Missing, Float64}</td><td style = \"text-align: left;\">1.96123e5</td><td style = \"text-align: left;\">1.00199e5</td><td style = \"text-align: left;\">0.50165</td><td style = \"text-align: left;\">510587.0</td><td style = \"text-align: right;\">1.72158</td></tr></tbody></table></div>"
      ],
      "text/latex": [
       "\\begin{tabular}{r|ccccccc}\n",
       "\t& variable & nmissing & eltype & mean & std & min & \\\\\n",
       "\t\\hline\n",
       "\t& Symbol & Int64 & Type & Union… & Union… & Any & \\\\\n",
       "\t\\hline\n",
       "\t1 & Popularity & 428 & Union\\{Missing, Float64\\} & 44.5121 & 17.4269 & 1.0 & $\\dots$ \\\\\n",
       "\t2 & key & 2014 & Union\\{Missing, String\\} &  &  & 1.0 & $\\dots$ \\\\\n",
       "\t3 & loudness & 181 & Union\\{Missing, Float64\\} & -7.72315 & 3.59986 & -22.557 & $\\dots$ \\\\\n",
       "\t4 & speechiness & 1231 & Union\\{Missing, Float64\\} & 0.0608453 & 0.0403151 & 0.0225 & $\\dots$ \\\\\n",
       "\t5 & instrumentalness & 5765 & Union\\{Missing, Float64\\} & 0.0974663 & 0.199419 & 1.0e-6 & $\\dots$ \\\\\n",
       "\t6 & liveness & 314 & Union\\{Missing, Float64\\} & 0.184099 & 0.131646 & 0.0119 & $\\dots$ \\\\\n",
       "\t7 & duration\\_in min/ms & 174 & Union\\{Missing, Float64\\} & 1.96123e5 & 1.00199e5 & 0.50165 & $\\dots$ \\\\\n",
       "\\end{tabular}\n"
      ],
      "text/plain": [
       "\u001b[1m7×8 DataFrame\u001b[0m\n",
       "\u001b[1m Row \u001b[0m│\u001b[1m variable           \u001b[0m\u001b[1m nmissing \u001b[0m\u001b[1m eltype                  \u001b[0m\u001b[1m mean      \u001b[0m\u001b[1m std  \u001b[0m ⋯\n",
       "     │\u001b[90m Symbol             \u001b[0m\u001b[90m Int64    \u001b[0m\u001b[90m Type                    \u001b[0m\u001b[90m Union…    \u001b[0m\u001b[90m Union\u001b[0m ⋯\n",
       "─────┼──────────────────────────────────────────────────────────────────────────\n",
       "   1 │ Popularity               428  Union{Missing, Float64}  44.5121    17.42 ⋯\n",
       "   2 │ key                     2014  Union{Missing, String}  \u001b[90m           \u001b[0m\u001b[90m      \u001b[0m\n",
       "   3 │ loudness                 181  Union{Missing, Float64}  -7.72315   3.599\n",
       "   4 │ speechiness             1231  Union{Missing, Float64}  0.0608453  0.040\n",
       "   5 │ instrumentalness        5765  Union{Missing, Float64}  0.0974663  0.199 ⋯\n",
       "   6 │ liveness                 314  Union{Missing, Float64}  0.184099   0.131\n",
       "   7 │ duration_in min/ms       174  Union{Missing, Float64}  1.96123e5  1.001\n",
       "\u001b[36m                                                               4 columns omitted\u001b[0m"
      ]
     },
     "execution_count": 51,
     "metadata": {},
     "output_type": "execute_result"
    }
   ],
   "source": [
    "mvalues = describe(df,:nmissing,:eltype,:mean,:std,:min,:max)\n",
    "mvalues.prop = mvalues.nmissing./sum(mvalues.nmissing)*100\n",
    "mvalues = mvalues[mvalues.nmissing.>0,:]"
   ]
  },
  {
   "cell_type": "markdown",
   "metadata": {},
   "source": [
    "### Missing values Imputation\n",
    "\n",
    "#### Correlation analysis"
   ]
  },
  {
   "cell_type": "code",
   "execution_count": 75,
   "metadata": {},
   "outputs": [
    {
     "data": {
      "text/html": [
       "<div><div style = \"float: left;\"><span>11×7 DataFrame</span></div><div style = \"clear: both;\"></div></div><div class = \"data-frame\" style = \"overflow-x: scroll;\"><table class = \"data-frame\" style = \"margin-bottom: 6px;\"><thead><tr class = \"header\"><th class = \"rowNumber\" style = \"font-weight: bold; text-align: right;\">Row</th><th style = \"text-align: left;\">col_name</th><th style = \"text-align: left;\">Popularity</th><th style = \"text-align: left;\">loudness</th><th style = \"text-align: left;\">speechiness</th><th style = \"text-align: left;\">instrumentalness</th><th style = \"text-align: left;\">liveness</th><th style = \"text-align: left;\">duration_in min/ms</th></tr><tr class = \"subheader headerLastRow\"><th class = \"rowNumber\" style = \"font-weight: bold; text-align: right;\"></th><th title = \"Any\" style = \"text-align: left;\">Any</th><th title = \"Any\" style = \"text-align: left;\">Any</th><th title = \"Any\" style = \"text-align: left;\">Any</th><th title = \"Any\" style = \"text-align: left;\">Any</th><th title = \"Any\" style = \"text-align: left;\">Any</th><th title = \"Any\" style = \"text-align: left;\">Any</th><th title = \"Any\" style = \"text-align: left;\">Any</th></tr></thead><tbody><tr><td class = \"rowNumber\" style = \"font-weight: bold; text-align: right;\">1</td><td style = \"text-align: left;\">Popularity</td><td style = \"text-align: left;\">1.0</td><td style = \"text-align: left;\">0.0</td><td style = \"text-align: left;\">0.0</td><td style = \"text-align: left;\">0.0</td><td style = \"text-align: left;\">0.0</td><td style = \"text-align: left;\">0.0</td></tr><tr><td class = \"rowNumber\" style = \"font-weight: bold; text-align: right;\">2</td><td style = \"text-align: left;\">danceability</td><td style = \"text-align: left;\">0.0</td><td style = \"text-align: left;\">0.0</td><td style = \"text-align: left;\">0.0</td><td style = \"text-align: left;\">0.0</td><td style = \"text-align: left;\">0.0</td><td style = \"text-align: left;\">0.0</td></tr><tr><td class = \"rowNumber\" style = \"font-weight: bold; text-align: right;\">3</td><td style = \"text-align: left;\">energy</td><td style = \"text-align: left;\">0.0</td><td style = \"text-align: left;\">0.760718</td><td style = \"text-align: left;\">0.0</td><td style = \"text-align: left;\">0.0</td><td style = \"text-align: left;\">0.0</td><td style = \"text-align: left;\">0.0</td></tr><tr><td class = \"rowNumber\" style = \"font-weight: bold; text-align: right;\">4</td><td style = \"text-align: left;\">loudness</td><td style = \"text-align: left;\">0.0</td><td style = \"text-align: left;\">1.0</td><td style = \"text-align: left;\">0.0</td><td style = \"text-align: left;\">0.0</td><td style = \"text-align: left;\">0.0</td><td style = \"text-align: left;\">0.0</td></tr><tr><td class = \"rowNumber\" style = \"font-weight: bold; text-align: right;\">5</td><td style = \"text-align: left;\">speechiness</td><td style = \"text-align: left;\">0.0</td><td style = \"text-align: left;\">0.0</td><td style = \"text-align: left;\">1.0</td><td style = \"text-align: left;\">0.0</td><td style = \"text-align: left;\">0.0</td><td style = \"text-align: left;\">0.0</td></tr><tr><td class = \"rowNumber\" style = \"font-weight: bold; text-align: right;\">6</td><td style = \"text-align: left;\">acousticness</td><td style = \"text-align: left;\">0.0</td><td style = \"text-align: left;\">-0.577811</td><td style = \"text-align: left;\">0.0</td><td style = \"text-align: left;\">0.0</td><td style = \"text-align: left;\">0.0</td><td style = \"text-align: left;\">0.0</td></tr><tr><td class = \"rowNumber\" style = \"font-weight: bold; text-align: right;\">7</td><td style = \"text-align: left;\">instrumentalness</td><td style = \"text-align: left;\">0.0</td><td style = \"text-align: left;\">0.0</td><td style = \"text-align: left;\">0.0</td><td style = \"text-align: left;\">1.0</td><td style = \"text-align: left;\">0.0</td><td style = \"text-align: left;\">0.0</td></tr><tr><td class = \"rowNumber\" style = \"font-weight: bold; text-align: right;\">8</td><td style = \"text-align: left;\">liveness</td><td style = \"text-align: left;\">0.0</td><td style = \"text-align: left;\">0.0</td><td style = \"text-align: left;\">0.0</td><td style = \"text-align: left;\">0.0</td><td style = \"text-align: left;\">1.0</td><td style = \"text-align: left;\">0.0</td></tr><tr><td class = \"rowNumber\" style = \"font-weight: bold; text-align: right;\">9</td><td style = \"text-align: left;\">valence</td><td style = \"text-align: left;\">0.0</td><td style = \"text-align: left;\">0.0</td><td style = \"text-align: left;\">0.0</td><td style = \"text-align: left;\">0.0</td><td style = \"text-align: left;\">0.0</td><td style = \"text-align: left;\">0.0</td></tr><tr><td class = \"rowNumber\" style = \"font-weight: bold; text-align: right;\">10</td><td style = \"text-align: left;\">tempo</td><td style = \"text-align: left;\">0.0</td><td style = \"text-align: left;\">0.0</td><td style = \"text-align: left;\">0.0</td><td style = \"text-align: left;\">0.0</td><td style = \"text-align: left;\">0.0</td><td style = \"text-align: left;\">0.0</td></tr><tr><td class = \"rowNumber\" style = \"font-weight: bold; text-align: right;\">11</td><td style = \"text-align: left;\">duration_in min/ms</td><td style = \"text-align: left;\">0.0</td><td style = \"text-align: left;\">0.0</td><td style = \"text-align: left;\">0.0</td><td style = \"text-align: left;\">0.0</td><td style = \"text-align: left;\">0.0</td><td style = \"text-align: left;\">1.0</td></tr></tbody></table></div>"
      ],
      "text/latex": [
       "\\begin{tabular}{r|ccccccc}\n",
       "\t& col\\_name & Popularity & loudness & speechiness & instrumentalness & liveness & \\\\\n",
       "\t\\hline\n",
       "\t& Any & Any & Any & Any & Any & Any & \\\\\n",
       "\t\\hline\n",
       "\t1 & Popularity & 1.0 & 0.0 & 0.0 & 0.0 & 0.0 & $\\dots$ \\\\\n",
       "\t2 & danceability & 0.0 & 0.0 & 0.0 & 0.0 & 0.0 & $\\dots$ \\\\\n",
       "\t3 & energy & 0.0 & 0.760718 & 0.0 & 0.0 & 0.0 & $\\dots$ \\\\\n",
       "\t4 & loudness & 0.0 & 1.0 & 0.0 & 0.0 & 0.0 & $\\dots$ \\\\\n",
       "\t5 & speechiness & 0.0 & 0.0 & 1.0 & 0.0 & 0.0 & $\\dots$ \\\\\n",
       "\t6 & acousticness & 0.0 & -0.577811 & 0.0 & 0.0 & 0.0 & $\\dots$ \\\\\n",
       "\t7 & instrumentalness & 0.0 & 0.0 & 0.0 & 1.0 & 0.0 & $\\dots$ \\\\\n",
       "\t8 & liveness & 0.0 & 0.0 & 0.0 & 0.0 & 1.0 & $\\dots$ \\\\\n",
       "\t9 & valence & 0.0 & 0.0 & 0.0 & 0.0 & 0.0 & $\\dots$ \\\\\n",
       "\t10 & tempo & 0.0 & 0.0 & 0.0 & 0.0 & 0.0 & $\\dots$ \\\\\n",
       "\t11 & duration\\_in min/ms & 0.0 & 0.0 & 0.0 & 0.0 & 0.0 & $\\dots$ \\\\\n",
       "\\end{tabular}\n"
      ],
      "text/plain": [
       "\u001b[1m11×7 DataFrame\u001b[0m\n",
       "\u001b[1m Row \u001b[0m│\u001b[1m col_name           \u001b[0m\u001b[1m Popularity \u001b[0m\u001b[1m loudness  \u001b[0m\u001b[1m speechiness \u001b[0m\u001b[1m instrumentalnes\u001b[0m ⋯\n",
       "     │\u001b[90m Any                \u001b[0m\u001b[90m Any        \u001b[0m\u001b[90m Any       \u001b[0m\u001b[90m Any         \u001b[0m\u001b[90m Any            \u001b[0m ⋯\n",
       "─────┼──────────────────────────────────────────────────────────────────────────\n",
       "   1 │ Popularity          1.0         0.0        0.0          0.0             ⋯\n",
       "   2 │ danceability        0.0         0.0        0.0          0.0\n",
       "   3 │ energy              0.0         0.760718   0.0          0.0\n",
       "   4 │ loudness            0.0         1.0        0.0          0.0\n",
       "   5 │ speechiness         0.0         0.0        1.0          0.0             ⋯\n",
       "   6 │ acousticness        0.0         -0.577811  0.0          0.0\n",
       "   7 │ instrumentalness    0.0         0.0        0.0          1.0\n",
       "   8 │ liveness            0.0         0.0        0.0          0.0\n",
       "   9 │ valence             0.0         0.0        0.0          0.0             ⋯\n",
       "  10 │ tempo               0.0         0.0        0.0          0.0\n",
       "  11 │ duration_in min/ms  0.0         0.0        0.0          0.0\n",
       "\u001b[36m                                                               3 columns omitted\u001b[0m"
      ]
     },
     "execution_count": 75,
     "metadata": {},
     "output_type": "execute_result"
    }
   ],
   "source": [
    "na_numeric_columns = [\"Popularity\",\"loudness\",\"speechiness\",\"instrumentalness\",\"liveness\",\"duration_in min/ms\"]\n",
    "\n",
    "df_numerical_columns = select(df[completecases(df),:], Not(categorical_columns))\n",
    "\n",
    "table_names = append!([\"col_name\"],na_numeric_columns)\n",
    "\n",
    "corr_matrix = DataFrame([ name =>[] for name in table_names])\n",
    "for i in 1:size(df_numerical_columns,2)\n",
    "    push!(corr_matrix,zeros(length(table_names)))\n",
    "end\n",
    "\n",
    "for (index,column) in enumerate(names(df_numerical_columns))\n",
    "    corr_matrix[index,\"col_name\"] = column\n",
    "    for sub_column in na_numeric_columns\n",
    "        corr_value = cor(df_numerical_columns[:,sub_column],df_numerical_columns[:,column])\n",
    "        if (abs(corr_value)>0.5)\n",
    "            corr_matrix[index,sub_column] = corr_value\n",
    "        end\n",
    "    end\n",
    "end\n",
    "\n",
    "corr_matrix"
   ]
  },
  {
   "cell_type": "code",
   "execution_count": 8,
   "metadata": {},
   "outputs": [],
   "source": [
    "using ScikitLearn\n",
    "#@sk_import neighbors: KNeighborsClassifier\n",
    "@sk_import neighbors: KNeighborsRegressor\n",
    "@sk_import linear_model:LogisticRegression\n",
    "using ScikitLearn.CrossValidation: cross_val_score"
   ]
  },
  {
   "cell_type": "code",
   "execution_count": 56,
   "metadata": {},
   "outputs": [
    {
     "data": {
      "text/html": [
       "<style>#sk-container-id-6 {color: black;background-color: white;}#sk-container-id-6 pre{padding: 0;}#sk-container-id-6 div.sk-toggleable {background-color: white;}#sk-container-id-6 label.sk-toggleable__label {cursor: pointer;display: block;width: 100%;margin-bottom: 0;padding: 0.3em;box-sizing: border-box;text-align: center;}#sk-container-id-6 label.sk-toggleable__label-arrow:before {content: \"▸\";float: left;margin-right: 0.25em;color: #696969;}#sk-container-id-6 label.sk-toggleable__label-arrow:hover:before {color: black;}#sk-container-id-6 div.sk-estimator:hover label.sk-toggleable__label-arrow:before {color: black;}#sk-container-id-6 div.sk-toggleable__content {max-height: 0;max-width: 0;overflow: hidden;text-align: left;background-color: #f0f8ff;}#sk-container-id-6 div.sk-toggleable__content pre {margin: 0.2em;color: black;border-radius: 0.25em;background-color: #f0f8ff;}#sk-container-id-6 input.sk-toggleable__control:checked~div.sk-toggleable__content {max-height: 200px;max-width: 100%;overflow: auto;}#sk-container-id-6 input.sk-toggleable__control:checked~label.sk-toggleable__label-arrow:before {content: \"▾\";}#sk-container-id-6 div.sk-estimator input.sk-toggleable__control:checked~label.sk-toggleable__label {background-color: #d4ebff;}#sk-container-id-6 div.sk-label input.sk-toggleable__control:checked~label.sk-toggleable__label {background-color: #d4ebff;}#sk-container-id-6 input.sk-hidden--visually {border: 0;clip: rect(1px 1px 1px 1px);clip: rect(1px, 1px, 1px, 1px);height: 1px;margin: -1px;overflow: hidden;padding: 0;position: absolute;width: 1px;}#sk-container-id-6 div.sk-estimator {font-family: monospace;background-color: #f0f8ff;border: 1px dotted black;border-radius: 0.25em;box-sizing: border-box;margin-bottom: 0.5em;}#sk-container-id-6 div.sk-estimator:hover {background-color: #d4ebff;}#sk-container-id-6 div.sk-parallel-item::after {content: \"\";width: 100%;border-bottom: 1px solid gray;flex-grow: 1;}#sk-container-id-6 div.sk-label:hover label.sk-toggleable__label {background-color: #d4ebff;}#sk-container-id-6 div.sk-serial::before {content: \"\";position: absolute;border-left: 1px solid gray;box-sizing: border-box;top: 0;bottom: 0;left: 50%;z-index: 0;}#sk-container-id-6 div.sk-serial {display: flex;flex-direction: column;align-items: center;background-color: white;padding-right: 0.2em;padding-left: 0.2em;position: relative;}#sk-container-id-6 div.sk-item {position: relative;z-index: 1;}#sk-container-id-6 div.sk-parallel {display: flex;align-items: stretch;justify-content: center;background-color: white;position: relative;}#sk-container-id-6 div.sk-item::before, #sk-container-id-6 div.sk-parallel-item::before {content: \"\";position: absolute;border-left: 1px solid gray;box-sizing: border-box;top: 0;bottom: 0;left: 50%;z-index: -1;}#sk-container-id-6 div.sk-parallel-item {display: flex;flex-direction: column;z-index: 1;position: relative;background-color: white;}#sk-container-id-6 div.sk-parallel-item:first-child::after {align-self: flex-end;width: 50%;}#sk-container-id-6 div.sk-parallel-item:last-child::after {align-self: flex-start;width: 50%;}#sk-container-id-6 div.sk-parallel-item:only-child::after {width: 0;}#sk-container-id-6 div.sk-dashed-wrapped {border: 1px dashed gray;margin: 0 0.4em 0.5em 0.4em;box-sizing: border-box;padding-bottom: 0.4em;background-color: white;}#sk-container-id-6 div.sk-label label {font-family: monospace;font-weight: bold;display: inline-block;line-height: 1.2em;}#sk-container-id-6 div.sk-label-container {text-align: center;}#sk-container-id-6 div.sk-container {/* jupyter's `normalize.less` sets `[hidden] { display: none; }` but bootstrap.min.css set `[hidden] { display: none !important; }` so we also need the `!important` here to be able to override the default hidden behavior on the sphinx rendered scikit-learn.org. See: https://github.com/scikit-learn/scikit-learn/issues/21755 */display: inline-block !important;position: relative;}#sk-container-id-6 div.sk-text-repr-fallback {display: none;}</style><div id=\"sk-container-id-6\" class=\"sk-top-container\"><div class=\"sk-text-repr-fallback\"><pre>KNeighborsRegressor()</pre><b>In a Jupyter environment, please rerun this cell to show the HTML representation or trust the notebook. <br />On GitHub, the HTML representation is unable to render, please try loading this page with nbviewer.org.</b></div><div class=\"sk-container\" hidden><div class=\"sk-item\"><div class=\"sk-estimator sk-toggleable\"><input class=\"sk-toggleable__control sk-hidden--visually\" id=\"sk-estimator-id-6\" type=\"checkbox\" checked><label for=\"sk-estimator-id-6\" class=\"sk-toggleable__label sk-toggleable__label-arrow\">KNeighborsRegressor</label><div class=\"sk-toggleable__content\"><pre>KNeighborsRegressor()</pre></div></div></div></div></div>"
      ],
      "text/plain": [
       "PyObject KNeighborsRegressor()"
      ]
     },
     "execution_count": 56,
     "metadata": {},
     "output_type": "execute_result"
    }
   ],
   "source": [
    "df_numerical_columns = select(df[completecases(df),:], Not(categorical_columns))\n",
    "X = select(df_numerical_columns,Not([\"Popularity\",\"instrumentalness\"]))\n",
    "y1 = select(df_numerical_columns,\"Popularity\")\n",
    "y2 = select(df_numerical_columns,\"instrumentalness\")\n",
    "\n",
    "model = KNeighborsRegressor(n_neighbors=5)\n",
    "model.fit(Matrix(X), Matrix(y1))"
   ]
  },
  {
   "cell_type": "code",
   "execution_count": 57,
   "metadata": {},
   "outputs": [
    {
     "data": {
      "text/html": [
       "<div><div style = \"float: left;\"><span>428×10 DataFrame</span></div><div style = \"float: right;\"><span style = \"font-style: italic;\">403 rows omitted</span></div><div style = \"clear: both;\"></div></div><div class = \"data-frame\" style = \"overflow-x: scroll;\"><table class = \"data-frame\" style = \"margin-bottom: 6px;\"><thead><tr class = \"header\"><th class = \"rowNumber\" style = \"font-weight: bold; text-align: right;\">Row</th><th style = \"text-align: left;\">Popularity</th><th style = \"text-align: left;\">danceability</th><th style = \"text-align: left;\">energy</th><th style = \"text-align: left;\">loudness</th><th style = \"text-align: left;\">speechiness</th><th style = \"text-align: left;\">acousticness</th><th style = \"text-align: left;\">liveness</th><th style = \"text-align: left;\">valence</th><th style = \"text-align: left;\">tempo</th><th style = \"text-align: left;\">duration_in min/ms</th></tr><tr class = \"subheader headerLastRow\"><th class = \"rowNumber\" style = \"font-weight: bold; text-align: right;\"></th><th title = \"Union{Missing, Float64}\" style = \"text-align: left;\">Float64?</th><th title = \"Float64\" style = \"text-align: left;\">Float64</th><th title = \"Float64\" style = \"text-align: left;\">Float64</th><th title = \"Float64\" style = \"text-align: left;\">Float64</th><th title = \"Float64\" style = \"text-align: left;\">Float64</th><th title = \"Float64\" style = \"text-align: left;\">Float64</th><th title = \"Float64\" style = \"text-align: left;\">Float64</th><th title = \"Float64\" style = \"text-align: left;\">Float64</th><th title = \"Float64\" style = \"text-align: left;\">Float64</th><th title = \"Float64\" style = \"text-align: left;\">Float64</th></tr></thead><tbody><tr><td class = \"rowNumber\" style = \"font-weight: bold; text-align: right;\">1</td><td style = \"font-style: italic; text-align: right;\">missing</td><td style = \"text-align: right;\">0.548</td><td style = \"text-align: right;\">0.711</td><td style = \"text-align: right;\">-8.44</td><td style = \"text-align: right;\">0.107</td><td style = \"text-align: right;\">0.542</td><td style = \"text-align: right;\">0.355</td><td style = \"text-align: right;\">0.618</td><td style = \"text-align: right;\">119.675</td><td style = \"text-align: right;\">4.01563</td></tr><tr><td class = \"rowNumber\" style = \"font-weight: bold; text-align: right;\">2</td><td style = \"font-style: italic; text-align: right;\">missing</td><td style = \"text-align: right;\">0.618</td><td style = \"text-align: right;\">0.438</td><td style = \"text-align: right;\">-7.495</td><td style = \"text-align: right;\">0.0762</td><td style = \"text-align: right;\">0.407</td><td style = \"text-align: right;\">0.5</td><td style = \"text-align: right;\">0.651</td><td style = \"text-align: right;\">155.014</td><td style = \"text-align: right;\">209307.0</td></tr><tr><td class = \"rowNumber\" style = \"font-weight: bold; text-align: right;\">3</td><td style = \"font-style: italic; text-align: right;\">missing</td><td style = \"text-align: right;\">0.523</td><td style = \"text-align: right;\">0.441</td><td style = \"text-align: right;\">-9.928</td><td style = \"text-align: right;\">0.0311</td><td style = \"text-align: right;\">0.465</td><td style = \"text-align: right;\">0.365</td><td style = \"text-align: right;\">0.49</td><td style = \"text-align: right;\">171.246</td><td style = \"text-align: right;\">3.38512</td></tr><tr><td class = \"rowNumber\" style = \"font-weight: bold; text-align: right;\">4</td><td style = \"font-style: italic; text-align: right;\">missing</td><td style = \"text-align: right;\">0.381</td><td style = \"text-align: right;\">0.214</td><td style = \"text-align: right;\">-11.629</td><td style = \"text-align: right;\">0.0337</td><td style = \"text-align: right;\">0.944</td><td style = \"text-align: right;\">0.106</td><td style = \"text-align: right;\">0.393</td><td style = \"text-align: right;\">127.581</td><td style = \"text-align: right;\">3.586</td></tr><tr><td class = \"rowNumber\" style = \"font-weight: bold; text-align: right;\">5</td><td style = \"font-style: italic; text-align: right;\">missing</td><td style = \"text-align: right;\">0.545</td><td style = \"text-align: right;\">0.919</td><td style = \"text-align: right;\">-7.679</td><td style = \"text-align: right;\">0.0483</td><td style = \"text-align: right;\">0.00269</td><td style = \"text-align: right;\">0.0978</td><td style = \"text-align: right;\">0.386</td><td style = \"text-align: right;\">104.364</td><td style = \"text-align: right;\">313573.0</td></tr><tr><td class = \"rowNumber\" style = \"font-weight: bold; text-align: right;\">6</td><td style = \"font-style: italic; text-align: right;\">missing</td><td style = \"text-align: right;\">0.521</td><td style = \"text-align: right;\">0.527</td><td style = \"text-align: right;\">-6.371</td><td style = \"text-align: right;\">0.0296</td><td style = \"text-align: right;\">0.0931</td><td style = \"text-align: right;\">0.106</td><td style = \"text-align: right;\">0.273</td><td style = \"text-align: right;\">122.271</td><td style = \"text-align: right;\">259627.0</td></tr><tr><td class = \"rowNumber\" style = \"font-weight: bold; text-align: right;\">7</td><td style = \"font-style: italic; text-align: right;\">missing</td><td style = \"text-align: right;\">0.416</td><td style = \"text-align: right;\">0.623</td><td style = \"text-align: right;\">-7.898</td><td style = \"text-align: right;\">0.045</td><td style = \"text-align: right;\">0.121</td><td style = \"text-align: right;\">0.27</td><td style = \"text-align: right;\">0.194</td><td style = \"text-align: right;\">130.175</td><td style = \"text-align: right;\">311625.0</td></tr><tr><td class = \"rowNumber\" style = \"font-weight: bold; text-align: right;\">8</td><td style = \"font-style: italic; text-align: right;\">missing</td><td style = \"text-align: right;\">0.753</td><td style = \"text-align: right;\">0.591</td><td style = \"text-align: right;\">-7.091</td><td style = \"text-align: right;\">0.045</td><td style = \"text-align: right;\">0.0741</td><td style = \"text-align: right;\">0.108</td><td style = \"text-align: right;\">0.563</td><td style = \"text-align: right;\">101.941</td><td style = \"text-align: right;\">2.74222</td></tr><tr><td class = \"rowNumber\" style = \"font-weight: bold; text-align: right;\">9</td><td style = \"font-style: italic; text-align: right;\">missing</td><td style = \"text-align: right;\">0.368</td><td style = \"text-align: right;\">0.274</td><td style = \"text-align: right;\">-14.878</td><td style = \"text-align: right;\">0.0413</td><td style = \"text-align: right;\">0.956</td><td style = \"text-align: right;\">0.0658</td><td style = \"text-align: right;\">0.0459</td><td style = \"text-align: right;\">84.549</td><td style = \"text-align: right;\">4.5</td></tr><tr><td class = \"rowNumber\" style = \"font-weight: bold; text-align: right;\">10</td><td style = \"font-style: italic; text-align: right;\">missing</td><td style = \"text-align: right;\">0.533</td><td style = \"text-align: right;\">0.565</td><td style = \"text-align: right;\">-7.092</td><td style = \"text-align: right;\">0.0249</td><td style = \"text-align: right;\">0.399</td><td style = \"text-align: right;\">0.315</td><td style = \"text-align: right;\">0.34</td><td style = \"text-align: right;\">82.973</td><td style = \"text-align: right;\">4.33933</td></tr><tr><td class = \"rowNumber\" style = \"font-weight: bold; text-align: right;\">11</td><td style = \"font-style: italic; text-align: right;\">missing</td><td style = \"text-align: right;\">0.63</td><td style = \"text-align: right;\">0.616</td><td style = \"text-align: right;\">-8.128</td><td style = \"text-align: right;\">0.0309</td><td style = \"text-align: right;\">0.463</td><td style = \"text-align: right;\">0.173</td><td style = \"text-align: right;\">0.509</td><td style = \"text-align: right;\">118.65</td><td style = \"text-align: right;\">4.51288</td></tr><tr><td class = \"rowNumber\" style = \"font-weight: bold; text-align: right;\">12</td><td style = \"font-style: italic; text-align: right;\">missing</td><td style = \"text-align: right;\">0.759</td><td style = \"text-align: right;\">0.459</td><td style = \"text-align: right;\">-5.187</td><td style = \"text-align: right;\">0.0948</td><td style = \"text-align: right;\">0.00323</td><td style = \"text-align: right;\">0.0906</td><td style = \"text-align: right;\">0.695</td><td style = \"text-align: right;\">109.997</td><td style = \"text-align: right;\">164442.0</td></tr><tr><td class = \"rowNumber\" style = \"font-weight: bold; text-align: right;\">13</td><td style = \"font-style: italic; text-align: right;\">missing</td><td style = \"text-align: right;\">0.568</td><td style = \"text-align: right;\">0.981</td><td style = \"text-align: right;\">-5.161</td><td style = \"text-align: right;\">0.0835</td><td style = \"text-align: right;\">0.000322</td><td style = \"text-align: right;\">0.133</td><td style = \"text-align: right;\">0.183</td><td style = \"text-align: right;\">122.04</td><td style = \"text-align: right;\">224028.0</td></tr><tr><td style = \"text-align: right;\">&vellip;</td><td style = \"text-align: right;\">&vellip;</td><td style = \"text-align: right;\">&vellip;</td><td style = \"text-align: right;\">&vellip;</td><td style = \"text-align: right;\">&vellip;</td><td style = \"text-align: right;\">&vellip;</td><td style = \"text-align: right;\">&vellip;</td><td style = \"text-align: right;\">&vellip;</td><td style = \"text-align: right;\">&vellip;</td><td style = \"text-align: right;\">&vellip;</td><td style = \"text-align: right;\">&vellip;</td></tr><tr><td class = \"rowNumber\" style = \"font-weight: bold; text-align: right;\">417</td><td style = \"font-style: italic; text-align: right;\">missing</td><td style = \"text-align: right;\">0.581</td><td style = \"text-align: right;\">0.839</td><td style = \"text-align: right;\">-5.468</td><td style = \"text-align: right;\">0.0552</td><td style = \"text-align: right;\">0.00401</td><td style = \"text-align: right;\">0.163</td><td style = \"text-align: right;\">0.224</td><td style = \"text-align: right;\">110.049</td><td style = \"text-align: right;\">132614.0</td></tr><tr><td class = \"rowNumber\" style = \"font-weight: bold; text-align: right;\">418</td><td style = \"font-style: italic; text-align: right;\">missing</td><td style = \"text-align: right;\">0.423</td><td style = \"text-align: right;\">0.158</td><td style = \"text-align: right;\">-15.59</td><td style = \"text-align: right;\">0.0346</td><td style = \"text-align: right;\">0.717</td><td style = \"text-align: right;\">0.0975</td><td style = \"text-align: right;\">0.185</td><td style = \"text-align: right;\">106.974</td><td style = \"text-align: right;\">5.58888</td></tr><tr><td class = \"rowNumber\" style = \"font-weight: bold; text-align: right;\">419</td><td style = \"font-style: italic; text-align: right;\">missing</td><td style = \"text-align: right;\">0.624</td><td style = \"text-align: right;\">0.694</td><td style = \"text-align: right;\">-8.084</td><td style = \"text-align: right;\">0.0258</td><td style = \"text-align: right;\">0.338</td><td style = \"text-align: right;\">0.109</td><td style = \"text-align: right;\">0.912</td><td style = \"text-align: right;\">141.968</td><td style = \"text-align: right;\">3.44533</td></tr><tr><td class = \"rowNumber\" style = \"font-weight: bold; text-align: right;\">420</td><td style = \"font-style: italic; text-align: right;\">missing</td><td style = \"text-align: right;\">0.411</td><td style = \"text-align: right;\">0.512</td><td style = \"text-align: right;\">-7.491</td><td style = \"text-align: right;\">0.027</td><td style = \"text-align: right;\">0.387</td><td style = \"text-align: right;\">0.0676</td><td style = \"text-align: right;\">0.0544</td><td style = \"text-align: right;\">83.399</td><td style = \"text-align: right;\">3.44397</td></tr><tr><td class = \"rowNumber\" style = \"font-weight: bold; text-align: right;\">421</td><td style = \"font-style: italic; text-align: right;\">missing</td><td style = \"text-align: right;\">0.393</td><td style = \"text-align: right;\">0.178</td><td style = \"text-align: right;\">-12.016</td><td style = \"text-align: right;\">0.0318</td><td style = \"text-align: right;\">0.859</td><td style = \"text-align: right;\">0.117</td><td style = \"text-align: right;\">0.178</td><td style = \"text-align: right;\">123.141</td><td style = \"text-align: right;\">4.53333</td></tr><tr><td class = \"rowNumber\" style = \"font-weight: bold; text-align: right;\">422</td><td style = \"font-style: italic; text-align: right;\">missing</td><td style = \"text-align: right;\">0.676</td><td style = \"text-align: right;\">0.92</td><td style = \"text-align: right;\">-7.96</td><td style = \"text-align: right;\">0.0435</td><td style = \"text-align: right;\">0.00101</td><td style = \"text-align: right;\">0.248</td><td style = \"text-align: right;\">0.624</td><td style = \"text-align: right;\">126.341</td><td style = \"text-align: right;\">4.48933</td></tr><tr><td class = \"rowNumber\" style = \"font-weight: bold; text-align: right;\">423</td><td style = \"font-style: italic; text-align: right;\">missing</td><td style = \"text-align: right;\">0.541</td><td style = \"text-align: right;\">0.958</td><td style = \"text-align: right;\">-4.669</td><td style = \"text-align: right;\">0.148</td><td style = \"text-align: right;\">0.000545</td><td style = \"text-align: right;\">0.246</td><td style = \"text-align: right;\">0.249</td><td style = \"text-align: right;\">95.015</td><td style = \"text-align: right;\">239766.0</td></tr><tr><td class = \"rowNumber\" style = \"font-weight: bold; text-align: right;\">424</td><td style = \"font-style: italic; text-align: right;\">missing</td><td style = \"text-align: right;\">0.464</td><td style = \"text-align: right;\">0.493</td><td style = \"text-align: right;\">-5.626</td><td style = \"text-align: right;\">0.0302</td><td style = \"text-align: right;\">0.273</td><td style = \"text-align: right;\">0.221</td><td style = \"text-align: right;\">0.244</td><td style = \"text-align: right;\">120.99</td><td style = \"text-align: right;\">3.74178</td></tr><tr><td class = \"rowNumber\" style = \"font-weight: bold; text-align: right;\">425</td><td style = \"font-style: italic; text-align: right;\">missing</td><td style = \"text-align: right;\">0.502</td><td style = \"text-align: right;\">0.991</td><td style = \"text-align: right;\">-4.612</td><td style = \"text-align: right;\">0.135</td><td style = \"text-align: right;\">0.000173</td><td style = \"text-align: right;\">0.332</td><td style = \"text-align: right;\">0.285</td><td style = \"text-align: right;\">99.953</td><td style = \"text-align: right;\">191100.0</td></tr><tr><td class = \"rowNumber\" style = \"font-weight: bold; text-align: right;\">426</td><td style = \"font-style: italic; text-align: right;\">missing</td><td style = \"text-align: right;\">0.61</td><td style = \"text-align: right;\">0.757</td><td style = \"text-align: right;\">-6.271</td><td style = \"text-align: right;\">0.0377</td><td style = \"text-align: right;\">0.0754</td><td style = \"text-align: right;\">0.147</td><td style = \"text-align: right;\">0.468</td><td style = \"text-align: right;\">162.05</td><td style = \"text-align: right;\">199705.0</td></tr><tr><td class = \"rowNumber\" style = \"font-weight: bold; text-align: right;\">427</td><td style = \"font-style: italic; text-align: right;\">missing</td><td style = \"text-align: right;\">0.385</td><td style = \"text-align: right;\">0.983</td><td style = \"text-align: right;\">-4.052</td><td style = \"text-align: right;\">0.106</td><td style = \"text-align: right;\">9.8e-5</td><td style = \"text-align: right;\">0.291</td><td style = \"text-align: right;\">0.354</td><td style = \"text-align: right;\">156.987</td><td style = \"text-align: right;\">162803.0</td></tr><tr><td class = \"rowNumber\" style = \"font-weight: bold; text-align: right;\">428</td><td style = \"font-style: italic; text-align: right;\">missing</td><td style = \"text-align: right;\">0.585</td><td style = \"text-align: right;\">0.457</td><td style = \"text-align: right;\">-6.777</td><td style = \"text-align: right;\">0.0329</td><td style = \"text-align: right;\">0.158</td><td style = \"text-align: right;\">0.101</td><td style = \"text-align: right;\">0.265</td><td style = \"text-align: right;\">77.999</td><td style = \"text-align: right;\">3.43222</td></tr></tbody></table></div>"
      ],
      "text/latex": [
       "\\begin{tabular}{r|cccccccc}\n",
       "\t& Popularity & danceability & energy & loudness & speechiness & acousticness & liveness & \\\\\n",
       "\t\\hline\n",
       "\t& Float64? & Float64 & Float64 & Float64 & Float64 & Float64 & Float64 & \\\\\n",
       "\t\\hline\n",
       "\t1 & \\emph{missing} & 0.548 & 0.711 & -8.44 & 0.107 & 0.542 & 0.355 & $\\dots$ \\\\\n",
       "\t2 & \\emph{missing} & 0.618 & 0.438 & -7.495 & 0.0762 & 0.407 & 0.5 & $\\dots$ \\\\\n",
       "\t3 & \\emph{missing} & 0.523 & 0.441 & -9.928 & 0.0311 & 0.465 & 0.365 & $\\dots$ \\\\\n",
       "\t4 & \\emph{missing} & 0.381 & 0.214 & -11.629 & 0.0337 & 0.944 & 0.106 & $\\dots$ \\\\\n",
       "\t5 & \\emph{missing} & 0.545 & 0.919 & -7.679 & 0.0483 & 0.00269 & 0.0978 & $\\dots$ \\\\\n",
       "\t6 & \\emph{missing} & 0.521 & 0.527 & -6.371 & 0.0296 & 0.0931 & 0.106 & $\\dots$ \\\\\n",
       "\t7 & \\emph{missing} & 0.416 & 0.623 & -7.898 & 0.045 & 0.121 & 0.27 & $\\dots$ \\\\\n",
       "\t8 & \\emph{missing} & 0.753 & 0.591 & -7.091 & 0.045 & 0.0741 & 0.108 & $\\dots$ \\\\\n",
       "\t9 & \\emph{missing} & 0.368 & 0.274 & -14.878 & 0.0413 & 0.956 & 0.0658 & $\\dots$ \\\\\n",
       "\t10 & \\emph{missing} & 0.533 & 0.565 & -7.092 & 0.0249 & 0.399 & 0.315 & $\\dots$ \\\\\n",
       "\t11 & \\emph{missing} & 0.63 & 0.616 & -8.128 & 0.0309 & 0.463 & 0.173 & $\\dots$ \\\\\n",
       "\t12 & \\emph{missing} & 0.759 & 0.459 & -5.187 & 0.0948 & 0.00323 & 0.0906 & $\\dots$ \\\\\n",
       "\t13 & \\emph{missing} & 0.568 & 0.981 & -5.161 & 0.0835 & 0.000322 & 0.133 & $\\dots$ \\\\\n",
       "\t14 & \\emph{missing} & 0.408 & 0.242 & -15.35 & 0.0328 & 0.538 & 0.0931 & $\\dots$ \\\\\n",
       "\t15 & \\emph{missing} & 0.339 & 0.821 & -5.549 & 0.143 & 0.048 & 0.0938 & $\\dots$ \\\\\n",
       "\t16 & \\emph{missing} & 0.752 & 0.784 & -4.942 & 0.0753 & 0.322 & 0.11 & $\\dots$ \\\\\n",
       "\t17 & \\emph{missing} & 0.456 & 0.383 & -9.516 & 0.0263 & 0.715 & 0.127 & $\\dots$ \\\\\n",
       "\t18 & \\emph{missing} & 0.567 & 0.919 & -4.425 & 0.0713 & 0.0108 & 0.0819 & $\\dots$ \\\\\n",
       "\t19 & \\emph{missing} & 0.631 & 0.461 & -7.912 & 0.0246 & 0.417 & 0.099 & $\\dots$ \\\\\n",
       "\t20 & \\emph{missing} & 0.629 & 0.208 & -16.225 & 0.0324 & 0.824 & 0.107 & $\\dots$ \\\\\n",
       "\t21 & \\emph{missing} & 0.447 & 0.581 & -4.513 & 0.0315 & 0.511 & 0.126 & $\\dots$ \\\\\n",
       "\t22 & \\emph{missing} & 0.444 & 0.991 & -5.412 & 0.101 & 1.65e-5 & 0.118 & $\\dots$ \\\\\n",
       "\t23 & \\emph{missing} & 0.533 & 0.417 & -14.248 & 0.0402 & 0.607 & 0.252 & $\\dots$ \\\\\n",
       "\t24 & \\emph{missing} & 0.494 & 0.506 & -8.298 & 0.398 & 0.373 & 0.105 & $\\dots$ \\\\\n",
       "\t25 & \\emph{missing} & 0.74 & 0.646 & -5.838 & 0.375 & 0.0766 & 0.386 & $\\dots$ \\\\\n",
       "\t26 & \\emph{missing} & 0.493 & 0.968 & -3.615 & 0.0974 & 8.56e-5 & 0.323 & $\\dots$ \\\\\n",
       "\t27 & \\emph{missing} & 0.82 & 0.452 & -9.796 & 0.0348 & 0.543 & 0.0714 & $\\dots$ \\\\\n",
       "\t28 & \\emph{missing} & 0.801 & 0.391 & -8.063 & 0.178 & 0.151 & 0.137 & $\\dots$ \\\\\n",
       "\t29 & \\emph{missing} & 0.824 & 0.812 & -5.367 & 0.18 & 0.189 & 0.269 & $\\dots$ \\\\\n",
       "\t30 & \\emph{missing} & 0.159 & 0.126 & -19.521 & 0.0467 & 0.921 & 0.0847 & $\\dots$ \\\\\n",
       "\t$\\dots$ & $\\dots$ & $\\dots$ & $\\dots$ & $\\dots$ & $\\dots$ & $\\dots$ & $\\dots$ &  \\\\\n",
       "\\end{tabular}\n"
      ],
      "text/plain": [
       "\u001b[1m428×10 DataFrame\u001b[0m\n",
       "\u001b[1m Row \u001b[0m│\u001b[1m Popularity \u001b[0m\u001b[1m danceability \u001b[0m\u001b[1m energy  \u001b[0m\u001b[1m loudness \u001b[0m\u001b[1m speechiness \u001b[0m\u001b[1m acousticness \u001b[0m\u001b[1m\u001b[0m ⋯\n",
       "     │\u001b[90m Float64?   \u001b[0m\u001b[90m Float64      \u001b[0m\u001b[90m Float64 \u001b[0m\u001b[90m Float64  \u001b[0m\u001b[90m Float64     \u001b[0m\u001b[90m Float64      \u001b[0m\u001b[90m\u001b[0m ⋯\n",
       "─────┼──────────────────────────────────────────────────────────────────────────\n",
       "   1 │\u001b[90m    missing \u001b[0m        0.548    0.711    -8.44        0.107       0.542     ⋯\n",
       "   2 │\u001b[90m    missing \u001b[0m        0.618    0.438    -7.495       0.0762      0.407\n",
       "   3 │\u001b[90m    missing \u001b[0m        0.523    0.441    -9.928       0.0311      0.465\n",
       "   4 │\u001b[90m    missing \u001b[0m        0.381    0.214   -11.629       0.0337      0.944\n",
       "   5 │\u001b[90m    missing \u001b[0m        0.545    0.919    -7.679       0.0483      0.00269   ⋯\n",
       "   6 │\u001b[90m    missing \u001b[0m        0.521    0.527    -6.371       0.0296      0.0931\n",
       "   7 │\u001b[90m    missing \u001b[0m        0.416    0.623    -7.898       0.045       0.121\n",
       "   8 │\u001b[90m    missing \u001b[0m        0.753    0.591    -7.091       0.045       0.0741\n",
       "   9 │\u001b[90m    missing \u001b[0m        0.368    0.274   -14.878       0.0413      0.956     ⋯\n",
       "  10 │\u001b[90m    missing \u001b[0m        0.533    0.565    -7.092       0.0249      0.399\n",
       "  11 │\u001b[90m    missing \u001b[0m        0.63     0.616    -8.128       0.0309      0.463\n",
       "  ⋮  │     ⋮            ⋮           ⋮        ⋮           ⋮            ⋮        ⋱\n",
       " 419 │\u001b[90m    missing \u001b[0m        0.624    0.694    -8.084       0.0258      0.338\n",
       " 420 │\u001b[90m    missing \u001b[0m        0.411    0.512    -7.491       0.027       0.387     ⋯\n",
       " 421 │\u001b[90m    missing \u001b[0m        0.393    0.178   -12.016       0.0318      0.859\n",
       " 422 │\u001b[90m    missing \u001b[0m        0.676    0.92     -7.96        0.0435      0.00101\n",
       " 423 │\u001b[90m    missing \u001b[0m        0.541    0.958    -4.669       0.148       0.000545\n",
       " 424 │\u001b[90m    missing \u001b[0m        0.464    0.493    -5.626       0.0302      0.273     ⋯\n",
       " 425 │\u001b[90m    missing \u001b[0m        0.502    0.991    -4.612       0.135       0.000173\n",
       " 426 │\u001b[90m    missing \u001b[0m        0.61     0.757    -6.271       0.0377      0.0754\n",
       " 427 │\u001b[90m    missing \u001b[0m        0.385    0.983    -4.052       0.106       9.8e-5\n",
       " 428 │\u001b[90m    missing \u001b[0m        0.585    0.457    -6.777       0.0329      0.158     ⋯\n",
       "\u001b[36m                                                  4 columns and 407 rows omitted\u001b[0m"
      ]
     },
     "execution_count": 57,
     "metadata": {},
     "output_type": "execute_result"
    }
   ],
   "source": [
    "df_numerical_columns = select(df, Not(categorical_columns))\n",
    "\n",
    "df_instrum = select(df_numerical_columns,Not([\"Popularity\"]))\n",
    "df_instrum = df_instrum[completecases(df_instrum).==0,:]\n",
    "\n",
    "df_popular = select(df_numerical_columns,Not([\"instrumentalness\"]))\n",
    "df_popular = df_popular[completecases(df_popular).==0,:]"
   ]
  },
  {
   "cell_type": "code",
   "execution_count": 61,
   "metadata": {},
   "outputs": [
    {
     "data": {
      "text/plain": [
       "10-element Vector{String}:\n",
       " \"Popularity\"\n",
       " \"danceability\"\n",
       " \"energy\"\n",
       " \"loudness\"\n",
       " \"speechiness\"\n",
       " \"acousticness\"\n",
       " \"liveness\"\n",
       " \"valence\"\n",
       " \"tempo\"\n",
       " \"duration_in min/ms\""
      ]
     },
     "execution_count": 61,
     "metadata": {},
     "output_type": "execute_result"
    }
   ],
   "source": [
    "names(df_popular)"
   ]
  },
  {
   "cell_type": "code",
   "execution_count": 129,
   "metadata": {},
   "outputs": [
    {
     "ename": "LoadError",
     "evalue": "PyError ($(Expr(:escape, :(ccall(#= C:\\Users\\mhorm\\.julia\\packages\\PyCall\\ygXW2\\src\\pyfncall.jl:43 =# @pysym(:PyObject_Call), PyPtr, (PyPtr, PyPtr, PyPtr), o, pyargsptr, kw))))) <class 'ValueError'>\nValueError('Expected 2D array, got 1D array instead:\\narray=[ 8.54000e-01  5.64000e-01 -4.96400e+00  4.85000e-02  1.71000e-02\\n  8.49000e-02  8.99000e-01  1.34071e+02  2.34596e+05].\\nReshape your data either using array.reshape(-1, 1) if your data has a single feature or array.reshape(1, -1) if it contains a single sample.')\n  File \"C:\\Users\\mhorm\\.julia\\conda\\3\\lib\\site-packages\\sklearn\\neighbors\\_regression.py\", line 229, in predict\n    neigh_ind = self.kneighbors(X, return_distance=False)\n  File \"C:\\Users\\mhorm\\.julia\\conda\\3\\lib\\site-packages\\sklearn\\neighbors\\_base.py\", line 745, in kneighbors\n    X = self._validate_data(X, accept_sparse=\"csr\", reset=False, order=\"C\")\n  File \"C:\\Users\\mhorm\\.julia\\conda\\3\\lib\\site-packages\\sklearn\\base.py\", line 577, in _validate_data\n    X = check_array(X, input_name=\"X\", **check_params)\n  File \"C:\\Users\\mhorm\\.julia\\conda\\3\\lib\\site-packages\\sklearn\\utils\\validation.py\", line 879, in check_array\n    raise ValueError(\n",
     "output_type": "error",
     "traceback": [
      "PyError ($(Expr(:escape, :(ccall(#= C:\\Users\\mhorm\\.julia\\packages\\PyCall\\ygXW2\\src\\pyfncall.jl:43 =# @pysym(:PyObject_Call), PyPtr, (PyPtr, PyPtr, PyPtr), o, pyargsptr, kw))))) <class 'ValueError'>\nValueError('Expected 2D array, got 1D array instead:\\narray=[ 8.54000e-01  5.64000e-01 -4.96400e+00  4.85000e-02  1.71000e-02\\n  8.49000e-02  8.99000e-01  1.34071e+02  2.34596e+05].\\nReshape your data either using array.reshape(-1, 1) if your data has a single feature or array.reshape(1, -1) if it contains a single sample.')\n  File \"C:\\Users\\mhorm\\.julia\\conda\\3\\lib\\site-packages\\sklearn\\neighbors\\_regression.py\", line 229, in predict\n    neigh_ind = self.kneighbors(X, return_distance=False)\n  File \"C:\\Users\\mhorm\\.julia\\conda\\3\\lib\\site-packages\\sklearn\\neighbors\\_base.py\", line 745, in kneighbors\n    X = self._validate_data(X, accept_sparse=\"csr\", reset=False, order=\"C\")\n  File \"C:\\Users\\mhorm\\.julia\\conda\\3\\lib\\site-packages\\sklearn\\base.py\", line 577, in _validate_data\n    X = check_array(X, input_name=\"X\", **check_params)\n  File \"C:\\Users\\mhorm\\.julia\\conda\\3\\lib\\site-packages\\sklearn\\utils\\validation.py\", line 879, in check_array\n    raise ValueError(\n",
      "",
      "Stacktrace:",
      "  [1] pyerr_check",
      "    @ C:\\Users\\mhorm\\.julia\\packages\\PyCall\\ygXW2\\src\\exception.jl:62 [inlined]",
      "  [2] pyerr_check",
      "    @ C:\\Users\\mhorm\\.julia\\packages\\PyCall\\ygXW2\\src\\exception.jl:66 [inlined]",
      "  [3] _handle_error(msg::String)",
      "    @ PyCall C:\\Users\\mhorm\\.julia\\packages\\PyCall\\ygXW2\\src\\exception.jl:83",
      "  [4] macro expansion",
      "    @ C:\\Users\\mhorm\\.julia\\packages\\PyCall\\ygXW2\\src\\exception.jl:97 [inlined]",
      "  [5] #107",
      "    @ C:\\Users\\mhorm\\.julia\\packages\\PyCall\\ygXW2\\src\\pyfncall.jl:43 [inlined]",
      "  [6] disable_sigint",
      "    @ .\\c.jl:473 [inlined]",
      "  [7] __pycall!",
      "    @ C:\\Users\\mhorm\\.julia\\packages\\PyCall\\ygXW2\\src\\pyfncall.jl:42 [inlined]",
      "  [8] _pycall!(ret::PyCall.PyObject, o::PyCall.PyObject, args::Tuple{Vector{Float64}}, nargs::Int64, kw::Ptr{Nothing})",
      "    @ PyCall C:\\Users\\mhorm\\.julia\\packages\\PyCall\\ygXW2\\src\\pyfncall.jl:29",
      "  [9] _pycall!",
      "    @ C:\\Users\\mhorm\\.julia\\packages\\PyCall\\ygXW2\\src\\pyfncall.jl:11 [inlined]",
      " [10] #_#114",
      "    @ C:\\Users\\mhorm\\.julia\\packages\\PyCall\\ygXW2\\src\\pyfncall.jl:86 [inlined]",
      " [11] (::PyCall.PyObject)(args::Vector{Float64})",
      "    @ PyCall C:\\Users\\mhorm\\.julia\\packages\\PyCall\\ygXW2\\src\\pyfncall.jl:86",
      " [12] top-level scope",
      "    @ In[129]:1",
      " [13] eval",
      "    @ .\\boot.jl:368 [inlined]",
      " [14] include_string(mapexpr::typeof(REPL.softscope), mod::Module, code::String, filename::String)",
      "    @ Base .\\loading.jl:1428"
     ]
    }
   ],
   "source": [
    "model.predict(collect(predictor_df[1,:]))"
   ]
  },
  {
   "cell_type": "code",
   "execution_count": 58,
   "metadata": {},
   "outputs": [
    {
     "data": {
      "text/plain": [
       "428×1 Matrix{Float64}:\n",
       " 36.6\n",
       " 57.6\n",
       " 28.2\n",
       " 37.0\n",
       " 22.4\n",
       " 48.0\n",
       " 33.8\n",
       " 53.4\n",
       " 32.8\n",
       " 37.6\n",
       " 21.2\n",
       " 41.4\n",
       " 36.0\n",
       "  ⋮\n",
       " 34.6\n",
       " 48.8\n",
       " 38.6\n",
       " 38.8\n",
       " 49.6\n",
       " 46.8\n",
       " 53.8\n",
       " 47.0\n",
       " 33.4\n",
       " 44.8\n",
       " 33.0\n",
       " 28.4"
      ]
     },
     "execution_count": 58,
     "metadata": {},
     "output_type": "execute_result"
    }
   ],
   "source": [
    "pred_popular = model.predict(Matrix(select(df_popular,Not(\"Popularity\"))))"
   ]
  },
  {
   "cell_type": "code",
   "execution_count": 55,
   "metadata": {},
   "outputs": [
    {
     "name": "stdout",
     "output_type": "stream",
     "text": [
      "Size: (428, 1)\n",
      "Type:Matrix{Float64}\n"
     ]
    }
   ],
   "source": [
    "println(\"Size: \",size(pred_popular))\n",
    "println(\"Type:\",typeof(pred_popular))"
   ]
  },
  {
   "cell_type": "code",
   "execution_count": 69,
   "metadata": {},
   "outputs": [],
   "source": [
    "na_numeric_columns = [\"Popularity\",\"instrumentalness\"]\n",
    "predictor_columns = [ \"danceability\",\"energy\",\"loudness\",\"speechiness\",\"acousticness\",\"liveness\",\"valence\",\"tempo\",\"duration_in min/ms\"]\n",
    "predictor_df = select(df,Not(predictor_columns))\n",
    "\n",
    "for na_column in na_numeric_columns\n",
    "    for index in 1:size(df,1)\n",
    "        if (ismissing(df[index,na_numeric_columns]))\n",
    "            print(df[index,na_numeric_columns])\n",
    "            #df[index,na_column] = model.predict(Matrix(predictor[index,:]))\n",
    "        end\n",
    "    end\n",
    "end\n"
   ]
  },
  {
   "cell_type": "code",
   "execution_count": 146,
   "metadata": {},
   "outputs": [
    {
     "data": {
      "text/plain": [
       "47.2"
      ]
     },
     "execution_count": 146,
     "metadata": {},
     "output_type": "execute_result"
    }
   ],
   "source": [
    "v = collect(predictor_df[1,:])\n",
    "v_matrix = permutedims(reshape(v, length(v), 1))\n",
    "model.predict(v_matrix)[1]"
   ]
  },
  {
   "cell_type": "code",
   "execution_count": 151,
   "metadata": {},
   "outputs": [],
   "source": [
    "na_numeric_columns = [\"Popularity\",\"instrumentalness\"]\n",
    "predictor_columns = [ \"danceability\",\"energy\",\"loudness\",\"speechiness\",\"acousticness\",\"liveness\",\"valence\",\"tempo\",\"duration_in min/ms\"]\n",
    "predictor_df = select(df,predictor_columns)\n",
    "\n",
    "for na_column in na_numeric_columns\n",
    "    for (index,row) in enumerate(completecases(df))\n",
    "        if (row==false)\n",
    "            v = collect(predictor_df[index,:])\n",
    "            v_matrix = permutedims(reshape(v, length(v), 1))\n",
    "            df[index,na_column] = model.predict(v_matrix)[1]\n",
    "        end\n",
    "    end\n",
    "end"
   ]
  },
  {
   "cell_type": "code",
   "execution_count": 152,
   "metadata": {},
   "outputs": [
    {
     "data": {
      "text/html": [
       "<div><div style = \"float: left;\"><span>17×7 DataFrame</span></div><div style = \"clear: both;\"></div></div><div class = \"data-frame\" style = \"overflow-x: scroll;\"><table class = \"data-frame\" style = \"margin-bottom: 6px;\"><thead><tr class = \"header\"><th class = \"rowNumber\" style = \"font-weight: bold; text-align: right;\">Row</th><th style = \"text-align: left;\">variable</th><th style = \"text-align: left;\">mean</th><th style = \"text-align: left;\">min</th><th style = \"text-align: left;\">median</th><th style = \"text-align: left;\">max</th><th style = \"text-align: left;\">nmissing</th><th style = \"text-align: left;\">eltype</th></tr><tr class = \"subheader headerLastRow\"><th class = \"rowNumber\" style = \"font-weight: bold; text-align: right;\"></th><th title = \"Symbol\" style = \"text-align: left;\">Symbol</th><th title = \"Union{Nothing, Float64}\" style = \"text-align: left;\">Union…</th><th title = \"Any\" style = \"text-align: left;\">Any</th><th title = \"Union{Nothing, Float64}\" style = \"text-align: left;\">Union…</th><th title = \"Any\" style = \"text-align: left;\">Any</th><th title = \"Int64\" style = \"text-align: left;\">Int64</th><th title = \"Type\" style = \"text-align: left;\">Type</th></tr></thead><tbody><tr><td class = \"rowNumber\" style = \"font-weight: bold; text-align: right;\">1</td><td style = \"text-align: left;\">Artist Name</td><td style = \"font-style: italic; text-align: left;\"></td><td style = \"text-align: left;\">$NOT</td><td style = \"font-style: italic; text-align: left;\"></td><td style = \"text-align: left;\">◊†◊ê◊ì◊î</td><td style = \"text-align: right;\">0</td><td style = \"text-align: left;\">String</td></tr><tr><td class = \"rowNumber\" style = \"font-weight: bold; text-align: right;\">2</td><td style = \"text-align: left;\">Track Name</td><td style = \"font-style: italic; text-align: left;\"></td><td style = \"text-align: left;\">&quot;45&quot;</td><td style = \"font-style: italic; text-align: left;\"></td><td style = \"text-align: left;\">◊™◊™◊ó◊†◊†◊ô ◊ê◊ú◊ô◊ô</td><td style = \"text-align: right;\">0</td><td style = \"text-align: left;\">String</td></tr><tr><td class = \"rowNumber\" style = \"font-weight: bold; text-align: right;\">3</td><td style = \"text-align: left;\">Popularity</td><td style = \"text-align: left;\">43.2799</td><td style = \"text-align: left;\">1.0</td><td style = \"text-align: left;\">43.0</td><td style = \"text-align: left;\">98.0</td><td style = \"text-align: right;\">0</td><td style = \"text-align: left;\">Union{Missing, Float64}</td></tr><tr><td class = \"rowNumber\" style = \"font-weight: bold; text-align: right;\">4</td><td style = \"text-align: left;\">danceability</td><td style = \"text-align: left;\">0.543433</td><td style = \"text-align: left;\">0.0596</td><td style = \"text-align: left;\">0.545</td><td style = \"text-align: left;\">0.989</td><td style = \"text-align: right;\">0</td><td style = \"text-align: left;\">Float64</td></tr><tr><td class = \"rowNumber\" style = \"font-weight: bold; text-align: right;\">5</td><td style = \"text-align: left;\">energy</td><td style = \"text-align: left;\">0.662777</td><td style = \"text-align: left;\">2.03e-5</td><td style = \"text-align: left;\">0.7</td><td style = \"text-align: left;\">1.0</td><td style = \"text-align: right;\">0</td><td style = \"text-align: left;\">Float64</td></tr><tr><td class = \"rowNumber\" style = \"font-weight: bold; text-align: right;\">6</td><td style = \"text-align: left;\">key</td><td style = \"font-style: italic; text-align: left;\"></td><td style = \"text-align: left;\">1.0</td><td style = \"font-style: italic; text-align: left;\"></td><td style = \"text-align: left;\">9.0</td><td style = \"text-align: right;\">2014</td><td style = \"text-align: left;\">Union{Missing, String}</td></tr><tr><td class = \"rowNumber\" style = \"font-weight: bold; text-align: right;\">7</td><td style = \"text-align: left;\">loudness</td><td style = \"text-align: left;\">-7.91066</td><td style = \"text-align: left;\">-39.952</td><td style = \"text-align: left;\">-7.016</td><td style = \"text-align: left;\">1.355</td><td style = \"text-align: right;\">0</td><td style = \"text-align: left;\">Float64</td></tr><tr><td class = \"rowNumber\" style = \"font-weight: bold; text-align: right;\">8</td><td style = \"text-align: left;\">mode</td><td style = \"font-style: italic; text-align: left;\"></td><td style = \"text-align: left;\">0</td><td style = \"font-style: italic; text-align: left;\"></td><td style = \"text-align: left;\">1</td><td style = \"text-align: right;\">0</td><td style = \"text-align: left;\">String</td></tr><tr><td class = \"rowNumber\" style = \"font-weight: bold; text-align: right;\">9</td><td style = \"text-align: left;\">speechiness</td><td style = \"text-align: left;\">0.079707</td><td style = \"text-align: left;\">0.0225</td><td style = \"text-align: left;\">0.0474</td><td style = \"text-align: left;\">0.955</td><td style = \"text-align: right;\">0</td><td style = \"text-align: left;\">Float64</td></tr><tr><td class = \"rowNumber\" style = \"font-weight: bold; text-align: right;\">10</td><td style = \"text-align: left;\">acousticness</td><td style = \"text-align: left;\">0.247082</td><td style = \"text-align: left;\">0.0</td><td style = \"text-align: left;\">0.0814</td><td style = \"text-align: left;\">0.996</td><td style = \"text-align: right;\">0</td><td style = \"text-align: left;\">Float64</td></tr><tr><td class = \"rowNumber\" style = \"font-weight: bold; text-align: right;\">11</td><td style = \"text-align: left;\">instrumentalness</td><td style = \"text-align: left;\">14.4644</td><td style = \"text-align: left;\">1.0e-6</td><td style = \"text-align: left;\">0.189</td><td style = \"text-align: left;\">84.0</td><td style = \"text-align: right;\">0</td><td style = \"text-align: left;\">Union{Missing, Float64}</td></tr><tr><td class = \"rowNumber\" style = \"font-weight: bold; text-align: right;\">12</td><td style = \"text-align: left;\">liveness</td><td style = \"text-align: left;\">0.19617</td><td style = \"text-align: left;\">0.0119</td><td style = \"text-align: left;\">0.129</td><td style = \"text-align: left;\">1.0</td><td style = \"text-align: right;\">0</td><td style = \"text-align: left;\">Float64</td></tr><tr><td class = \"rowNumber\" style = \"font-weight: bold; text-align: right;\">13</td><td style = \"text-align: left;\">valence</td><td style = \"text-align: left;\">0.486208</td><td style = \"text-align: left;\">0.0183</td><td style = \"text-align: left;\">0.481</td><td style = \"text-align: left;\">0.986</td><td style = \"text-align: right;\">0</td><td style = \"text-align: left;\">Float64</td></tr><tr><td class = \"rowNumber\" style = \"font-weight: bold; text-align: right;\">14</td><td style = \"text-align: left;\">tempo</td><td style = \"text-align: left;\">122.623</td><td style = \"text-align: left;\">30.557</td><td style = \"text-align: left;\">120.066</td><td style = \"text-align: left;\">217.416</td><td style = \"text-align: right;\">0</td><td style = \"text-align: left;\">Float64</td></tr><tr><td class = \"rowNumber\" style = \"font-weight: bold; text-align: right;\">15</td><td style = \"text-align: left;\">duration_in min/ms</td><td style = \"text-align: left;\">2.00744e5</td><td style = \"text-align: left;\">0.50165</td><td style = \"text-align: left;\">209160.0</td><td style = \"text-align: left;\">1.47719e6</td><td style = \"text-align: right;\">0</td><td style = \"text-align: left;\">Float64</td></tr><tr><td class = \"rowNumber\" style = \"font-weight: bold; text-align: right;\">16</td><td style = \"text-align: left;\">time_signature</td><td style = \"font-style: italic; text-align: left;\"></td><td style = \"text-align: left;\">1</td><td style = \"font-style: italic; text-align: left;\"></td><td style = \"text-align: left;\">5</td><td style = \"text-align: right;\">0</td><td style = \"text-align: left;\">String</td></tr><tr><td class = \"rowNumber\" style = \"font-weight: bold; text-align: right;\">17</td><td style = \"text-align: left;\">Class</td><td style = \"font-style: italic; text-align: left;\"></td><td style = \"text-align: left;\">0</td><td style = \"font-style: italic; text-align: left;\"></td><td style = \"text-align: left;\">9</td><td style = \"text-align: right;\">0</td><td style = \"text-align: left;\">String</td></tr></tbody></table></div>"
      ],
      "text/latex": [
       "\\begin{tabular}{r|ccccccc}\n",
       "\t& variable & mean & min & median & max & nmissing & \\\\\n",
       "\t\\hline\n",
       "\t& Symbol & Union… & Any & Union… & Any & Int64 & \\\\\n",
       "\t\\hline\n",
       "\t1 & Artist Name &  & \\$NOT &  & ◊†◊ê◊ì◊î & 0 & $\\dots$ \\\\\n",
       "\t2 & Track Name &  & \"45\" &  & ◊™◊™◊ó◊†◊†◊ô ◊ê◊ú◊ô◊ô & 0 & $\\dots$ \\\\\n",
       "\t3 & Popularity & 43.2799 & 1.0 & 43.0 & 98.0 & 0 & $\\dots$ \\\\\n",
       "\t4 & danceability & 0.543433 & 0.0596 & 0.545 & 0.989 & 0 & $\\dots$ \\\\\n",
       "\t5 & energy & 0.662777 & 2.03e-5 & 0.7 & 1.0 & 0 & $\\dots$ \\\\\n",
       "\t6 & key &  & 1.0 &  & 9.0 & 2014 & $\\dots$ \\\\\n",
       "\t7 & loudness & -7.91066 & -39.952 & -7.016 & 1.355 & 0 & $\\dots$ \\\\\n",
       "\t8 & mode &  & 0 &  & 1 & 0 & $\\dots$ \\\\\n",
       "\t9 & speechiness & 0.079707 & 0.0225 & 0.0474 & 0.955 & 0 & $\\dots$ \\\\\n",
       "\t10 & acousticness & 0.247082 & 0.0 & 0.0814 & 0.996 & 0 & $\\dots$ \\\\\n",
       "\t11 & instrumentalness & 14.4644 & 1.0e-6 & 0.189 & 84.0 & 0 & $\\dots$ \\\\\n",
       "\t12 & liveness & 0.19617 & 0.0119 & 0.129 & 1.0 & 0 & $\\dots$ \\\\\n",
       "\t13 & valence & 0.486208 & 0.0183 & 0.481 & 0.986 & 0 & $\\dots$ \\\\\n",
       "\t14 & tempo & 122.623 & 30.557 & 120.066 & 217.416 & 0 & $\\dots$ \\\\\n",
       "\t15 & duration\\_in min/ms & 2.00744e5 & 0.50165 & 209160.0 & 1.47719e6 & 0 & $\\dots$ \\\\\n",
       "\t16 & time\\_signature &  & 1 &  & 5 & 0 & $\\dots$ \\\\\n",
       "\t17 & Class &  & 0 &  & 9 & 0 & $\\dots$ \\\\\n",
       "\\end{tabular}\n"
      ],
      "text/plain": [
       "\u001b[1m17×7 DataFrame\u001b[0m\n",
       "\u001b[1m Row \u001b[0m│\u001b[1m variable           \u001b[0m\u001b[1m mean      \u001b[0m\u001b[1m min     \u001b[0m\u001b[1m median   \u001b[0m\u001b[1m max                  \u001b[0m ⋯\n",
       "     │\u001b[90m Symbol             \u001b[0m\u001b[90m Union…    \u001b[0m\u001b[90m Any     \u001b[0m\u001b[90m Union…   \u001b[0m\u001b[90m Any                  \u001b[0m ⋯\n",
       "─────┼──────────────────────────────────────────────────────────────────────────\n",
       "   1 │ Artist Name        \u001b[90m           \u001b[0m $NOT    \u001b[90m          \u001b[0m ◊†◊ê◊ì◊î              ⋯\n",
       "   2 │ Track Name         \u001b[90m           \u001b[0m \"45\"    \u001b[90m          \u001b[0m ◊™◊™◊ó◊†◊†◊ô ◊ê◊ú◊ô◊ô\n",
       "   3 │ Popularity          43.2799    1.0      43.0      98.0\n",
       "   4 │ danceability        0.543433   0.0596   0.545     0.989\n",
       "   5 │ energy              0.662777   2.03e-5  0.7       1.0                   ⋯\n",
       "   6 │ key                \u001b[90m           \u001b[0m 1.0     \u001b[90m          \u001b[0m 9.0\n",
       "   7 │ loudness            -7.91066   -39.952  -7.016    1.355\n",
       "   8 │ mode               \u001b[90m           \u001b[0m 0       \u001b[90m          \u001b[0m 1\n",
       "   9 │ speechiness         0.079707   0.0225   0.0474    0.955                 ⋯\n",
       "  10 │ acousticness        0.247082   0.0      0.0814    0.996\n",
       "  11 │ instrumentalness    14.4644    1.0e-6   0.189     84.0\n",
       "  12 │ liveness            0.19617    0.0119   0.129     1.0\n",
       "  13 │ valence             0.486208   0.0183   0.481     0.986                 ⋯\n",
       "  14 │ tempo               122.623    30.557   120.066   217.416\n",
       "  15 │ duration_in min/ms  2.00744e5  0.50165  209160.0  1.47719e6\n",
       "  16 │ time_signature     \u001b[90m           \u001b[0m 1       \u001b[90m          \u001b[0m 5\n",
       "  17 │ Class              \u001b[90m           \u001b[0m 0       \u001b[90m          \u001b[0m 9                     ⋯\n",
       "\u001b[36m                                                               2 columns omitted\u001b[0m"
      ]
     },
     "execution_count": 152,
     "metadata": {},
     "output_type": "execute_result"
    }
   ],
   "source": [
    "describe(df)"
   ]
  },
  {
   "cell_type": "code",
   "execution_count": 70,
   "metadata": {},
   "outputs": [
    {
     "data": {
      "text/plain": [
       "17996"
      ]
     },
     "execution_count": 70,
     "metadata": {},
     "output_type": "execute_result"
    }
   ],
   "source": [
    "size(df,1)"
   ]
  },
  {
   "cell_type": "markdown",
   "metadata": {},
   "source": [
    "### Duplicate rows"
   ]
  },
  {
   "cell_type": "code",
   "execution_count": null,
   "metadata": {},
   "outputs": [],
   "source": [
    "# Duplicates (without names columns)\n",
    "println(\"We have found \",size(df[:,3:end],1)-size(unique(df[:,3:end]),1),\" duplicates rows.\")\n",
    "df = unique(df[:,3:end]);"
   ]
  }
 ],
 "metadata": {
  "kernelspec": {
   "display_name": "Julia 1.8.2",
   "language": "julia",
   "name": "julia-1.8"
  },
  "language_info": {
   "file_extension": ".jl",
   "mimetype": "application/julia",
   "name": "julia",
   "version": "1.8.2"
  },
  "orig_nbformat": 4
 },
 "nbformat": 4,
 "nbformat_minor": 2
}
