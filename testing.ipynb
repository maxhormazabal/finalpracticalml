{
 "cells": [
  {
   "cell_type": "markdown",
   "id": "d5dd4668",
   "metadata": {},
   "source": [
    "# Model definitions and testing"
   ]
  },
  {
   "cell_type": "markdown",
   "id": "4a8f73db",
   "metadata": {},
   "source": [
    "# Imports and declarations\n",
    "\n",
    "This section contains all imports and declarations"
   ]
  },
  {
   "cell_type": "code",
   "execution_count": 1,
   "id": "bb069517",
   "metadata": {},
   "outputs": [],
   "source": [
    "# The next packages must be installed to run the solution\n",
    "import Pkg; \n",
    "#Pkg.add(\"Flux\")\n",
    "#Pkg.add(\"RDatasets\")\n",
    "#Pkg.add(\"FeatureSelectors\")\n",
    "#Pkg.add(\"ScikitLearn\"))\n",
    "#Pkg.add(\"WeightedPCA\"))\n",
    "#Pkg.add(\"BetaML\")\n",
    "# Packages used To store and load models in and from disk\n",
    "# Pkg.add(\"JLD\")\n",
    "# Pkg.add(\"HDF5\")\n",
    "# Pkg.add(\"PyCallJLD\")\n",
    "# Package use to count distribution\n",
    "# Pkg.add(\"DataStructures\")\n",
    "# Pkg.add(\"MLDataPattern\")"
   ]
  },
  {
   "cell_type": "code",
   "execution_count": 2,
   "id": "c20dbb46",
   "metadata": {},
   "outputs": [],
   "source": [
    "# Import libraries\n",
    "using Flux\n",
    "using Flux.Losses\n",
    "using DelimitedFiles\n",
    "using Statistics\n",
    "using Random\n",
    "using ScikitLearn\n",
    "using RDatasets\n",
    "using FeatureSelectors\n",
    "using JLD\n",
    "using PyCallJLD\n",
    "using DataStructures\n",
    "using MLDataPattern"
   ]
  },
  {
   "cell_type": "code",
   "execution_count": 3,
   "id": "4eb0c717",
   "metadata": {},
   "outputs": [
    {
     "data": {
      "text/plain": [
       "PyObject <class 'sklearn.decomposition._pca.PCA'>"
      ]
     },
     "execution_count": 3,
     "metadata": {},
     "output_type": "execute_result"
    }
   ],
   "source": [
    "# Import ScikitLearn models\n",
    "@sk_import svm:SVC\n",
    "@sk_import tree:DecisionTreeClassifier\n",
    "@sk_import neighbors:KNeighborsClassifier\n",
    "@sk_import neural_network:MLPClassifier\n",
    "@sk_import naive_bayes:GaussianNB \n",
    "@sk_import linear_model:LogisticRegression\n",
    "@sk_import neighbors:NearestCentroid\n",
    "@sk_import neighbors:RadiusNeighborsClassifier\n",
    "@sk_import linear_model:RidgeClassifier\n",
    "\n",
    "@sk_import ensemble:VotingClassifier\n",
    "@sk_import ensemble:StackingClassifier\n",
    "@sk_import ensemble:BaggingClassifier\n",
    "\n",
    "@sk_import decomposition:PCA"
   ]
  },
  {
   "cell_type": "code",
   "execution_count": 4,
   "id": "0f5166c4",
   "metadata": {},
   "outputs": [
    {
     "data": {
      "text/plain": [
       "loadModel (generic function with 1 method)"
      ]
     },
     "execution_count": 4,
     "metadata": {},
     "output_type": "execute_result"
    }
   ],
   "source": [
    "# Legacy code done in previous practices\n",
    "include(\"utils/practices_code.jl\")\n",
    "# Class that handle the model processing\n",
    "include(\"utils/model_handler.jl\")"
   ]
  },
  {
   "cell_type": "code",
   "execution_count": 5,
   "id": "2d6167a8",
   "metadata": {},
   "outputs": [
    {
     "data": {
      "text/plain": [
       "TaskLocalRNG()"
      ]
     },
     "execution_count": 5,
     "metadata": {},
     "output_type": "execute_result"
    }
   ],
   "source": [
    "# Constants\n",
    "# Execute model test set\n",
    "RUN_ANN_TEST = false\n",
    "RUN_SVM_TEST = true\n",
    "RUN_DT_TEST = true\n",
    "RUN_KNN_TEST = true\n",
    "RUN_MLP_TEST = true\n",
    "RUN_GB_TEST = true\n",
    "RUN_LR_TEST = true\n",
    "RUN_NC_TEST = true\n",
    "RUN_RN_TEST = true\n",
    "RUN_RC_TEST = true\n",
    "# Path of the models\n",
    "ANN_FILE_PATH = \"dataset/models/ann.jld\"\n",
    "SVM_FILE_PATH = \"dataset/models/svm.jld\"\n",
    "DT_FILE_PATH = \"dataset/models/dt.jld\"\n",
    "KNN_FILE_PATH = \"dataset/models/knn.jld\"\n",
    "MLP_FILE_PATH = \"dataset/models/mlp.jld\"\n",
    "GB_FILE_PATH = \"dataset/models/gb.jld\"\n",
    "LR_FILE_PATH = \"dataset/models/lr.jld\"\n",
    "NC_FILE_PATH = \"dataset/models/nc.jld\"\n",
    "RN_FILE_PATH = \"dataset/models/rn.jld\"\n",
    "RC_FILE_PATH = \"dataset/models/rc.jld\"\n",
    "# Default transfer function for the ANN\n",
    "ANN_DEFAULT_TRANSFER_FUNCTION=sigmoid\n",
    "# Overwrite model in file\n",
    "UPDATE_FILE = true\n",
    "# Possible datasets to test\n",
    "ORIGINAL_DATASET = \"dataset/music_genre.csv\"\n",
    "CLEAN_DATASET = \"dataset/clean_music_genre.csv\"\n",
    "NUMERIC_CLEAN_DATASET = \"dataset/numeric_clean_music_genre.csv\"\n",
    "KBEST_DATASET = \"dataset/kbest_df.csv\"\n",
    "# Which type of output to test\n",
    "REGULAR_OUTPUT=true\n",
    "ONE_HOT_ENCODING_OUTPUT=false\n",
    "# Normalize values with min and max\n",
    "NORMALIZE_MIN_MAX=true\n",
    "# Use different types of samples\n",
    "USE_OVER_SAMPLE=false\n",
    "USE_UNDER_SAMPLE=false\n",
    "USE_PCA=false\n",
    "PCA_CONFIG=0.95\n",
    "# Configuration to split the data for testing\n",
    "HOLD_OUT=0.3\n",
    "NUM_FOLDS=20\n",
    "\n",
    "# Seed to make the experiment repeteables\n",
    "Random.seed!(2)"
   ]
  },
  {
   "cell_type": "markdown",
   "id": "418bdbe7",
   "metadata": {},
   "source": [
    "# Data preprocessing\n",
    "\n",
    "This section contains the preprocessing of the data"
   ]
  },
  {
   "cell_type": "code",
   "execution_count": 6,
   "id": "44543d00",
   "metadata": {},
   "outputs": [
    {
     "name": "stdout",
     "output_type": "stream",
     "text": [
      "Dataset original size: (17924, 13)\n",
      "Sample of original dataset: Any[52.2, 0.854, 0.564, 12.18585911937475, 0.0171, 0.899, 134.071, 234.596, 1, 0, 0.03404, 0.00965882, 5]\n",
      "17924\n",
      "13\n",
      "Inputs size: (17923, 12)\n",
      "Sample of inputs: Any[52.2, 0.854, 0.564, 12.18585911937475, 0.0171, 0.899, 134.071, 234.596, 1, 0, 0.03404, 0.00965882]\n",
      "Sample of inputs: Any[54.0, 0.382, 0.814, 13.58626223890115, 0.0011, 0.569, 116.454, 251.733, 0, 0, 0.0406, 0.00401]\n",
      "Outputs size: (17923,)\n",
      "Sample of Outputs: 5\n",
      "Sample of Outputs: 10\n"
     ]
    }
   ],
   "source": [
    "# Load the dataset from disk (already pre processed)\n",
    "dataset = readdlm(KBEST_DATASET,',');\n",
    "\n",
    "# Show information of the dataset\n",
    "println(\"Dataset original size: \", size(dataset))\n",
    "println(\"Sample of original dataset: \", dataset[2,:])\n",
    "println(size(dataset,1))\n",
    "println(size(dataset,2))\n",
    "\n",
    "# Separate the features and the output of the dataset. Remove header.\n",
    "train_x = dataset[2:size(dataset,1),1:size(dataset,2)-1]\n",
    "train_y = dataset[2:size(dataset,1),size(dataset,2)]\n",
    "\n",
    "# Convert to regular values the output classes\n",
    "if REGULAR_OUTPUT\n",
    "    train_y = string.(train_y)\n",
    "end\n",
    "\n",
    "# Convert to one hot encoding the output classes\n",
    "if ONE_HOT_ENCODING_OUTPUT\n",
    "    train_y = oneHotEncoding(train_y)\n",
    "end\n",
    "\n",
    "\n",
    "# Show information of the transformed dataset\n",
    "println(\"Inputs size: \", size(train_x))\n",
    "println(\"Sample of inputs: \", train_x[1,:])\n",
    "println(\"Outputs size: \", size(train_y))\n",
    "println(\"Unique Outputs: \", unique(train_y))"
   ]
  },
  {
   "cell_type": "code",
   "execution_count": 7,
   "id": "6bf4bcf1",
   "metadata": {},
   "outputs": [
    {
     "name": "stdout",
     "output_type": "stream",
     "text": [
      "Size original input data: (17923, 12)\n",
      "Size original output data: (17923,)\n",
      "Size train input data: (12546, 12)\n",
      "Size train output data: (12546,)\n",
      "Size test input data: (5377, 12)\n",
      "Size test output data: (5377,)\n",
      "Sample original input data: Any[52.2, 0.854, 0.564, 12.18585911937475, 0.0171, 0.899, 134.071, 234.596, 1, 0, 0.03404, 0.00965882]\n",
      "Sample train input data: [0.425531914893617, 0.40587665482725216, 0.8199963459258223, 0.7153069110103181, 0.07931726907630522, 0.6350440642820114, 0.4095655012603085, 0.12278214427098692, 0.0, 0.0, 0.056723716381418085, 4.943685786840785e-5]\n",
      "Sample test input data: [0.29896907216494845, 0.8254553339115351, 0.5820763888192906, 0.7788889689146599, 0.13353413654618473, 0.8923060992026509, 0.344533493335619, 0.10596919580502202, 0.0, 0.0, 0.1945945945945946, 0.000486846672985156]\n",
      "Unique Outputs: [\"5\", \"10\", \"6\", \"2\", \"Other\", \"8\", \"9\", \"1\"]\n"
     ]
    }
   ],
   "source": [
    "# Using Hold Out function to split dataset into train and test\n",
    "indexs = holdOut(size(train_x,1),HOLD_OUT)\n",
    "\n",
    "train_input = train_x[indexs[1],:]\n",
    "train_output = vec(train_y[indexs[1],:])\n",
    "\n",
    "test_input = train_x[indexs[2],:]\n",
    "test_output = vec(train_y[indexs[2],:])\n",
    "\n",
    "#normalization after splitting, so test data cannot affect the train data and the first touch between them should be in predictions.\n",
    "if NORMALIZE_MIN_MAX\n",
    "    train_input = normalizeMinMax!(train_input)\n",
    "    test_input = normalizeMinMax!(test_input)\n",
    "end\n",
    "\n",
    "# Show information about the splitted data\n",
    "println(\"Size original input data: \", size(train_x))\n",
    "println(\"Size original output data: \", size(train_y))\n",
    "\n",
    "println(\"Size train input data: \", size(train_input))\n",
    "println(\"Size train output data: \", size(train_output))\n",
    "\n",
    "println(\"Size test input data: \", size(test_input))\n",
    "println(\"Size test output data: \", size(test_output))\n",
    "\n",
    "println(\"Sample original input data: \", train_x[1,:])\n",
    "println(\"Sample train input data: \", train_input[1,:])\n",
    "println(\"Sample test input data: \", test_input[1,:])"
   ]
  },
  {
   "cell_type": "code",
   "execution_count": 8,
   "id": "6c3feb7e",
   "metadata": {},
   "outputs": [],
   "source": [
    "# If the over sample option is active\n",
    "if USE_OVER_SAMPLE\n",
    "    # Show inputs before aplying over sample\n",
    "    println(\"Inputs size: \", size(train_input))\n",
    "    println(\"Outputs size: \", size(train_output))\n",
    "\n",
    "    # Balance the dataset\n",
    "    balanced_x, balanced_y = oversample((train_input', train_output))\n",
    "\n",
    "    # Show previous values\n",
    "    println(\"Outputs Values: \", unique(train_output))\n",
    "    println(\"Before balance:\", counter(train_output))\n",
    "\n",
    "    # Get and show over sampled dataset\n",
    "    train_input = getobs(balanced_x')\n",
    "    train_output = getobs(balanced_y)\n",
    "\n",
    "    println(\"After balance:\", counter(train_output))\n",
    "end"
   ]
  },
  {
   "cell_type": "code",
   "execution_count": 9,
   "id": "4335aea8",
   "metadata": {},
   "outputs": [],
   "source": [
    "# If the under sample option is active\n",
    "if USE_UNDER_SAMPLE\n",
    "    # Show inputs before aplying under sample\n",
    "    println(\"Inputs size: \", size(train_input))\n",
    "    println(\"Outputs size: \", size(train_output))\n",
    "\n",
    "    # Balance the dataset\n",
    "    balanced_x, balanced_y = undersample((train_input', train_output))\n",
    "\n",
    "    # Show previous values\n",
    "    println(\"Outputs Values: \", unique(train_output))\n",
    "    println(\"Before balance:\", counter(train_output))\n",
    "\n",
    "    # Get and show under sampled dataset\n",
    "    train_input = getobs(balanced_x')\n",
    "    train_output = getobs(balanced_y)\n",
    "\n",
    "    println(\"After balance:\", counter(train_output))\n",
    "end"
   ]
  },
  {
   "cell_type": "code",
   "execution_count": 10,
   "id": "7dd11ef1",
   "metadata": {},
   "outputs": [],
   "source": [
    "# Apply Principal Component Analysis\n",
    "if USE_PCA\n",
    "    # PCA based on 95% variance, suggests that there are 5 features have noise and should be eliminated\n",
    "    # Load the PCA configuration\n",
    "    pca = PCA(PCA_CONFIG)\n",
    "\n",
    "    # Fit the input dataset with the configuration\n",
    "    fit!(pca, train_input)\n",
    "\n",
    "    # Transform the dataset with the new features\n",
    "    pca_train = pca.transform(train_input)\n",
    "    pca_test = pca.transform(test_input)\n",
    "\n",
    "    # Show the difference after applying PCA\n",
    "    println(\"Train Patterns \", size(train_input), \" -> \", size(pca_train))\n",
    "    println(\"Test Patterns \", size(test_input), \" -> \", size(pca_test))\n",
    "\n",
    "    # Assing the PCA dataset to the testing\n",
    "    train_input = pca_train\n",
    "    test_input = pca_test\n",
    "end"
   ]
  },
  {
   "cell_type": "code",
   "execution_count": 11,
   "id": "66278936",
   "metadata": {},
   "outputs": [
    {
     "name": "stdout",
     "output_type": "stream",
     "text": [
      "(12546,)\n"
     ]
    }
   ],
   "source": [
    "# Get the crossvalidation indexs for testing\n",
    "indexs = crossvalidation(train_output, NUM_FOLDS)\n",
    "kFoldIndices = convert(Vector{Int64}, indexs)\n",
    "\n",
    "# Show the crossvalidation size\n",
    "println(size(kFoldIndices))"
   ]
  },
  {
   "cell_type": "markdown",
   "id": "221f9e00",
   "metadata": {},
   "source": [
    "# Model experimentation\n",
    "\n",
    "This section contains all experimentation of the models"
   ]
  },
  {
   "cell_type": "code",
   "execution_count": 12,
   "id": "23a05b0a",
   "metadata": {},
   "outputs": [],
   "source": [
    "# Run the test case for Artificial Neural Network model\n",
    "if RUN_ANN_TEST\n",
    "    test_ANN_Model(train_input, train_output, test_input, test_output, kFoldIndices, ANN_DEFAULT_TRANSFER_FUNCTION, UPDATE_FILE, ANN_FILE_PATH)\n",
    "end"
   ]
  },
  {
   "cell_type": "code",
   "execution_count": 13,
   "id": "acb61da5",
   "metadata": {},
   "outputs": [
    {
     "name": "stdout",
     "output_type": "stream",
     "text": [
      "Test results for SVM model: \n",
      "Parameters: Dict{Any, Any}(\"tol\" => 0.001, \"kernelGamma\" => 2, \"C\" => 1, \"kernel\" => \"rbf\", \"shrinking\" => true, \"probability\" => true, \"coef0\" => 0.0, \"kernelDegree\" => 3) Accuracy: 0.4229176534236273 Fscore: 0.3407648984437798\n",
      "Parameters: Dict{Any, Any}(\"tol\" => 0.001, \"kernelGamma\" => 2, \"C\" => 2, \"kernel\" => \"rbf\", \"shrinking\" => true, \"probability\" => true, \"coef0\" => 0.0, \"kernelDegree\" => 3) Accuracy: 0.42618836098532886 Fscore: 0.34846228068931423\n",
      "Parameters: Dict{Any, Any}(\"tol\" => 0.001, \"kernelGamma\" => 2, \"C\" => 3, \"kernel\" => \"rbf\", \"shrinking\" => true, \"probability\" => true, \"coef0\" => 0.0, \"kernelDegree\" => 3) Accuracy: 0.4273044114639554 Fscore: 0.3513293481100276\n",
      "Parameters: Dict{Any, Any}(\"tol\" => 0.001, \"kernelGamma\" => 2, \"C\" => 4, \"kernel\" => \"rbf\", \"shrinking\" => true, \"probability\" => true, \"coef0\" => 0.0, \"kernelDegree\" => 3) Accuracy: 0.42866403626138216 Fscore: 0.3555102890031802\n",
      "Parameters: Dict{Any, Any}(\"tol\" => 0.001, \"kernelGamma\" => 2, \"C\" => 10, \"kernel\" => \"rbf\", \"shrinking\" => true, \"probability\" => true, \"coef0\" => 0.0, \"kernelDegree\" => 3) Accuracy: 0.42362989490616565 Fscore: 0.3571448061562755\n",
      "Parameters: Dict{Any, Any}(\"tol\" => 0.001, \"kernelGamma\" => 2, \"C\" => 1, \"kernel\" => \"linear\", \"shrinking\" => true, \"probability\" => true, \"coef0\" => 0.0, \"kernelDegree\" => 3) Accuracy: 0.40450913876177486 Fscore: 0.30329593681301237\n",
      "Parameters: Dict{Any, Any}(\"tol\" => 0.001, \"kernelGamma\" => 2, \"C\" => 2, \"kernel\" => \"linear\", \"shrinking\" => true, \"probability\" => true, \"coef0\" => 0.0, \"kernelDegree\" => 3) Accuracy: 0.4064207469195253 Fscore: 0.30888143299035364\n",
      "Parameters: Dict{Any, Any}(\"tol\" => 0.001, \"kernelGamma\" => 2, \"C\" => 10, \"kernel\" => \"linear\", \"shrinking\" => true, \"probability\" => true, \"coef0\" => 0.0, \"kernelDegree\" => 3) Accuracy: 0.4082504352886721 Fscore: 0.31235766277250143\n",
      "Parameters: Dict{Any, Any}(\"tol\" => 0.001, \"kernelGamma\" => 2, \"C\" => 1, \"kernel\" => \"poly\", \"shrinking\" => true, \"probability\" => true, \"coef0\" => 0.0, \"kernelDegree\" => 3) Accuracy: 0.42722200771621094 Fscore: 0.3502837101423238\n",
      "Parameters: Dict{Any, Any}(\"tol\" => 0.001, \"kernelGamma\" => 2, \"C\" => 2, \"kernel\" => \"poly\", \"shrinking\" => true, \"probability\" => true, \"coef0\" => 0.0, \"kernelDegree\" => 3) Accuracy: 0.4265807471827305 Fscore: 0.3517549199729603\n",
      "Parameters: Dict{Any, Any}(\"tol\" => 0.001, \"kernelGamma\" => 2, \"C\" => 10, \"kernel\" => \"poly\", \"shrinking\" => true, \"probability\" => true, \"coef0\" => 0.0, \"kernelDegree\" => 3) Accuracy: 0.4208437562982872 Fscore: 0.34752333368980515\n",
      "Parameters: Dict{Any, Any}(\"tol\" => 0.001, \"kernelGamma\" => 2, \"C\" => 1, \"kernel\" => \"sigmoid\", \"shrinking\" => true, \"probability\" => true, \"coef0\" => 0.0, \"kernelDegree\" => 3) Accuracy: 0.24853062171565563 Fscore: 0.15164454926968876\n",
      "Parameters: Dict{Any, Any}(\"tol\" => 0.001, \"kernelGamma\" => 2, \"C\" => 2, \"kernel\" => \"sigmoid\", \"shrinking\" => true, \"probability\" => true, \"coef0\" => 0.0, \"kernelDegree\" => 3) Accuracy: 0.23251545733787182 Fscore: 0.1464105997032253\n",
      "Parameters: Dict{Any, Any}(\"tol\" => 0.001, \"kernelGamma\" => 2, \"C\" => 10, \"kernel\" => \"sigmoid\", \"shrinking\" => true, \"probability\" => true, \"coef0\" => 0.0, \"kernelDegree\" => 3) Accuracy: 0.22232264231425164 Fscore: 0.13619587526487303\n",
      "Parameters: Dict{Any, Any}(\"tol\" => 0.001, \"kernelGamma\" => 2, \"C\" => 4, \"kernel\" => \"rbf\", \"shrinking\" => true, \"probability\" => true, \"coef0\" => 0.0, \"kernelDegree\" => 5) Accuracy: 0.42866403626138216 Fscore: 0.3555102890031802\n",
      "Parameters: Dict{Any, Any}(\"tol\" => 0.001, \"kernelGamma\" => 2, \"C\" => 4, \"kernel\" => \"rbf\", \"shrinking\" => true, \"probability\" => true, \"coef0\" => 0.0, \"kernelDegree\" => 1) Accuracy: 0.42866403626138216 Fscore: 0.3555102890031802\n",
      "Parameters: Dict{Any, Any}(\"tol\" => 0.001, \"kernelGamma\" => 3, \"C\" => 4, \"kernel\" => \"rbf\", \"shrinking\" => true, \"probability\" => true, \"coef0\" => 0.0, \"kernelDegree\" => 3) Accuracy: 0.4236334638635859 Fscore: 0.3553975017402936\n",
      "Parameters: Dict{Any, Any}(\"tol\" => 0.01, \"kernelGamma\" => 2, \"C\" => 4, \"kernel\" => \"rbf\", \"shrinking\" => true, \"probability\" => true, \"coef0\" => 0.0, \"kernelDegree\" => 3) Accuracy: 0.4284254359150636 Fscore: 0.35539283009887207\n",
      "//////////////////////////////////////////\n",
      "Best parameters: Dict{Any, Any}(\"tol\" => 0.001, \"kernelGamma\" => 2, \"C\" => 4, \"kernel\" => \"rbf\", \"shrinking\" => true, \"probability\" => true, \"coef0\" => 0.0, \"kernelDegree\" => 3) Best accuracy: 0.42866403626138216\n",
      "Test: Accuracy: 0.41807699460665804 Error rate: 0.581923005393342 Sensitivity: 0.35212615873111347 Specificity rate: 0.9089238852688694 FScore: 0.34173152091386894\n",
      "Tot: 5377 Ok: 2248 Acc: 0.418076994606658\n"
     ]
    }
   ],
   "source": [
    "# Run the test case for Support Vector Machine model\n",
    "if RUN_SVM_TEST\n",
    "    test_SVM_Model(train_input, train_output, test_input, test_output, kFoldIndices, UPDATE_FILE, SVM_FILE_PATH)\n",
    "end"
   ]
  },
  {
   "cell_type": "code",
   "execution_count": 14,
   "id": "4be19d34",
   "metadata": {},
   "outputs": [
    {
     "name": "stdout",
     "output_type": "stream",
     "text": [
      "Test results for Decision tree model: \n",
      "Parameters: Dict{Any, Any}(\"max_depth\" => 4, \"random_state\" => 1, \"splitter\" => \"best\", \"criterion\" => \"gini\", \"min_samples_split\" => 2) Accuracy: 0.3742877591704647 Fscore: 0.26968481003234757\n",
      "Parameters: Dict{Any, Any}(\"max_depth\" => 3, \"random_state\" => 1, \"splitter\" => \"best\", \"criterion\" => \"gini\", \"min_samples_split\" => 2) Accuracy: 0.36473533120032464 Fscore: 0.22300396003521353\n",
      "Parameters: Dict{Any, Any}(\"max_depth\" => 2, \"random_state\" => 1, \"splitter\" => \"best\", \"criterion\" => \"gini\", \"min_samples_split\" => 2) Accuracy: 0.32774655694918753 Fscore: 0.1713062660022087\n",
      "Parameters: Dict{Any, Any}(\"max_depth\" => 1, \"random_state\" => 1, \"splitter\" => \"best\", \"criterion\" => \"gini\", \"min_samples_split\" => 2) Accuracy: 0.27506838938921974 Fscore: 0.053932067243248574\n",
      "Parameters: Dict{Any, Any}(\"max_depth\" => 5, \"random_state\" => 1, \"splitter\" => \"best\", \"criterion\" => \"gini\", \"min_samples_split\" => 2) Accuracy: 0.3809828701438388 Fscore: 0.29393172492269126\n",
      "Parameters: Dict{Any, Any}(\"max_depth\" => 6, \"random_state\" => 1, \"splitter\" => \"best\", \"criterion\" => \"gini\", \"min_samples_split\" => 2) Accuracy: 0.3951719905618575 Fscore: 0.3000097701633223\n",
      "Parameters: Dict{Any, Any}(\"max_depth\" => 7, \"random_state\" => 1, \"splitter\" => \"best\", \"criterion\" => \"gini\", \"min_samples_split\" => 2) Accuracy: 0.3927868609766752 Fscore: 0.3194640953156628\n",
      "Parameters: Dict{Any, Any}(\"max_depth\" => 8, \"random_state\" => 1, \"splitter\" => \"best\", \"criterion\" => \"gini\", \"min_samples_split\" => 2) Accuracy: 0.3901532384191456 Fscore: 0.31788857748332566\n",
      "Parameters: Dict{Any, Any}(\"max_depth\" => 9, \"random_state\" => 1, \"splitter\" => \"best\", \"criterion\" => \"gini\", \"min_samples_split\" => 2) Accuracy: 0.3863226412154027 Fscore: 0.32194967482682046\n",
      "Parameters: Dict{Any, Any}(\"max_depth\" => 6, \"random_state\" => 1, \"splitter\" => \"random\", \"criterion\" => \"gini\", \"min_samples_split\" => 2) Accuracy: 0.38020878528552937 Fscore: 0.2792800809033206\n",
      "Parameters: Dict{Any, Any}(\"max_depth\" => 6, \"random_state\" => 1, \"splitter\" => \"best\", \"criterion\" => \"gini\", \"min_samples_split\" => 4) Accuracy: 0.3951719905618575 Fscore: 0.3000097701633223\n",
      "Parameters: Dict{Any, Any}(\"max_depth\" => 6, \"random_state\" => 1, \"splitter\" => \"best\", \"criterion\" => \"gini\", \"min_samples_split\" => 3) Accuracy: 0.3951719905618575 Fscore: 0.3000097701633223\n",
      "Parameters: Dict{Any, Any}(\"max_depth\" => 6, \"random_state\" => 1, \"splitter\" => \"best\", \"criterion\" => \"gini\", \"min_samples_split\" => 5) Accuracy: 0.3951719905618575 Fscore: 0.3000097701633223\n",
      "//////////////////////////////////////////\n",
      "Best parameters: Dict{Any, Any}(\"max_depth\" => 6, \"random_state\" => 1, \"splitter\" => \"best\", \"criterion\" => \"gini\", \"min_samples_split\" => 2) Best accuracy: 0.3951719905618575\n",
      "Test: Accuracy: 0.39464385344987907 Error rate: 0.6053561465501209 Sensitivity: 0.3156085911523712 Specificity rate: 0.9047001794698204 FScore: 0.30040608471430913\n",
      "Tot: 5377 Ok: 2122 Acc: 0.3946438534498791\n"
     ]
    }
   ],
   "source": [
    "# Run the test case for Decision Tree model\n",
    "if RUN_DT_TEST\n",
    "    test_DT_Model(train_input, train_output, test_input, test_output, kFoldIndices, UPDATE_FILE, DT_FILE_PATH)\n",
    "end"
   ]
  },
  {
   "cell_type": "code",
   "execution_count": 15,
   "id": "77a9c09f",
   "metadata": {},
   "outputs": [
    {
     "name": "stdout",
     "output_type": "stream",
     "text": [
      "Test results for KNN model: \n",
      "Parameters: Dict{Any, Any}(\"n_neighbors\" => 3, \"metric\" => \"nan_euclidean\", \"weights\" => \"uniform\") Accuracy: 0.3109185508144868 Fscore: 0.29249636917829636\n",
      "Parameters: Dict{Any, Any}(\"n_neighbors\" => 2, \"metric\" => \"nan_euclidean\", \"weights\" => \"uniform\") Accuracy: 0.28780936566523896 Fscore: 0.2625364079246324\n",
      "Parameters: Dict{Any, Any}(\"n_neighbors\" => 1, \"metric\" => \"nan_euclidean\", \"weights\" => \"uniform\") Accuracy: 0.28503276145974055 Fscore: 0.2741920229935021\n",
      "Parameters: Dict{Any, Any}(\"n_neighbors\" => 5, \"metric\" => \"nan_euclidean\", \"weights\" => \"uniform\") Accuracy: 0.34734598479564216 Fscore: 0.3150625765818593\n",
      "Parameters: Dict{Any, Any}(\"n_neighbors\" => 7, \"metric\" => \"nan_euclidean\", \"weights\" => \"uniform\") Accuracy: 0.3617033874435635 Fscore: 0.3203798143749458\n",
      "Parameters: Dict{Any, Any}(\"n_neighbors\" => 10, \"metric\" => \"nan_euclidean\", \"weights\" => \"uniform\") Accuracy: 0.3781196540675367 Fscore: 0.32801742145043744\n",
      "Parameters: Dict{Any, Any}(\"n_neighbors\" => 20, \"metric\" => \"nan_euclidean\", \"weights\" => \"uniform\") Accuracy: 0.3998901028691872 Fscore: 0.33474504492490237\n",
      "Parameters: Dict{Any, Any}(\"n_neighbors\" => 50, \"metric\" => \"nan_euclidean\", \"weights\" => \"uniform\") Accuracy: 0.4069766702272809 Fscore: 0.32876108832921364\n",
      "Parameters: Dict{Any, Any}(\"n_neighbors\" => 60, \"metric\" => \"nan_euclidean\", \"weights\" => \"uniform\") Accuracy: 0.40665578335327945 Fscore: 0.3257455747322731\n",
      "Parameters: Dict{Any, Any}(\"n_neighbors\" => 70, \"metric\" => \"nan_euclidean\", \"weights\" => \"uniform\") Accuracy: 0.40753029749399783 Fscore: 0.3242203421526516\n",
      "Parameters: Dict{Any, Any}(\"n_neighbors\" => 80, \"metric\" => \"nan_euclidean\", \"weights\" => \"uniform\") Accuracy: 0.40633490335299055 Fscore: 0.32114078962582204\n",
      "Parameters: Dict{Any, Any}(\"n_neighbors\" => 100, \"metric\" => \"nan_euclidean\", \"weights\" => \"uniform\") Accuracy: 0.40705426077448104 Fscore: 0.32010833189443827\n",
      "Parameters: Dict{Any, Any}(\"n_neighbors\" => 70, \"metric\" => \"nan_euclidean\", \"weights\" => \"distance\") Accuracy: 0.37246149767618203 Fscore: 0.31171017226097086\n",
      "Parameters: Dict{Any, Any}(\"n_neighbors\" => 70, \"metric\" => \"minkowski\", \"weights\" => \"uniform\") Accuracy: 0.4074506812901803 Fscore: 0.32399370253774923\n",
      "//////////////////////////////////////////\n",
      "Best parameters: Dict{Any, Any}(\"n_neighbors\" => 70, \"metric\" => \"nan_euclidean\", \"weights\" => \"uniform\") Best accuracy: 0.40753029749399783\n",
      "Test: Accuracy: 0.4015250139482983 Sensitivity: 0.3309356602375906 Specificity rate: 0.9062901996875259 FScore: 0.31953330965772575\n",
      "Tot: 5377 Ok: 2159 Acc: 0.4015250139482983\n"
     ]
    }
   ],
   "source": [
    "# Run the test case for K-Nearest Neighbor model\n",
    "if RUN_KNN_TEST\n",
    "    test_KNN_Model(train_input, train_output, test_input, test_output, kFoldIndices, UPDATE_FILE, KNN_FILE_PATH)\n",
    "end"
   ]
  },
  {
   "cell_type": "code",
   "execution_count": 16,
   "id": "b68b0e09",
   "metadata": {},
   "outputs": [
    {
     "name": "stdout",
     "output_type": "stream",
     "text": [
      "Parameters: Dict{Any, Any}(\"maxEpochs\" => 1000, \"learningRate\" => 0.01, \"topology\" => (8, 8, 8), \"validationRatio\" => 0.0, \"activation\" => \"relu\") Accuracy: 0.3996553099754661 Fscore: 0.3018327712413336\n",
      "Parameters: Dict{Any, Any}(\"maxEpochs\" => 1000, \"learningRate\" => 0.01, \"topology\" => (16, 12, 8), \"validationRatio\" => 0.0, \"activation\" => \"relu\") Accuracy: 0.41128398284638645 Fscore: 0.32925646285095966\n",
      "Parameters: Dict{Any, Any}(\"maxEpochs\" => 1000, \"learningRate\" => 0.01, \"topology\" => (32, 16, 8), \"validationRatio\" => 0.0, \"activation\" => \"relu\") Accuracy: 0.4135036144186244 Fscore: 0.33032371065991273\n",
      "Parameters: Dict{Any, Any}(\"maxEpochs\" => 1000, \"learningRate\" => 0.01, \"topology\" => (16, 4, 8), \"validationRatio\" => 0.0, \"activation\" => \"relu\") Accuracy: 0.40126693414786396 Fscore: 0.29658121230729695\n",
      "Parameters: Dict{Any, Any}(\"maxEpochs\" => 1000, \"learningRate\" => 0.01, \"topology\" => (24, 16, 8), \"validationRatio\" => 0.0, \"activation\" => \"relu\") Accuracy: 0.4124082828345168 Fscore: 0.32997517641908425\n",
      "Parameters: Dict{Any, Any}(\"maxEpochs\" => 1000, \"learningRate\" => 0.01, \"topology\" => (32, 24, 16, 8), \"validationRatio\" => 0.0, \"activation\" => \"relu\") Accuracy: 0.40635770761262185 Fscore: 0.3206502135432914\n",
      "Parameters: Dict{Any, Any}(\"maxEpochs\" => 1000, \"learningRate\" => 0.01, \"topology\" => (64, 32, 16, 8), \"validationRatio\" => 0.0, \"activation\" => \"relu\") Accuracy: 0.41607709666017545 Fscore: 0.33720965309915385\n",
      "Parameters: Dict{Any, Any}(\"maxEpochs\" => 1000, \"learningRate\" => 0.01, \"topology\" => (20, 16, 12, 8), \"validationRatio\" => 0.0, \"activation\" => \"relu\") Accuracy: 0.40937692868575315 Fscore: 0.3192597216270156\n",
      "Parameters: Dict{Any, Any}(\"maxEpochs\" => 1000, \"learningRate\" => 0.01, \"topology\" => (8, 8, 8, 8), \"validationRatio\" => 0.0, \"activation\" => \"relu\") Accuracy: 0.39725560986776404 Fscore: 0.283295710909756\n",
      "Parameters: Dict{Any, Any}(\"maxEpochs\" => 1000, \"learningRate\" => 0.01, \"topology\" => (64, 32, 24, 16, 8), \"validationRatio\" => 0.0, \"activation\" => \"relu\") Accuracy: 0.4175098316644717 Fscore: 0.33464092140962437\n",
      "Parameters: Dict{Any, Any}(\"maxEpochs\" => 1000, \"learningRate\" => 0.1, \"topology\" => (64, 32, 24, 16, 8), \"validationRatio\" => 0.0, \"activation\" => \"relu\") Accuracy: 0.32636063435787993 Fscore: 0.15468732277537559\n",
      "Parameters: Dict{Any, Any}(\"maxEpochs\" => 1000, \"learningRate\" => 0.001, \"topology\" => (64, 32, 24, 16, 8), \"validationRatio\" => 0.0, \"activation\" => \"relu\") Accuracy: 0.409137801754168 Fscore: 0.3173987840506716\n",
      "//////////////////////////////////////////\n",
      "Best parameters: Dict{Any, Any}(\"maxEpochs\" => 1000, \"learningRate\" => 0.01, \"topology\" => (64, 32, 24, 16, 8), \"validationRatio\" => 0.0, \"activation\" => \"relu\") Best accuracy: 0.4175098316644717\n",
      "Test: Accuracy: 0.41584526687744094 Sensitivity: 0.3548874124020569 Specificity rate: 0.9088442355438349 FScore: 0.3300271949746883\n",
      "Tot: 5377 Ok: 2236 Acc: 0.41584526687744094\n"
     ]
    }
   ],
   "source": [
    "# Run the test case for Multi-layer Perceptron model\n",
    "if RUN_MLP_TEST\n",
    "    test_MLP_Model(train_input, train_output, test_input, test_output, kFoldIndices, UPDATE_FILE, MLP_FILE_PATH)\n",
    "end"
   ]
  },
  {
   "cell_type": "code",
   "execution_count": 17,
   "id": "729c7c44",
   "metadata": {},
   "outputs": [
    {
     "name": "stdout",
     "output_type": "stream",
     "text": [
      "Test results for GB model: \n",
      "Parameters: Dict{Any, Any}() Accuracy: 0.35972001138880694 Fscore: 0.2963248151549114\n",
      "//////////////////////////////////////////\n",
      "Best parameters: Dict{Any, Any}() Best accuracy: 0.35972001138880694\n",
      "Test: Accuracy: 0.36470150641621724 Sensitivity: 0.3389075470404528 Specificity rate: 0.9049433103025836 FScore: 0.29540609983893595\n",
      "Tot: 5377 Ok: 1961 Acc: 0.36470150641621724\n"
     ]
    }
   ],
   "source": [
    "# Run the test case for Gaussian Naive Bayes model\n",
    "if RUN_GB_TEST\n",
    "    test_GB_Model(train_input, train_output, test_input, test_output, kFoldIndices, UPDATE_FILE, GB_FILE_PATH)\n",
    "end"
   ]
  },
  {
   "cell_type": "code",
   "execution_count": 18,
   "id": "c1b006ef",
   "metadata": {},
   "outputs": [
    {
     "name": "stdout",
     "output_type": "stream",
     "text": [
      "Test results for LR model: \n",
      "Parameters: Dict{Any, Any}(\"max_iter\" => 1000, \"multi_class\" => \"multinomial\") Accuracy: 0.4066647970835507 Fscore: 0.3261618555880831\n",
      "Parameters: Dict{Any, Any}(\"max_iter\" => 2000, \"multi_class\" => \"multinomial\") Accuracy: 0.4066647970835507 Fscore: 0.3261618555880831\n",
      "Parameters: Dict{Any, Any}(\"max_iter\" => 800, \"multi_class\" => \"multinomial\") Accuracy: 0.4066647970835507 Fscore: 0.3261618555880831\n",
      "Parameters: Dict{Any, Any}(\"max_iter\" => 500, \"multi_class\" => \"multinomial\") Accuracy: 0.4066647970835507 Fscore: 0.3261618555880831\n",
      "//////////////////////////////////////////\n",
      "Best parameters: Dict{Any, Any}(\"max_iter\" => 1000, \"multi_class\" => \"multinomial\") Best accuracy: 0.4066647970835507\n",
      "Test: Accuracy: 0.40654640133903663 Sensitivity: 0.34275728535898115 Specificity rate: 0.9071324615350144 FScore: 0.32473739612835734\n",
      "Tot: 5377 Ok: 2186 Acc: 0.40654640133903663\n"
     ]
    }
   ],
   "source": [
    "# Run the test case for Logistic Regression model\n",
    "if RUN_LR_TEST\n",
    "    test_LR_Model(train_input, train_output, test_input, test_output, kFoldIndices, UPDATE_FILE, LR_FILE_PATH)\n",
    "end"
   ]
  },
  {
   "cell_type": "code",
   "execution_count": 19,
   "id": "70c44313",
   "metadata": {},
   "outputs": [
    {
     "name": "stdout",
     "output_type": "stream",
     "text": [
      "Test results for NC model: \n",
      "Parameters: Dict{Any, Any}() Accuracy: 0.32900885861454465 Fscore: 0.28638589655828994\n",
      "//////////////////////////////////////////\n",
      "Best parameters: Dict{Any, Any}() Best accuracy: 0.32900885861454465\n",
      "Test: Accuracy: 0.33327134089641064 Sensitivity: 0.34278435406991037 Specificity rate: 0.903170348041426 FScore: 0.28781542467962634\n",
      "Tot: 5377 Ok: 1792 Acc: 0.33327134089641064\n"
     ]
    }
   ],
   "source": [
    "# Run the test case for Nearest centroid model\n",
    "if RUN_NC_TEST\n",
    "    test_NC_Model(train_input, train_output, test_input, test_output, kFoldIndices, UPDATE_FILE, NC_FILE_PATH)\n",
    "end"
   ]
  },
  {
   "cell_type": "code",
   "execution_count": 20,
   "id": "5adf4c21",
   "metadata": {},
   "outputs": [
    {
     "name": "stdout",
     "output_type": "stream",
     "text": [
      "Test results for RN model: \n",
      "Parameters: Dict{Any, Any}() Accuracy: 0.3208199101305804 Fscore: 0.12774313349970054\n",
      "//////////////////////////////////////////\n",
      "Best parameters: Dict{Any, Any}() Best accuracy: 0.3208199101305804\n",
      "Test: Accuracy: 0.31653338292728284 Sensitivity: 0.18408523340849461 Specificity rate: 0.8847537718666479 FScore: 0.12648380808891338\n",
      "Tot: 5377 Ok: 1702 Acc: 0.3165333829272829\n"
     ]
    }
   ],
   "source": [
    "# Run the test case for Radius Neighbors model\n",
    "if RUN_RN_TEST\n",
    "    test_RN_Model(train_input, train_output, test_input, test_output, kFoldIndices, UPDATE_FILE, RN_FILE_PATH)\n",
    "end"
   ]
  },
  {
   "cell_type": "code",
   "execution_count": 21,
   "id": "9c94c297",
   "metadata": {},
   "outputs": [
    {
     "name": "stdout",
     "output_type": "stream",
     "text": [
      "Test results for RC model: \n",
      "Parameters: Dict{Any, Any}() Accuracy: 0.38952966068750655 Fscore: 0.26842682400929085\n",
      "//////////////////////////////////////////\n",
      "Best parameters: Dict{Any, Any}() Best accuracy: 0.38952966068750655\n",
      "Test: Accuracy: 0.39185419378835784 Sensitivity: 0.30658590597688556 Specificity rate: 0.9035209226845062 FScore: 0.27596552328200097\n",
      "Tot: 5377 Ok: 2107 Acc: 0.39185419378835784\n"
     ]
    }
   ],
   "source": [
    "# Run the test case for Ridge Regression model\n",
    "if RUN_RC_TEST\n",
    "    test_RC_Model(train_input, train_output, test_input, test_output, kFoldIndices, UPDATE_FILE, RC_FILE_PATH)\n",
    "end"
   ]
  }
 ],
 "metadata": {
  "kernelspec": {
   "display_name": "Julia 1.8.1",
   "language": "julia",
   "name": "julia-1.8"
  },
  "language_info": {
   "file_extension": ".jl",
   "mimetype": "application/julia",
   "name": "julia",
   "version": "1.8.1"
  }
 },
 "nbformat": 4,
 "nbformat_minor": 5
}
