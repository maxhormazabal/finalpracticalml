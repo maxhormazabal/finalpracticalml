{
 "cells": [
  {
   "cell_type": "markdown",
   "id": "d5dd4668",
   "metadata": {},
   "source": [
    "# Model definitions and testing"
   ]
  },
  {
   "cell_type": "markdown",
   "id": "4a8f73db",
   "metadata": {},
   "source": [
    "# Imports and declarations\n",
    "\n",
    "This section contains all imports and declarations"
   ]
  },
  {
   "cell_type": "code",
   "execution_count": 1,
   "id": "bb069517",
   "metadata": {},
   "outputs": [],
   "source": [
    "# The next packages must be installed to run the solution\n",
    "import Pkg; \n",
    "#Pkg.add(\"Flux\")\n",
    "#Pkg.add(\"RDatasets\")\n",
    "#Pkg.add(\"FeatureSelectors\")\n",
    "#Pkg.add(\"ScikitLearn\"))\n",
    "#Pkg.add(\"WeightedPCA\"))\n",
    "#Pkg.add(\"BetaML\")\n",
    "# Packages used To store and load models in and from disk\n",
    "# Pkg.add(\"JLD\")\n",
    "# Pkg.add(\"HDF5\")\n",
    "# Pkg.add(\"PyCallJLD\")\n",
    "# Package use to count distribution\n",
    "# Pkg.add(\"DataStructures\")\n",
    "# Pkg.add(\"MLDataPattern\")"
   ]
  },
  {
   "cell_type": "code",
   "execution_count": 2,
   "id": "c20dbb46",
   "metadata": {},
   "outputs": [],
   "source": [
    "# Import libraries\n",
    "using Flux\n",
    "using Flux.Losses\n",
    "using DelimitedFiles\n",
    "using Statistics\n",
    "using Random\n",
    "using ScikitLearn\n",
    "using RDatasets\n",
    "using FeatureSelectors\n",
    "using JLD\n",
    "using PyCallJLD\n",
    "using DataStructures\n",
    "using MLDataPattern"
   ]
  },
  {
   "cell_type": "code",
   "execution_count": 3,
   "id": "4eb0c717",
   "metadata": {},
   "outputs": [
    {
     "data": {
      "text/plain": [
       "PyObject <class 'sklearn.decomposition._pca.PCA'>"
      ]
     },
     "execution_count": 3,
     "metadata": {},
     "output_type": "execute_result"
    }
   ],
   "source": [
    "# Import ScikitLearn models\n",
    "@sk_import svm:SVC\n",
    "@sk_import tree:DecisionTreeClassifier\n",
    "@sk_import linear_model:LogisticRegression\n",
    "@sk_import neighbors: KNeighborsClassifier\n",
    "@sk_import naive_bayes:GaussianNB \n",
    "@sk_import ensemble:VotingClassifier\n",
    "@sk_import ensemble:StackingClassifier\n",
    "@sk_import ensemble:BaggingClassifier\n",
    "@sk_import decomposition:PCA"
   ]
  },
  {
   "cell_type": "code",
   "execution_count": 4,
   "id": "0f5166c4",
   "metadata": {},
   "outputs": [
    {
     "data": {
      "text/plain": [
       "loadModel (generic function with 1 method)"
      ]
     },
     "execution_count": 4,
     "metadata": {},
     "output_type": "execute_result"
    }
   ],
   "source": [
    "# Legacy code done in previous practices\n",
    "include(\"utils/practices_code.jl\")\n",
    "# Class that handle the model processing\n",
    "include(\"utils/model_handler.jl\")"
   ]
  },
  {
   "cell_type": "code",
   "execution_count": 5,
   "id": "2d6167a8",
   "metadata": {},
   "outputs": [
    {
     "data": {
      "text/plain": [
       "20"
      ]
     },
     "execution_count": 5,
     "metadata": {},
     "output_type": "execute_result"
    }
   ],
   "source": [
    "# Constants\n",
    "# Execute model test set\n",
    "RUN_ANN_TEST = false\n",
    "RUN_SVM_TEST = false\n",
    "RUN_DT_TEST = true\n",
    "RUN_KNN_TEST = true\n",
    "ANN_FILE_PATH = \"dataset/models/ann.jld\"\n",
    "ANN_DEFAULT_TRANSFER_FUNCTION=sigmoid\n",
    "SVM_FILE_PATH = \"dataset/models/svm.jld\"\n",
    "DT_FILE_PATH = \"dataset/models/dt.jld\"\n",
    "KNN_FILE_PATH = \"dataset/models/knn.jld\"\n",
    "UPDATE_FILE = false\n",
    "ORIGINAL_DATASET = \"dataset/music_genre.csv\"\n",
    "CLEAN_DATASET = \"dataset/clean_music_genre.csv\"\n",
    "NUMERIC_CLEAN_DATASET = \"dataset/numeric_clean_music_genre.csv\"\n",
    "KBEST_DATASET = \"dataset/kbest_df.csv\"\n",
    "CONVERT_STRING=true\n",
    "ONE_HOT_ENCODING_OUTPUT=false\n",
    "NORMALIZE_MIN_MAX=true\n",
    "USE_OVER_SAMPLE=true\n",
    "USE_UNDER_SAMPLE=false\n",
    "USE_PCA=false\n",
    "PCA_CONFIG=0.95\n",
    "HOLD_OUT=0.3\n",
    "NUM_FOLDS=20\n",
    "\n",
    "Random.seed!(2)"
   ]
  },
  {
   "cell_type": "markdown",
   "id": "418bdbe7",
   "metadata": {},
   "source": [
    "# Data preprocessing\n",
    "\n",
    "This section contains the preprocessing of the data"
   ]
  },
  {
   "cell_type": "code",
   "execution_count": 6,
   "id": "44543d00",
   "metadata": {},
   "outputs": [
    {
     "name": "stdout",
     "output_type": "stream",
     "text": [
      "Dataset original size: (17924, 13)\n",
      "Sample of original dataset: Any[52.2, 0.854, 0.564, 12.18585911937475, 0.0171, 0.899, 134.071, 234.596, 1, 0, 0.03404, 0.00965882, 5]\n",
      "17924\n",
      "13\n",
      "Inputs size: (17923, 12)\n",
      "Sample of inputs: Any[52.2, 0.854, 0.564, 12.18585911937475, 0.0171, 0.899, 134.071, 234.596, 1, 0, 0.03404, 0.00965882]\n",
      "Sample of inputs: Any[54.0, 0.382, 0.814, 13.58626223890115, 0.0011, 0.569, 116.454, 251.733, 0, 0, 0.0406, 0.00401]\n",
      "Outputs size: (17923,)\n",
      "Sample of Outputs: 5\n",
      "Sample of Outputs: 10\n"
     ]
    }
   ],
   "source": [
    "# Load the dataset and normalize\n",
    "dataset = readdlm(KBEST_DATASET,',');\n",
    "\n",
    "println(\"Dataset original size: \", size(dataset))\n",
    "println(\"Sample of original dataset: \", dataset[2,:])\n",
    "\n",
    "println(size(dataset,1))\n",
    "println(size(dataset,2))\n",
    "\n",
    "# Separate train_x and train_y\n",
    "train_x = dataset[2:size(dataset,1),1:size(dataset,2)-1]\n",
    "train_y = dataset[2:size(dataset,1),size(dataset,2)]\n",
    "\n",
    "# Convert to string the output classes\n",
    "if CONVERT_STRING\n",
    "    train_y = string.(train_y)\n",
    "end\n",
    "\n",
    "# Convert to one hot encoding the output classes\n",
    "if ONE_HOT_ENCODING_OUTPUT\n",
    "    train_y = oneHotEncoding(train_y)\n",
    "end\n",
    "\n",
    "println(\"Inputs size: \", size(train_x))\n",
    "println(\"Sample of inputs: \", train_x[1,:])\n",
    "println(\"Sample of inputs: \", train_x[2,:])\n",
    "println(\"Outputs size: \", size(train_y))\n",
    "println(\"Sample of Outputs: \", train_y[1])\n",
    "println(\"Sample of Outputs: \", train_y[2])"
   ]
  },
  {
   "cell_type": "code",
   "execution_count": 7,
   "id": "6bf4bcf1",
   "metadata": {},
   "outputs": [
    {
     "name": "stdout",
     "output_type": "stream",
     "text": [
      "Size original input data: (17923, 12)\n",
      "Size original output data: (17923,)\n",
      "Size train input data: (12546, 12)\n",
      "Size train output data: (12546,)\n",
      "Size test input data: (5377, 12)\n",
      "Size test output data: (5377,)\n",
      "Sample original input data: Any[52.2, 0.854, 0.564, 12.18585911937475, 0.0171, 0.899, 134.071, 234.596, 1, 0, 0.03404, 0.00965882]\n",
      "Sample train input data: [0.425531914893617, 0.40587665482725216, 0.8199963459258223, 0.7153069110103181, 0.07931726907630522, 0.6350440642820114, 0.4095655012603085, 0.12278214427098692, 0.0, 0.0, 0.056723716381418085, 4.943685786840785e-5]\n",
      "Sample test input data: [0.29896907216494845, 0.8254553339115351, 0.5820763888192906, 0.7788889689146599, 0.13353413654618473, 0.8923060992026509, 0.344533493335619, 0.10596919580502202, 0.0, 0.0, 0.1945945945945946, 0.000486846672985156]\n",
      "Unique Outputs: [\"5\", \"10\", \"6\", \"2\", \"Other\", \"8\", \"9\", \"1\"]\n"
     ]
    }
   ],
   "source": [
    "# Using Hold Out function to split dataset into train and test\n",
    "indexs = holdOut(size(train_x,1),HOLD_OUT)\n",
    "\n",
    "train_input = train_x[indexs[1],:]\n",
    "train_output = vec(train_y[indexs[1],:])\n",
    "\n",
    "test_input = train_x[indexs[2],:]\n",
    "test_output = vec(train_y[indexs[2],:])\n",
    "\n",
    "#normalization after splitting, so test data cannot affect the train data and the first touch between them should be in predictions.\n",
    "if NORMALIZE_MIN_MAX\n",
    "    train_input = normalizeMinMax!(train_input)\n",
    "    test_input = normalizeMinMax!(test_input)\n",
    "end\n",
    "\n",
    "println(\"Size original input data: \", size(train_x))\n",
    "println(\"Size original output data: \", size(train_y))\n",
    "\n",
    "println(\"Size train input data: \", size(train_input))\n",
    "println(\"Size train output data: \", size(train_output))\n",
    "\n",
    "println(\"Size test input data: \", size(test_input))\n",
    "println(\"Size test output data: \", size(test_output))\n",
    "\n",
    "println(\"Sample original input data: \", train_x[1,:])\n",
    "println(\"Sample train input data: \", train_input[1,:])\n",
    "println(\"Sample test input data: \", test_input[1,:])\n",
    "\n",
    "println(\"Unique Outputs: \", unique(train_y))"
   ]
  },
  {
   "cell_type": "code",
   "execution_count": 8,
   "id": "6c3feb7e",
   "metadata": {},
   "outputs": [],
   "source": [
    "if USE_OVER_SAMPLE\n",
    "    println(\"Inputs size: \", size(train_input))\n",
    "    println(\"Outputs size: \", size(train_output))\n",
    "\n",
    "    balanced_x, balanced_y = oversample((train_input', train_output))\n",
    "\n",
    "    println(\"Outputs Values: \", unique(train_output))\n",
    "    println(\"Before balance:\", counter(train_output))\n",
    "\n",
    "    train_input = getobs(balanced_x')\n",
    "    train_output = getobs(balanced_y)\n",
    "\n",
    "    println(\"After balance:\", counter(train_output))\n",
    "end"
   ]
  },
  {
   "cell_type": "code",
   "execution_count": 9,
   "id": "4335aea8",
   "metadata": {},
   "outputs": [],
   "source": [
    "if USE_UNDER_SAMPLE\n",
    "    println(\"Inputs size: \", size(train_input))\n",
    "    println(\"Outputs size: \", size(train_output))\n",
    "\n",
    "    balanced_x, balanced_y = undersample((train_input', train_output))\n",
    "\n",
    "    println(\"Outputs Values: \", unique(train_output))\n",
    "    println(\"Before balance:\", counter(train_output))\n",
    "\n",
    "    train_input = getobs(balanced_x')\n",
    "    train_output = getobs(balanced_y)\n",
    "\n",
    "    println(\"After balance:\", counter(train_output))\n",
    "end"
   ]
  },
  {
   "cell_type": "code",
   "execution_count": 10,
   "id": "7dd11ef1",
   "metadata": {},
   "outputs": [
    {
     "name": "stdout",
     "output_type": "stream",
     "text": [
      "Train Patterns (12546, 12) -> (12546, 5)\n",
      "Test Patterns (5377, 12) -> (5377, 5)\n"
     ]
    },
    {
     "data": {
      "text/plain": [
       "5377×5 Matrix{Float64}:\n",
       " -0.171796   -0.056605    -0.464096    0.174088    0.0320326\n",
       "  0.0106405  -0.09123      0.0073119  -0.126205    0.0416079\n",
       " -0.209778    0.863273     0.26076    -0.269204    0.708374\n",
       " -0.314246    0.837882     0.394352    1.01161     0.0398577\n",
       " -0.211448   -0.10677      0.0270312  -0.0808884  -0.140055\n",
       " -0.0804014  -0.105689     0.187982   -0.198244   -0.215803\n",
       " -0.180218   -0.0902293   -0.294976    0.122275   -0.0231247\n",
       " -0.232463   -0.161314     0.424478   -0.213689   -0.265663\n",
       " -0.445056   -0.160659     0.143315    0.0174689  -0.148558\n",
       "  0.393072   -0.0114902   -0.448346    0.0183927   0.0863227\n",
       " -0.28299    -0.136271     0.266036   -0.154685   -0.231336\n",
       " -0.16951    -0.151537     0.396659   -0.278824    0.0919413\n",
       " -0.206902   -0.0909402   -0.304758    0.0949419   0.20408\n",
       "  ⋮                                               \n",
       " -0.283803   -0.0966623   -0.23401     0.0869484  -0.0159757\n",
       " -0.144627   -0.0773172   -0.158158    0.0597318  -0.144329\n",
       "  0.51555     0.00781022  -0.565196    0.0590822  -0.0627037\n",
       "  0.0786731  -0.058052    -0.187974   -0.0579138   0.0960864\n",
       " -0.2966     -0.0800564   -0.382341    0.170406    0.0600275\n",
       " -0.321667   -0.0896694   -0.335482    0.164905   -0.000966778\n",
       "  0.865362   -0.0489504    0.230555   -0.450543    0.283194\n",
       "  0.371918   -0.0330237   -0.496904    0.118551    0.190509\n",
       "  0.066163   -0.0771      -0.162158    0.0311564  -0.117627\n",
       " -0.213831   -0.0864011   -0.286271    0.105594   -0.00632342\n",
       " -0.40571    -0.125782    -0.122566    0.0948653  -0.0252155\n",
       "  0.232432   -0.0806516    0.0496266  -0.199489    0.119292"
      ]
     },
     "execution_count": 10,
     "metadata": {},
     "output_type": "execute_result"
    }
   ],
   "source": [
    "# Apply Principal Component Analysis\n",
    "if USE_PCA\n",
    "    pca = PCA(PCA_CONFIG)\n",
    "    fit!(pca, train_input)\n",
    "\n",
    "    pca_train = pca.transform(train_input)\n",
    "    pca_test = pca.transform(test_input)\n",
    "\n",
    "    println(\"Train Patterns \", size(train_input), \" -> \", size(pca_train))\n",
    "    println(\"Test Patterns \", size(test_input), \" -> \", size(pca_test))\n",
    "\n",
    "    train_input = pca_train\n",
    "    test_input = pca_test\n",
    "\n",
    "    # PCA based on 95% variance, suggests that there are 5 features have noise and should be eliminated\n",
    "    # from the input data, it's worth to try apply it and compare, maybe after finding the optimaal\n",
    "    # parameters of the model\n",
    "end"
   ]
  },
  {
   "cell_type": "code",
   "execution_count": 11,
   "id": "66278936",
   "metadata": {},
   "outputs": [
    {
     "name": "stdout",
     "output_type": "stream",
     "text": [
      "(12546,)\n"
     ]
    }
   ],
   "source": [
    "indexs = crossvalidation(train_output, NUM_FOLDS)\n",
    "kFoldIndices = convert(Vector{Int64}, indexs)\n",
    "\n",
    "println(size(kFoldIndices))"
   ]
  },
  {
   "cell_type": "markdown",
   "id": "221f9e00",
   "metadata": {},
   "source": [
    "# Model experimentation\n",
    "\n",
    "This section contains all experimentation of the models"
   ]
  },
  {
   "cell_type": "code",
   "execution_count": 12,
   "id": "23a05b0a",
   "metadata": {},
   "outputs": [],
   "source": [
    "if RUN_ANN_TEST\n",
    "    test_ANN_Model(train_input, train_output, test_input, test_output, kFoldIndices, ANN_DEFAULT_TRANSFER_FUNCTION, UPDATE_FILE, ANN_FILE_PATH)\n",
    "end"
   ]
  },
  {
   "cell_type": "code",
   "execution_count": 13,
   "id": "acb61da5",
   "metadata": {},
   "outputs": [],
   "source": [
    "if RUN_SVM_TEST\n",
    "    test_SVM_Model(train_input, train_output, test_input, test_output, kFoldIndices, UPDATE_FILE, SVM_FILE_PATH)\n",
    "end"
   ]
  },
  {
   "cell_type": "code",
   "execution_count": 14,
   "id": "4be19d34",
   "metadata": {},
   "outputs": [
    {
     "name": "stdout",
     "output_type": "stream",
     "text": [
      "Test results for Decision tree model: \n",
      "Parameters: Dict{Any, Any}(\"max_depth\" => 4, \"random_state\" => 1, \"splitter\" => \"best\", \"criterion\" => \"gini\", \"min_samples_split\" => 2) Accuracy: 0.3377924927102903 Fscore: 0.20736031704998723\n",
      "Parameters: Dict{Any, Any}(\"max_depth\" => 3, \"random_state\" => 1, \"splitter\" => \"best\", \"criterion\" => \"gini\", \"min_samples_split\" => 2) Accuracy: 0.3304514417308031 Fscore: 0.17118180012765377\n",
      "Parameters: Dict{Any, Any}(\"max_depth\" => 2, \"random_state\" => 1, \"splitter\" => \"best\", \"criterion\" => \"gini\", \"min_samples_split\" => 2) Accuracy: 0.3184235848608156 Fscore: 0.11808877691679316\n",
      "Parameters: Dict{Any, Any}(\"max_depth\" => 1, \"random_state\" => 1, \"splitter\" => \"best\", \"criterion\" => \"gini\", \"min_samples_split\" => 2) Accuracy: 0.27506838938921974 Fscore: 0.053932067243248574\n",
      "Parameters: Dict{Any, Any}(\"max_depth\" => 5, \"random_state\" => 1, \"splitter\" => \"best\", \"criterion\" => \"gini\", \"min_samples_split\" => 2) Accuracy: 0.34687919643820797 Fscore: 0.2434871598800939\n",
      "Parameters: Dict{Any, Any}(\"max_depth\" => 6, \"random_state\" => 1, \"splitter\" => \"best\", \"criterion\" => \"gini\", \"min_samples_split\" => 2) Accuracy: 0.34911995472495416 Fscore: 0.26405909637786407\n",
      "Parameters: Dict{Any, Any}(\"max_depth\" => 7, \"random_state\" => 1, \"splitter\" => \"best\", \"criterion\" => \"gini\", \"min_samples_split\" => 2) Accuracy: 0.3491236566686441 Fscore: 0.26768440513748504\n",
      "Parameters: Dict{Any, Any}(\"max_depth\" => 8, \"random_state\" => 1, \"splitter\" => \"best\", \"criterion\" => \"gini\", \"min_samples_split\" => 2) Accuracy: 0.3481631309315913 Fscore: 0.27153778680161633\n",
      "Parameters: Dict{Any, Any}(\"max_depth\" => 9, \"random_state\" => 1, \"splitter\" => \"best\", \"criterion\" => \"gini\", \"min_samples_split\" => 2) Accuracy: 0.3424240108111121 Fscore: 0.26951818759424856\n",
      "Parameters: Dict{Any, Any}(\"max_depth\" => 7, \"random_state\" => 1, \"splitter\" => \"random\", \"criterion\" => \"gini\", \"min_samples_split\" => 2) Accuracy: 0.350152956891414 Fscore: 0.25337474733467763\n",
      "Parameters: Dict{Any, Any}(\"max_depth\" => 7, \"random_state\" => 1, \"splitter\" => \"best\", \"criterion\" => \"gini\", \"min_samples_split\" => 4) Accuracy: 0.34920289355452805 Fscore: 0.26792848230317945\n",
      "Parameters: Dict{Any, Any}(\"max_depth\" => 7, \"random_state\" => 1, \"splitter\" => \"best\", \"criterion\" => \"gini\", \"min_samples_split\" => 3) Accuracy: 0.34920314792460594 Fscore: 0.2678767048614341\n",
      "Parameters: Dict{Any, Any}(\"max_depth\" => 7, \"random_state\" => 1, \"splitter\" => \"best\", \"criterion\" => \"gini\", \"min_samples_split\" => 5) Accuracy: 0.3492837836566782 Fscore: 0.26811016074179894\n",
      "//////////////////////////////////////////\n",
      "Best parameters: Dict{Any, Any}(\"max_depth\" => 7, \"random_state\" => 1, \"splitter\" => \"random\", \"criterion\" => \"gini\", \"min_samples_split\" => 2) Best accuracy: 0.350152956891414\n",
      "Test: Accuracy: 0.34889343500092984 Error rate: 0.6511065649990702 Sensitivity: 0.28737402240940413 Specificity rate: 0.899719371621088 FScore: 0.26161784069078403\n",
      "Tot: 5377 Ok: 1876 Acc: 0.3488934350009299\n"
     ]
    }
   ],
   "source": [
    "if RUN_DT_TEST\n",
    "    test_DT_Model(train_input, train_output, test_input, test_output, kFoldIndices, UPDATE_FILE, DT_FILE_PATH)\n",
    "end"
   ]
  },
  {
   "cell_type": "code",
   "execution_count": 15,
   "id": "77a9c09f",
   "metadata": {},
   "outputs": [
    {
     "name": "stdout",
     "output_type": "stream",
     "text": [
      "Test results for KNN model: \n",
      "Parameters: Dict{Any, Any}(\"n_neighbors\" => 3, \"metric\" => \"nan_euclidean\", \"weights\" => \"uniform\") Accuracy: 0.26670757045405674 Fscore: 0.24314029520716116\n",
      "Parameters: Dict{Any, Any}(\"n_neighbors\" => 2, \"metric\" => \"nan_euclidean\", \"weights\" => \"uniform\") Accuracy: 0.24932006331447504 Fscore: 0.21730451552234736\n",
      "Parameters: Dict{Any, Any}(\"n_neighbors\" => 1, \"metric\" => \"nan_euclidean\", \"weights\" => \"uniform\") Accuracy: 0.24645469427707214 Fscore: 0.232675253421634\n",
      "Parameters: Dict{Any, Any}(\"n_neighbors\" => 5, \"metric\" => \"nan_euclidean\", \"weights\" => \"uniform\") Accuracy: 0.29705949924375985 Fscore: 0.2617266492801572\n",
      "Parameters: Dict{Any, Any}(\"n_neighbors\" => 7, \"metric\" => \"nan_euclidean\", \"weights\" => \"uniform\") Accuracy: 0.3185762116906184 Fscore: 0.2713039643525438\n",
      "Parameters: Dict{Any, Any}(\"n_neighbors\" => 10, \"metric\" => \"nan_euclidean\", \"weights\" => \"uniform\") Accuracy: 0.33491657544331427 Fscore: 0.28271222182566585\n",
      "Parameters: Dict{Any, Any}(\"n_neighbors\" => 20, \"metric\" => \"nan_euclidean\", \"weights\" => \"uniform\") Accuracy: 0.3480008322348279 Fscore: 0.2821956372029954\n",
      "Parameters: Dict{Any, Any}(\"n_neighbors\" => 50, \"metric\" => \"nan_euclidean\", \"weights\" => \"uniform\") Accuracy: 0.3621934355769487 Fscore: 0.2801898599149327\n",
      "Parameters: Dict{Any, Any}(\"n_neighbors\" => 60, \"metric\" => \"nan_euclidean\", \"weights\" => \"uniform\") Accuracy: 0.3625824736008195 Fscore: 0.27761205470028294\n",
      "Parameters: Dict{Any, Any}(\"n_neighbors\" => 70, \"metric\" => \"nan_euclidean\", \"weights\" => \"uniform\") Accuracy: 0.36185623998570354 Fscore: 0.2749356390599683\n",
      "Parameters: Dict{Any, Any}(\"n_neighbors\" => 80, \"metric\" => \"nan_euclidean\", \"weights\" => \"uniform\") Accuracy: 0.3641679691020705 Fscore: 0.27491813941184773\n",
      "Parameters: Dict{Any, Any}(\"n_neighbors\" => 100, \"metric\" => \"nan_euclidean\", \"weights\" => \"uniform\") Accuracy: 0.3631460689678604 Fscore: 0.27025063103662855\n",
      "Parameters: Dict{Any, Any}(\"n_neighbors\" => 80, \"metric\" => \"nan_euclidean\", \"weights\" => \"distance\") Accuracy: 0.32965143464515434 Fscore: 0.2641501717204216\n",
      "Parameters: Dict{Any, Any}(\"n_neighbors\" => 80, \"metric\" => \"minkowski\", \"weights\" => \"uniform\") Accuracy: 0.3640088592022609 Fscore: 0.27499656750787815\n",
      "//////////////////////////////////////////\n",
      "Best parameters: Dict{Any, Any}(\"n_neighbors\" => 80, \"metric\" => \"nan_euclidean\", \"weights\" => \"uniform\") Best accuracy: 0.3641679691020705\n",
      "Test: Accuracy: 0.3606100055793193 Sensitivity: 0.28439696355392347 Specificity rate: 0.8993636901734423 FScore: 0.27310380948386237\n",
      "Tot: 5377 Ok: 1939 Acc: 0.3606100055793193\n"
     ]
    }
   ],
   "source": [
    "if RUN_KNN_TEST\n",
    "    test_KNN_Model(train_input, train_output, test_input, test_output, kFoldIndices, UPDATE_FILE, KNN_FILE_PATH)\n",
    "end"
   ]
  },
  {
   "cell_type": "code",
   "execution_count": 16,
   "id": "21f2b198",
   "metadata": {},
   "outputs": [
    {
     "ename": "LoadError",
     "evalue": "syntax: extra token \"plot\" after end of expression",
     "output_type": "error",
     "traceback": [
      "syntax: extra token \"plot\" after end of expression",
      "",
      "Stacktrace:",
      " [1] top-level scope",
      "   @ In[16]:1",
      " [2] eval",
      "   @ .\\boot.jl:368 [inlined]",
      " [3] include_string(mapexpr::typeof(REPL.softscope), mod::Module, code::String, filename::String)",
      "   @ Base .\\loading.jl:1428"
     ]
    }
   ],
   "source": [
    "#Agregar plot de los test"
   ]
  },
  {
   "cell_type": "markdown",
   "id": "46c56be0",
   "metadata": {},
   "source": [
    "Agregar grilla con todas las pruebas"
   ]
  }
 ],
 "metadata": {
  "kernelspec": {
   "display_name": "Julia 1.8.1",
   "language": "julia",
   "name": "julia-1.8"
  },
  "language_info": {
   "file_extension": ".jl",
   "mimetype": "application/julia",
   "name": "julia",
   "version": "1.8.1"
  }
 },
 "nbformat": 4,
 "nbformat_minor": 5
}
